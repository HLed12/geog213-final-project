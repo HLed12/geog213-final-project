{
 "cells": [
  {
   "cell_type": "code",
   "execution_count": 1,
   "id": "6ebd826e-ee04-4d69-9d53-944590bfd4c9",
   "metadata": {},
   "outputs": [],
   "source": [
    "import matplotlib.pyplot as plt\n",
    "import numpy as np\n",
    "import dask_geopandas as dg"
   ]
  },
  {
   "cell_type": "markdown",
   "id": "6d94024a-bada-483c-a102-1c89b327d699",
   "metadata": {},
   "source": [
    "# ATTENTION:\n",
    "User must follow below instructions and replace the AWS access key and secret access key. This is crucial for the analysis to work."
   ]
  },
  {
   "cell_type": "markdown",
   "id": "7332e0fe-0dc2-4495-90f3-1bc172006b40",
   "metadata": {},
   "source": [
    "##### Utilizing data from: https://source.coop/repositories/wherobots/usa-structures/description"
   ]
  },
  {
   "cell_type": "markdown",
   "id": "a7b0bb02-eecc-47c2-9759-583f67c57341",
   "metadata": {},
   "source": [
    "All data on Source Cooperative, are hosted on AWS S3 bucket. In order to access them, you need credentials that you can generate on Source Cooperative website. Atfer logging in, click on your name at the top right corner, and then click on your username. Then navigate to \"Manage\" page on the left side. At the bottom of this page you will find a section called \"API Keys\". If no key has been generated before, generate a new one and then copy the values for each of the following keys, and paste them in the following cell.\n",
    "\n",
    "source.coop website: https://source.coop/\n",
    "\n",
    "###### Source: https://github.com/github.com/HamedAlemo/vector-data-tutorial/scalable_vector_analysis.ipynb"
   ]
  },
  {
   "cell_type": "code",
   "execution_count": 2,
   "id": "3c8836e8-2b18-4e9e-b27b-de29fde29f67",
   "metadata": {},
   "outputs": [],
   "source": [
    "##################################\n",
    "#   Read Above 'ATTENTION' Note  #\n",
    "##################################\n",
    "\n",
    "AWS_ACCESS_KEY_ID = \"<YOUR ACCESS KEY>\"\n",
    "AWS_SECRET_ACCESS_KEY = \"<YOUR SECRET ACCESS KEY>\""
   ]
  },
  {
   "cell_type": "code",
   "execution_count": 3,
   "id": "a4ff4cad-0828-4441-ae6c-a97e642e141a",
   "metadata": {},
   "outputs": [],
   "source": [
    "import boto3\n",
    "s3_client = boto3.client('s3',\n",
    "                         aws_access_key_id = AWS_ACCESS_KEY_ID, \n",
    "                         aws_secret_access_key = AWS_SECRET_ACCESS_KEY,\n",
    "                         endpoint_url='https://data.source.coop'\n",
    "                        )"
   ]
  },
  {
   "cell_type": "code",
   "execution_count": 4,
   "id": "299f6bda-b00f-4ef0-8e4c-4477a3ccad88",
   "metadata": {},
   "outputs": [
    {
     "name": "stdout",
     "output_type": "stream",
     "text": [
      "http://127.0.0.1:8787/status\n"
     ]
    }
   ],
   "source": [
    "from dask.distributed import Client, LocalCluster\n",
    "cluster = LocalCluster()\n",
    "client = Client(cluster)\n",
    "print(client.dashboard_link)"
   ]
  },
  {
   "cell_type": "markdown",
   "id": "fd44e1d5-9aff-4f63-a211-7a0436b38ecb",
   "metadata": {},
   "source": [
    "##### Local path for downloading the data\n",
    "\n",
    "If running from analysis file within the 'saved'//mounted folder and do NOT wish to save the raw data - delete the\n",
    "first local_path and uncomment (remove #) on the second one"
   ]
  },
  {
   "cell_type": "code",
   "execution_count": null,
   "id": "892320b2-8e2c-499a-8a46-8d480727f016",
   "metadata": {},
   "outputs": [],
   "source": [
    "local_path = \"./data/\" # saves data to machine\n",
    "# local_path =\"/data/\""
   ]
  },
  {
   "cell_type": "code",
   "execution_count": 7,
   "id": "202556a2-ad5c-4c69-b9e0-d025708a8b92",
   "metadata": {},
   "outputs": [],
   "source": [
    "import utils as ut"
   ]
  },
  {
   "cell_type": "markdown",
   "id": "89e3cbce-1c71-40d5-b7a5-e7c9311a9f36",
   "metadata": {},
   "source": [
    "Install time will vary. As of 12/9/2024, the dataset is 10 geoparquets each equating to ~2 Gigabytes. This took ~40 minutes to install on my personal machine:\n",
    "\n",
    "~ 3 Yr Old Laptop\n",
    "\n",
    "Windows 11\n",
    "\n",
    "16 Gb RAM (Docker is limited to 12 Gb)\n",
    "\n",
    "Intel(R) Core(TM) i7-10750H CPU @ 2.60GHz, 2592 Mhz, 6 Core(s), 12 Logical Processor(s)"
   ]
  },
  {
   "cell_type": "code",
   "execution_count": 7,
   "id": "dd1ec936-ca68-4a2b-9beb-6ca04d76ad6d",
   "metadata": {},
   "outputs": [
    {
     "name": "stdout",
     "output_type": "stream",
     "text": [
      "File already exists locally. No download needed.\n",
      "File already exists locally. No download needed.\n",
      "File already exists locally. No download needed.\n",
      "File already exists locally. No download needed.\n",
      "File already exists locally. No download needed.\n",
      "File already exists locally. No download needed.\n",
      "File already exists locally. No download needed.\n",
      "File already exists locally. No download needed.\n",
      "File already exists locally. No download needed.\n",
      "File already exists locally. No download needed.\n"
     ]
    }
   ],
   "source": [
    "structure_ddf = ut.get_US_structures_all(s3_client, local_path, blocksize = \"16M\") #256M is regular block size"
   ]
  },
  {
   "cell_type": "code",
   "execution_count": 8,
   "id": "ecc5e355-277f-4872-8744-129ae262ea75",
   "metadata": {},
   "outputs": [
    {
     "data": {
      "text/html": [
       "<div>\n",
       "<style scoped>\n",
       "    .dataframe tbody tr th:only-of-type {\n",
       "        vertical-align: middle;\n",
       "    }\n",
       "\n",
       "    .dataframe tbody tr th {\n",
       "        vertical-align: top;\n",
       "    }\n",
       "\n",
       "    .dataframe thead th {\n",
       "        text-align: right;\n",
       "    }\n",
       "</style>\n",
       "<table border=\"1\" class=\"dataframe\">\n",
       "  <thead>\n",
       "    <tr style=\"text-align: right;\">\n",
       "      <th></th>\n",
       "      <th>geometry</th>\n",
       "      <th>BUILD_ID</th>\n",
       "      <th>OCC_CLS</th>\n",
       "      <th>PRIM_OCC</th>\n",
       "      <th>SEC_OCC</th>\n",
       "      <th>PROP_ADDR</th>\n",
       "      <th>PROP_CITY</th>\n",
       "      <th>PROP_ST</th>\n",
       "      <th>PROP_ZIP</th>\n",
       "      <th>OUTBLDG</th>\n",
       "      <th>...</th>\n",
       "      <th>USNG</th>\n",
       "      <th>LONGITUDE</th>\n",
       "      <th>LATITUDE</th>\n",
       "      <th>IMAGE_NAME</th>\n",
       "      <th>IMAGE_DATE</th>\n",
       "      <th>VAL_METHOD</th>\n",
       "      <th>REMARKS</th>\n",
       "      <th>UUID</th>\n",
       "      <th>bbox</th>\n",
       "      <th>geohash</th>\n",
       "    </tr>\n",
       "  </thead>\n",
       "  <tbody>\n",
       "    <tr>\n",
       "      <th>0</th>\n",
       "      <td>MULTIPOLYGON (((-170.8292 -14.32645, -170.8292...</td>\n",
       "      <td>12059</td>\n",
       "      <td>Unclassified</td>\n",
       "      <td>Unclassified</td>\n",
       "      <td>None</td>\n",
       "      <td>None</td>\n",
       "      <td>None</td>\n",
       "      <td>American Samoa</td>\n",
       "      <td>None</td>\n",
       "      <td>None</td>\n",
       "      <td>...</td>\n",
       "      <td>02L NK 18412 16164</td>\n",
       "      <td>-170.829258</td>\n",
       "      <td>-14.326434</td>\n",
       "      <td>104001005B4C3F00</td>\n",
       "      <td>2020-05-14</td>\n",
       "      <td>Automated</td>\n",
       "      <td>None</td>\n",
       "      <td>{245aca01-8d02-4340-810e-3872ee35e7ef}</td>\n",
       "      <td>{'xmin': -170.82931163799998, 'ymin': -14.3264...</td>\n",
       "      <td>2jqw2xvymz0vch1</td>\n",
       "    </tr>\n",
       "    <tr>\n",
       "      <th>1</th>\n",
       "      <td>MULTIPOLYGON (((-170.82798 -14.32867, -170.827...</td>\n",
       "      <td>29894</td>\n",
       "      <td>Unclassified</td>\n",
       "      <td>Unclassified</td>\n",
       "      <td>None</td>\n",
       "      <td>None</td>\n",
       "      <td>None</td>\n",
       "      <td>American Samoa</td>\n",
       "      <td>None</td>\n",
       "      <td>None</td>\n",
       "      <td>...</td>\n",
       "      <td>02L NK 18540 15909</td>\n",
       "      <td>-170.828069</td>\n",
       "      <td>-14.328742</td>\n",
       "      <td>NOAA Topographic LiDAR</td>\n",
       "      <td>2013-01-01</td>\n",
       "      <td>Unverified</td>\n",
       "      <td>None</td>\n",
       "      <td>{a46fac03-1829-47a2-b63f-86d4e52700a8}</td>\n",
       "      <td>{'xmin': -170.82815531799997, 'ymin': -14.3288...</td>\n",
       "      <td>2jqw2xwc12zkvd0</td>\n",
       "    </tr>\n",
       "    <tr>\n",
       "      <th>2</th>\n",
       "      <td>MULTIPOLYGON (((-170.82786 -14.3283, -170.8278...</td>\n",
       "      <td>29886</td>\n",
       "      <td>Unclassified</td>\n",
       "      <td>Unclassified</td>\n",
       "      <td>None</td>\n",
       "      <td>None</td>\n",
       "      <td>None</td>\n",
       "      <td>American Samoa</td>\n",
       "      <td>None</td>\n",
       "      <td>None</td>\n",
       "      <td>...</td>\n",
       "      <td>02L NK 18569 15948</td>\n",
       "      <td>-170.827797</td>\n",
       "      <td>-14.328382</td>\n",
       "      <td>NOAA Topographic LiDAR</td>\n",
       "      <td>2013-01-01</td>\n",
       "      <td>Unverified</td>\n",
       "      <td>None</td>\n",
       "      <td>{4c8bb4a4-86e1-4cb2-908c-a367e7dfa525}</td>\n",
       "      <td>{'xmin': -170.82790860099996, 'ymin': -14.3284...</td>\n",
       "      <td>2jqw2xwgpg8y3ej</td>\n",
       "    </tr>\n",
       "    <tr>\n",
       "      <th>3</th>\n",
       "      <td>MULTIPOLYGON (((-170.82747 -14.32844, -170.827...</td>\n",
       "      <td>29879</td>\n",
       "      <td>Unclassified</td>\n",
       "      <td>Unclassified</td>\n",
       "      <td>None</td>\n",
       "      <td>None</td>\n",
       "      <td>None</td>\n",
       "      <td>American Samoa</td>\n",
       "      <td>None</td>\n",
       "      <td>None</td>\n",
       "      <td>...</td>\n",
       "      <td>02L NK 18594 15936</td>\n",
       "      <td>-170.827566</td>\n",
       "      <td>-14.328497</td>\n",
       "      <td>NOAA Topographic LiDAR</td>\n",
       "      <td>2013-01-01</td>\n",
       "      <td>Unverified</td>\n",
       "      <td>None</td>\n",
       "      <td>{22106c1f-562e-4468-a496-32d407fd8b4f}</td>\n",
       "      <td>{'xmin': -170.82767668499997, 'ymin': -14.3286...</td>\n",
       "      <td>2jqw2xx4mn23x0c</td>\n",
       "    </tr>\n",
       "    <tr>\n",
       "      <th>4</th>\n",
       "      <td>MULTIPOLYGON (((-170.82714 -14.32846, -170.827...</td>\n",
       "      <td>29885</td>\n",
       "      <td>Unclassified</td>\n",
       "      <td>Unclassified</td>\n",
       "      <td>None</td>\n",
       "      <td>None</td>\n",
       "      <td>None</td>\n",
       "      <td>American Samoa</td>\n",
       "      <td>None</td>\n",
       "      <td>None</td>\n",
       "      <td>...</td>\n",
       "      <td>02L NK 18636 15935</td>\n",
       "      <td>-170.827176</td>\n",
       "      <td>-14.328503</td>\n",
       "      <td>NOAA Topographic LiDAR</td>\n",
       "      <td>2013-01-01</td>\n",
       "      <td>Unverified</td>\n",
       "      <td>None</td>\n",
       "      <td>{bc01e591-8516-49bf-b66e-dd21667de2f7}</td>\n",
       "      <td>{'xmin': -170.82721784799998, 'ymin': -14.3285...</td>\n",
       "      <td>2jqw2xx6qm2znys</td>\n",
       "    </tr>\n",
       "  </tbody>\n",
       "</table>\n",
       "<p>5 rows × 29 columns</p>\n",
       "</div>"
      ],
      "text/plain": [
       "                                            geometry  BUILD_ID       OCC_CLS  \\\n",
       "0  MULTIPOLYGON (((-170.8292 -14.32645, -170.8292...     12059  Unclassified   \n",
       "1  MULTIPOLYGON (((-170.82798 -14.32867, -170.827...     29894  Unclassified   \n",
       "2  MULTIPOLYGON (((-170.82786 -14.3283, -170.8278...     29886  Unclassified   \n",
       "3  MULTIPOLYGON (((-170.82747 -14.32844, -170.827...     29879  Unclassified   \n",
       "4  MULTIPOLYGON (((-170.82714 -14.32846, -170.827...     29885  Unclassified   \n",
       "\n",
       "       PRIM_OCC SEC_OCC PROP_ADDR PROP_CITY         PROP_ST PROP_ZIP OUTBLDG  \\\n",
       "0  Unclassified    None      None      None  American Samoa     None    None   \n",
       "1  Unclassified    None      None      None  American Samoa     None    None   \n",
       "2  Unclassified    None      None      None  American Samoa     None    None   \n",
       "3  Unclassified    None      None      None  American Samoa     None    None   \n",
       "4  Unclassified    None      None      None  American Samoa     None    None   \n",
       "\n",
       "   ...                USNG   LONGITUDE   LATITUDE              IMAGE_NAME  \\\n",
       "0  ...  02L NK 18412 16164 -170.829258 -14.326434        104001005B4C3F00   \n",
       "1  ...  02L NK 18540 15909 -170.828069 -14.328742  NOAA Topographic LiDAR   \n",
       "2  ...  02L NK 18569 15948 -170.827797 -14.328382  NOAA Topographic LiDAR   \n",
       "3  ...  02L NK 18594 15936 -170.827566 -14.328497  NOAA Topographic LiDAR   \n",
       "4  ...  02L NK 18636 15935 -170.827176 -14.328503  NOAA Topographic LiDAR   \n",
       "\n",
       "   IMAGE_DATE  VAL_METHOD REMARKS                                    UUID  \\\n",
       "0  2020-05-14   Automated    None  {245aca01-8d02-4340-810e-3872ee35e7ef}   \n",
       "1  2013-01-01  Unverified    None  {a46fac03-1829-47a2-b63f-86d4e52700a8}   \n",
       "2  2013-01-01  Unverified    None  {4c8bb4a4-86e1-4cb2-908c-a367e7dfa525}   \n",
       "3  2013-01-01  Unverified    None  {22106c1f-562e-4468-a496-32d407fd8b4f}   \n",
       "4  2013-01-01  Unverified    None  {bc01e591-8516-49bf-b66e-dd21667de2f7}   \n",
       "\n",
       "                                                bbox          geohash  \n",
       "0  {'xmin': -170.82931163799998, 'ymin': -14.3264...  2jqw2xvymz0vch1  \n",
       "1  {'xmin': -170.82815531799997, 'ymin': -14.3288...  2jqw2xwc12zkvd0  \n",
       "2  {'xmin': -170.82790860099996, 'ymin': -14.3284...  2jqw2xwgpg8y3ej  \n",
       "3  {'xmin': -170.82767668499997, 'ymin': -14.3286...  2jqw2xx4mn23x0c  \n",
       "4  {'xmin': -170.82721784799998, 'ymin': -14.3285...  2jqw2xx6qm2znys  \n",
       "\n",
       "[5 rows x 29 columns]"
      ]
     },
     "execution_count": 8,
     "metadata": {},
     "output_type": "execute_result"
    }
   ],
   "source": [
    "structure_ddf.head(5)"
   ]
  },
  {
   "cell_type": "code",
   "execution_count": 8,
   "id": "531b9a92-ff19-454b-9f67-109878c77d2e",
   "metadata": {},
   "outputs": [
    {
     "data": {
      "text/html": [
       "<div>\n",
       "<style scoped>\n",
       "    .dataframe tbody tr th:only-of-type {\n",
       "        vertical-align: middle;\n",
       "    }\n",
       "\n",
       "    .dataframe tbody tr th {\n",
       "        vertical-align: top;\n",
       "    }\n",
       "\n",
       "    .dataframe thead th {\n",
       "        text-align: right;\n",
       "    }\n",
       "</style>\n",
       "<table border=\"1\" class=\"dataframe\">\n",
       "  <thead>\n",
       "    <tr style=\"text-align: right;\">\n",
       "      <th></th>\n",
       "      <th>geometry</th>\n",
       "      <th>BUILD_ID</th>\n",
       "      <th>OCC_CLS</th>\n",
       "      <th>PRIM_OCC</th>\n",
       "      <th>SEC_OCC</th>\n",
       "      <th>PROP_ADDR</th>\n",
       "      <th>PROP_CITY</th>\n",
       "      <th>PROP_ST</th>\n",
       "      <th>PROP_ZIP</th>\n",
       "      <th>OUTBLDG</th>\n",
       "      <th>...</th>\n",
       "      <th>USNG</th>\n",
       "      <th>LONGITUDE</th>\n",
       "      <th>LATITUDE</th>\n",
       "      <th>IMAGE_NAME</th>\n",
       "      <th>IMAGE_DATE</th>\n",
       "      <th>VAL_METHOD</th>\n",
       "      <th>REMARKS</th>\n",
       "      <th>UUID</th>\n",
       "      <th>bbox</th>\n",
       "      <th>geohash</th>\n",
       "    </tr>\n",
       "  </thead>\n",
       "  <tbody>\n",
       "    <tr>\n",
       "      <th>539723</th>\n",
       "      <td>MULTIPOLYGON (((173.18076 52.83347, 173.1808 5...</td>\n",
       "      <td>7000006</td>\n",
       "      <td>Unclassified</td>\n",
       "      <td>Unclassified</td>\n",
       "      <td>None</td>\n",
       "      <td>None</td>\n",
       "      <td>None</td>\n",
       "      <td>Alaska</td>\n",
       "      <td>None</td>\n",
       "      <td>None</td>\n",
       "      <td>...</td>\n",
       "      <td>59U PU 46903 55967</td>\n",
       "      <td>173.180739</td>\n",
       "      <td>52.833410</td>\n",
       "      <td>NOT AVAILABLE</td>\n",
       "      <td>2018-07-03</td>\n",
       "      <td>Manual</td>\n",
       "      <td>None</td>\n",
       "      <td>{a9045bdc-dab4-4de6-b49b-58eab8581e25}</td>\n",
       "      <td>{'xmin': 173.1806779100001, 'ymin': 52.8333547...</td>\n",
       "      <td>zc7hsf42gtw3n05</td>\n",
       "    </tr>\n",
       "    <tr>\n",
       "      <th>539724</th>\n",
       "      <td>MULTIPOLYGON (((173.18831 52.83659, 173.18866 ...</td>\n",
       "      <td>7000009</td>\n",
       "      <td>Unclassified</td>\n",
       "      <td>Unclassified</td>\n",
       "      <td>None</td>\n",
       "      <td>None</td>\n",
       "      <td>None</td>\n",
       "      <td>Alaska</td>\n",
       "      <td>None</td>\n",
       "      <td>None</td>\n",
       "      <td>...</td>\n",
       "      <td>59U PU 47405 56303</td>\n",
       "      <td>173.188346</td>\n",
       "      <td>52.836292</td>\n",
       "      <td>NOT AVAILABLE</td>\n",
       "      <td>2018-07-03</td>\n",
       "      <td>Manual</td>\n",
       "      <td>None</td>\n",
       "      <td>{29993d4d-b59a-4d5c-9567-4c51b12059dc}</td>\n",
       "      <td>{'xmin': 173.1880302520001, 'ymin': 52.8359877...</td>\n",
       "      <td>zc7hsfxcsvvefwt</td>\n",
       "    </tr>\n",
       "    <tr>\n",
       "      <th>539725</th>\n",
       "      <td>MULTIPOLYGON (((174.09103 52.7369, 174.09113 5...</td>\n",
       "      <td>8000048</td>\n",
       "      <td>Government</td>\n",
       "      <td>Non-Civilian Structures</td>\n",
       "      <td>None</td>\n",
       "      <td>None</td>\n",
       "      <td>None</td>\n",
       "      <td>Alaska</td>\n",
       "      <td>None</td>\n",
       "      <td>None</td>\n",
       "      <td>...</td>\n",
       "      <td>60U UD 03622 46972</td>\n",
       "      <td>174.091134</td>\n",
       "      <td>52.736898</td>\n",
       "      <td>NOT AVAILABLE</td>\n",
       "      <td>2018-07-03</td>\n",
       "      <td>Manual</td>\n",
       "      <td>None</td>\n",
       "      <td>{17e345d8-b90d-439d-ad89-7984758ca934}</td>\n",
       "      <td>{'xmin': 174.09102922500006, 'ymin': 52.736834...</td>\n",
       "      <td>zc7u183q9w2fn6e</td>\n",
       "    </tr>\n",
       "    <tr>\n",
       "      <th>539726</th>\n",
       "      <td>MULTIPOLYGON (((174.09056 52.73711, 174.09132 ...</td>\n",
       "      <td>8000047</td>\n",
       "      <td>Government</td>\n",
       "      <td>Non-Civilian Structures</td>\n",
       "      <td>None</td>\n",
       "      <td>None</td>\n",
       "      <td>None</td>\n",
       "      <td>Alaska</td>\n",
       "      <td>None</td>\n",
       "      <td>None</td>\n",
       "      <td>...</td>\n",
       "      <td>60U UD 03627 47013</td>\n",
       "      <td>174.091178</td>\n",
       "      <td>52.737275</td>\n",
       "      <td>NOT AVAILABLE</td>\n",
       "      <td>2018-07-03</td>\n",
       "      <td>Manual</td>\n",
       "      <td>None</td>\n",
       "      <td>{a74622e4-0bc2-4809-9479-e77c6d24abc4}</td>\n",
       "      <td>{'xmin': 174.09055533200012, 'ymin': 52.736969...</td>\n",
       "      <td>zc7u1892ghk2u76</td>\n",
       "    </tr>\n",
       "    <tr>\n",
       "      <th>539727</th>\n",
       "      <td>MULTIPOLYGON (((174.10244 52.73433, 174.10273 ...</td>\n",
       "      <td>8000036</td>\n",
       "      <td>Government</td>\n",
       "      <td>Non-Civilian Structures</td>\n",
       "      <td>None</td>\n",
       "      <td>None</td>\n",
       "      <td>None</td>\n",
       "      <td>Alaska</td>\n",
       "      <td>None</td>\n",
       "      <td>None</td>\n",
       "      <td>...</td>\n",
       "      <td>60U UD 04389 46663</td>\n",
       "      <td>174.102666</td>\n",
       "      <td>52.734406</td>\n",
       "      <td>NOT AVAILABLE</td>\n",
       "      <td>2018-07-03</td>\n",
       "      <td>Manual</td>\n",
       "      <td>None</td>\n",
       "      <td>{17e6eb27-63de-41f4-823b-fa4ff6f4851d}</td>\n",
       "      <td>{'xmin': 174.10243806300002, 'ymin': 52.734255...</td>\n",
       "      <td>zc7u1b18nn6e3h5</td>\n",
       "    </tr>\n",
       "  </tbody>\n",
       "</table>\n",
       "<p>5 rows × 29 columns</p>\n",
       "</div>"
      ],
      "text/plain": [
       "                                                 geometry  BUILD_ID  \\\n",
       "539723  MULTIPOLYGON (((173.18076 52.83347, 173.1808 5...   7000006   \n",
       "539724  MULTIPOLYGON (((173.18831 52.83659, 173.18866 ...   7000009   \n",
       "539725  MULTIPOLYGON (((174.09103 52.7369, 174.09113 5...   8000048   \n",
       "539726  MULTIPOLYGON (((174.09056 52.73711, 174.09132 ...   8000047   \n",
       "539727  MULTIPOLYGON (((174.10244 52.73433, 174.10273 ...   8000036   \n",
       "\n",
       "             OCC_CLS                 PRIM_OCC SEC_OCC PROP_ADDR PROP_CITY  \\\n",
       "539723  Unclassified             Unclassified    None      None      None   \n",
       "539724  Unclassified             Unclassified    None      None      None   \n",
       "539725    Government  Non-Civilian Structures    None      None      None   \n",
       "539726    Government  Non-Civilian Structures    None      None      None   \n",
       "539727    Government  Non-Civilian Structures    None      None      None   \n",
       "\n",
       "       PROP_ST PROP_ZIP OUTBLDG  ...                USNG   LONGITUDE  \\\n",
       "539723  Alaska     None    None  ...  59U PU 46903 55967  173.180739   \n",
       "539724  Alaska     None    None  ...  59U PU 47405 56303  173.188346   \n",
       "539725  Alaska     None    None  ...  60U UD 03622 46972  174.091134   \n",
       "539726  Alaska     None    None  ...  60U UD 03627 47013  174.091178   \n",
       "539727  Alaska     None    None  ...  60U UD 04389 46663  174.102666   \n",
       "\n",
       "         LATITUDE     IMAGE_NAME  IMAGE_DATE VAL_METHOD REMARKS  \\\n",
       "539723  52.833410  NOT AVAILABLE  2018-07-03     Manual    None   \n",
       "539724  52.836292  NOT AVAILABLE  2018-07-03     Manual    None   \n",
       "539725  52.736898  NOT AVAILABLE  2018-07-03     Manual    None   \n",
       "539726  52.737275  NOT AVAILABLE  2018-07-03     Manual    None   \n",
       "539727  52.734406  NOT AVAILABLE  2018-07-03     Manual    None   \n",
       "\n",
       "                                          UUID  \\\n",
       "539723  {a9045bdc-dab4-4de6-b49b-58eab8581e25}   \n",
       "539724  {29993d4d-b59a-4d5c-9567-4c51b12059dc}   \n",
       "539725  {17e345d8-b90d-439d-ad89-7984758ca934}   \n",
       "539726  {a74622e4-0bc2-4809-9479-e77c6d24abc4}   \n",
       "539727  {17e6eb27-63de-41f4-823b-fa4ff6f4851d}   \n",
       "\n",
       "                                                     bbox          geohash  \n",
       "539723  {'xmin': 173.1806779100001, 'ymin': 52.8333547...  zc7hsf42gtw3n05  \n",
       "539724  {'xmin': 173.1880302520001, 'ymin': 52.8359877...  zc7hsfxcsvvefwt  \n",
       "539725  {'xmin': 174.09102922500006, 'ymin': 52.736834...  zc7u183q9w2fn6e  \n",
       "539726  {'xmin': 174.09055533200012, 'ymin': 52.736969...  zc7u1892ghk2u76  \n",
       "539727  {'xmin': 174.10243806300002, 'ymin': 52.734255...  zc7u1b18nn6e3h5  \n",
       "\n",
       "[5 rows x 29 columns]"
      ]
     },
     "execution_count": 8,
     "metadata": {},
     "output_type": "execute_result"
    }
   ],
   "source": [
    "structure_ddf.tail(5)"
   ]
  },
  {
   "cell_type": "markdown",
   "id": "74094108-3a34-4f9b-a09a-69cb059537bd",
   "metadata": {},
   "source": [
    "### Verify Data Loaded Correctly\n",
    "Specifically looking for data that will show a different 'PROP_ST' column besides American Samoa and Alaska (the .head and .tail for the structure_ddf table)"
   ]
  },
  {
   "cell_type": "code",
   "execution_count": 17,
   "id": "bbe3f017-4eff-4028-bd56-7c77715da054",
   "metadata": {},
   "outputs": [],
   "source": [
    "partition40 = structure_ddf.partitions[40].compute()"
   ]
  },
  {
   "cell_type": "code",
   "execution_count": 21,
   "id": "30cbc61e-af89-4789-b07c-f43e31e2dc2e",
   "metadata": {},
   "outputs": [
    {
     "data": {
      "text/html": [
       "<div>\n",
       "<style scoped>\n",
       "    .dataframe tbody tr th:only-of-type {\n",
       "        vertical-align: middle;\n",
       "    }\n",
       "\n",
       "    .dataframe tbody tr th {\n",
       "        vertical-align: top;\n",
       "    }\n",
       "\n",
       "    .dataframe thead th {\n",
       "        text-align: right;\n",
       "    }\n",
       "</style>\n",
       "<table border=\"1\" class=\"dataframe\">\n",
       "  <thead>\n",
       "    <tr style=\"text-align: right;\">\n",
       "      <th></th>\n",
       "      <th>geometry</th>\n",
       "      <th>BUILD_ID</th>\n",
       "      <th>OCC_CLS</th>\n",
       "      <th>PRIM_OCC</th>\n",
       "      <th>SEC_OCC</th>\n",
       "      <th>PROP_ADDR</th>\n",
       "      <th>PROP_CITY</th>\n",
       "      <th>PROP_ST</th>\n",
       "      <th>PROP_ZIP</th>\n",
       "      <th>OUTBLDG</th>\n",
       "      <th>...</th>\n",
       "      <th>USNG</th>\n",
       "      <th>LONGITUDE</th>\n",
       "      <th>LATITUDE</th>\n",
       "      <th>IMAGE_NAME</th>\n",
       "      <th>IMAGE_DATE</th>\n",
       "      <th>VAL_METHOD</th>\n",
       "      <th>REMARKS</th>\n",
       "      <th>UUID</th>\n",
       "      <th>bbox</th>\n",
       "      <th>geohash</th>\n",
       "    </tr>\n",
       "  </thead>\n",
       "  <tbody>\n",
       "    <tr>\n",
       "      <th>0</th>\n",
       "      <td>MULTIPOLYGON (((-111.71603 40.37411, -111.7161...</td>\n",
       "      <td>6356322</td>\n",
       "      <td>Residential</td>\n",
       "      <td>Single Family Dwelling</td>\n",
       "      <td>None</td>\n",
       "      <td>1000 NORTH 1050 EAST</td>\n",
       "      <td>PLEASANT GROVE</td>\n",
       "      <td>Utah</td>\n",
       "      <td>84062</td>\n",
       "      <td>None</td>\n",
       "      <td>...</td>\n",
       "      <td>12T VK 39208 69537</td>\n",
       "      <td>-111.716103</td>\n",
       "      <td>40.374204</td>\n",
       "      <td>105001001D0AA300</td>\n",
       "      <td>2020-05-04</td>\n",
       "      <td>Automated</td>\n",
       "      <td>None</td>\n",
       "      <td>{94234441-bcf3-4b26-b88b-54b488b7e794}</td>\n",
       "      <td>{'xmin': -111.71617885399996, 'ymin': 40.37411...</td>\n",
       "      <td>9x0t9vfuf15vqc3</td>\n",
       "    </tr>\n",
       "    <tr>\n",
       "      <th>1</th>\n",
       "      <td>MULTIPOLYGON (((-111.7162 40.37468, -111.71619...</td>\n",
       "      <td>6356424</td>\n",
       "      <td>Residential</td>\n",
       "      <td>Single Family Dwelling</td>\n",
       "      <td>None</td>\n",
       "      <td>1053 EAST 1010 NORTH</td>\n",
       "      <td>PLEASANT GROVE</td>\n",
       "      <td>Utah</td>\n",
       "      <td>84062</td>\n",
       "      <td>None</td>\n",
       "      <td>...</td>\n",
       "      <td>12T VK 39188 69584</td>\n",
       "      <td>-111.716341</td>\n",
       "      <td>40.374622</td>\n",
       "      <td>105001001D0AA300</td>\n",
       "      <td>2020-05-04</td>\n",
       "      <td>Automated</td>\n",
       "      <td>None</td>\n",
       "      <td>{ba007b62-1bbe-4538-9d94-ee5a347a3041}</td>\n",
       "      <td>{'xmin': -111.71650439999996, 'ymin': 40.37456...</td>\n",
       "      <td>9x0t9vfxhrj4g6r</td>\n",
       "    </tr>\n",
       "    <tr>\n",
       "      <th>2</th>\n",
       "      <td>MULTIPOLYGON (((-111.71587 40.37469, -111.7158...</td>\n",
       "      <td>6356420</td>\n",
       "      <td>Residential</td>\n",
       "      <td>Single Family Dwelling</td>\n",
       "      <td>None</td>\n",
       "      <td>1061 EAST 1010 NORTH</td>\n",
       "      <td>PLEASANT GROVE</td>\n",
       "      <td>Utah</td>\n",
       "      <td>84062</td>\n",
       "      <td>None</td>\n",
       "      <td>...</td>\n",
       "      <td>12T VK 39218 69584</td>\n",
       "      <td>-111.715985</td>\n",
       "      <td>40.374631</td>\n",
       "      <td>105001001D0AA300</td>\n",
       "      <td>2020-05-04</td>\n",
       "      <td>Automated</td>\n",
       "      <td>None</td>\n",
       "      <td>{4ccca22c-7705-4892-8da4-e00cb91d7f80}</td>\n",
       "      <td>{'xmin': -111.71610170499997, 'ymin': 40.37457...</td>\n",
       "      <td>9x0t9vfzkbsn56z</td>\n",
       "    </tr>\n",
       "    <tr>\n",
       "      <th>3</th>\n",
       "      <td>MULTIPOLYGON (((-111.71567 40.37345, -111.7156...</td>\n",
       "      <td>6356164</td>\n",
       "      <td>Residential</td>\n",
       "      <td>Single Family Dwelling</td>\n",
       "      <td>None</td>\n",
       "      <td>933 NORTH 1100 EAST</td>\n",
       "      <td>PLEASANT GROVE</td>\n",
       "      <td>Utah</td>\n",
       "      <td>84062</td>\n",
       "      <td>None</td>\n",
       "      <td>...</td>\n",
       "      <td>12T VK 39249 69468</td>\n",
       "      <td>-111.715610</td>\n",
       "      <td>40.373586</td>\n",
       "      <td>105001001D0AA300</td>\n",
       "      <td>2020-05-04</td>\n",
       "      <td>Automated</td>\n",
       "      <td>None</td>\n",
       "      <td>{76039646-81e2-4a9d-a77a-70512feb8bac}</td>\n",
       "      <td>{'xmin': -111.71566964299996, 'ymin': 40.37345...</td>\n",
       "      <td>9x0t9vg1jwgyz1x</td>\n",
       "    </tr>\n",
       "    <tr>\n",
       "      <th>4</th>\n",
       "      <td>MULTIPOLYGON (((-111.71552 40.37399, -111.7155...</td>\n",
       "      <td>6356225</td>\n",
       "      <td>Residential</td>\n",
       "      <td>Single Family Dwelling</td>\n",
       "      <td>None</td>\n",
       "      <td>967 NORTH 1100 EAST</td>\n",
       "      <td>PLEASANT GROVE</td>\n",
       "      <td>Utah</td>\n",
       "      <td>84062</td>\n",
       "      <td>None</td>\n",
       "      <td>...</td>\n",
       "      <td>12T VK 39251 69504</td>\n",
       "      <td>-111.715594</td>\n",
       "      <td>40.373907</td>\n",
       "      <td>105001001D0AA300</td>\n",
       "      <td>2020-05-04</td>\n",
       "      <td>Automated</td>\n",
       "      <td>None</td>\n",
       "      <td>{e06859b7-dd6e-42d3-8f92-dcae99305093}</td>\n",
       "      <td>{'xmin': -111.71568185699999, 'ymin': 40.37381...</td>\n",
       "      <td>9x0t9vg5jbccvg3</td>\n",
       "    </tr>\n",
       "  </tbody>\n",
       "</table>\n",
       "<p>5 rows × 29 columns</p>\n",
       "</div>"
      ],
      "text/plain": [
       "                                            geometry  BUILD_ID      OCC_CLS  \\\n",
       "0  MULTIPOLYGON (((-111.71603 40.37411, -111.7161...   6356322  Residential   \n",
       "1  MULTIPOLYGON (((-111.7162 40.37468, -111.71619...   6356424  Residential   \n",
       "2  MULTIPOLYGON (((-111.71587 40.37469, -111.7158...   6356420  Residential   \n",
       "3  MULTIPOLYGON (((-111.71567 40.37345, -111.7156...   6356164  Residential   \n",
       "4  MULTIPOLYGON (((-111.71552 40.37399, -111.7155...   6356225  Residential   \n",
       "\n",
       "                 PRIM_OCC SEC_OCC             PROP_ADDR       PROP_CITY  \\\n",
       "0  Single Family Dwelling    None  1000 NORTH 1050 EAST  PLEASANT GROVE   \n",
       "1  Single Family Dwelling    None  1053 EAST 1010 NORTH  PLEASANT GROVE   \n",
       "2  Single Family Dwelling    None  1061 EAST 1010 NORTH  PLEASANT GROVE   \n",
       "3  Single Family Dwelling    None   933 NORTH 1100 EAST  PLEASANT GROVE   \n",
       "4  Single Family Dwelling    None   967 NORTH 1100 EAST  PLEASANT GROVE   \n",
       "\n",
       "  PROP_ST PROP_ZIP OUTBLDG  ...                USNG   LONGITUDE   LATITUDE  \\\n",
       "0    Utah    84062    None  ...  12T VK 39208 69537 -111.716103  40.374204   \n",
       "1    Utah    84062    None  ...  12T VK 39188 69584 -111.716341  40.374622   \n",
       "2    Utah    84062    None  ...  12T VK 39218 69584 -111.715985  40.374631   \n",
       "3    Utah    84062    None  ...  12T VK 39249 69468 -111.715610  40.373586   \n",
       "4    Utah    84062    None  ...  12T VK 39251 69504 -111.715594  40.373907   \n",
       "\n",
       "         IMAGE_NAME  IMAGE_DATE VAL_METHOD REMARKS  \\\n",
       "0  105001001D0AA300  2020-05-04  Automated    None   \n",
       "1  105001001D0AA300  2020-05-04  Automated    None   \n",
       "2  105001001D0AA300  2020-05-04  Automated    None   \n",
       "3  105001001D0AA300  2020-05-04  Automated    None   \n",
       "4  105001001D0AA300  2020-05-04  Automated    None   \n",
       "\n",
       "                                     UUID  \\\n",
       "0  {94234441-bcf3-4b26-b88b-54b488b7e794}   \n",
       "1  {ba007b62-1bbe-4538-9d94-ee5a347a3041}   \n",
       "2  {4ccca22c-7705-4892-8da4-e00cb91d7f80}   \n",
       "3  {76039646-81e2-4a9d-a77a-70512feb8bac}   \n",
       "4  {e06859b7-dd6e-42d3-8f92-dcae99305093}   \n",
       "\n",
       "                                                bbox          geohash  \n",
       "0  {'xmin': -111.71617885399996, 'ymin': 40.37411...  9x0t9vfuf15vqc3  \n",
       "1  {'xmin': -111.71650439999996, 'ymin': 40.37456...  9x0t9vfxhrj4g6r  \n",
       "2  {'xmin': -111.71610170499997, 'ymin': 40.37457...  9x0t9vfzkbsn56z  \n",
       "3  {'xmin': -111.71566964299996, 'ymin': 40.37345...  9x0t9vg1jwgyz1x  \n",
       "4  {'xmin': -111.71568185699999, 'ymin': 40.37381...  9x0t9vg5jbccvg3  \n",
       "\n",
       "[5 rows x 29 columns]"
      ]
     },
     "execution_count": 21,
     "metadata": {},
     "output_type": "execute_result"
    }
   ],
   "source": [
    "partition40.head(5)"
   ]
  },
  {
   "cell_type": "code",
   "execution_count": 19,
   "id": "035d9c76-4e36-4f19-bbc1-a668eb133c4a",
   "metadata": {},
   "outputs": [
    {
     "data": {
      "text/plain": [
       "(873670, 29)"
      ]
     },
     "execution_count": 19,
     "metadata": {},
     "output_type": "execute_result"
    }
   ],
   "source": [
    "partition40.shape"
   ]
  },
  {
   "cell_type": "markdown",
   "id": "6137cbac-fd02-4d76-b3f2-acc4bf333bf3",
   "metadata": {},
   "source": [
    "Each partition has 16mb of data, roughly 873,670 rows. This will vary based on the blocksize chosen when calling the ut.get_US_structures_all() function."
   ]
  },
  {
   "cell_type": "markdown",
   "id": "2b841fe0-b7aa-4295-a567-6640135490f9",
   "metadata": {},
   "source": [
    "### Coordinate Reference System (CRS)\n",
    "Since this dataset captures \"every structure larger than 450 square feet\" we have a base minimum, however, to get specific building sizes, or plot, we will need to make sure the CRS is for the specific region/area you are analyzing. We will re-project based on the 'geometries' column.\n",
    "\n",
    "First, we will check to see if we need to project to a CRS for the first time, or re-project the current one. To check if the data has a CRS, the following code will suffice."
   ]
  },
  {
   "cell_type": "code",
   "execution_count": 31,
   "id": "42a96e9d-10b7-45c3-b10f-01a1e3f82d4d",
   "metadata": {},
   "outputs": [
    {
     "data": {
      "text/plain": [
       "<Geographic 2D CRS: EPSG:4326>\n",
       "Name: WGS 84\n",
       "Axis Info [ellipsoidal]:\n",
       "- Lat[north]: Geodetic latitude (degree)\n",
       "- Lon[east]: Geodetic longitude (degree)\n",
       "Area of Use:\n",
       "- name: World.\n",
       "- bounds: (-180.0, -90.0, 180.0, 90.0)\n",
       "Datum: World Geodetic System 1984 ensemble\n",
       "- Ellipsoid: WGS 84\n",
       "- Prime Meridian: Greenwich"
      ]
     },
     "execution_count": 31,
     "metadata": {},
     "output_type": "execute_result"
    }
   ],
   "source": [
    "structure_ddf.crs"
   ]
  },
  {
   "cell_type": "markdown",
   "id": "4ec86147-50c0-4a71-898d-61756b5eaab6",
   "metadata": {},
   "source": [
    "For all users, you will need to re-project. Research online to ensure you use the correct EPSG value for your area."
   ]
  },
  {
   "cell_type": "markdown",
   "id": "cfd02ed4-bc2f-44a4-9d9f-8701432ea65b",
   "metadata": {},
   "source": [
    "### Analyze Statewide Massachusetts data\n",
    "Massachusetts can use EPSG:6492, this is in US Survey feet which means we don't need to worry about converting from meters to feet. \n",
    "\n",
    "NOTE: I do not adjust the US survey feet to International feet."
   ]
  },
  {
   "cell_type": "code",
   "execution_count": 8,
   "id": "a520ce08-0ce0-4c06-bf61-f44f73026f4c",
   "metadata": {},
   "outputs": [],
   "source": [
    "massachusetts_ddf = structure_ddf[structure_ddf['PROP_ST'] == 'Massachusetts']"
   ]
  },
  {
   "cell_type": "code",
   "execution_count": 9,
   "id": "ce897f62-5813-4f84-8313-1e1b27307747",
   "metadata": {},
   "outputs": [],
   "source": [
    "massachusetts_ddf = massachusetts_ddf.to_crs(epsg=2249) # can also try 6492 but City of Worcester shapefile uses 2249"
   ]
  },
  {
   "cell_type": "markdown",
   "id": "8f3aac51-dc4e-4592-af31-da2d5c74c48e",
   "metadata": {},
   "source": [
    "Calculate the square footage for each building and make this stored in a new column 'structure_size'."
   ]
  },
  {
   "cell_type": "code",
   "execution_count": 10,
   "id": "7972a91c-c25d-44ef-a858-d07b994ad1fa",
   "metadata": {},
   "outputs": [],
   "source": [
    "massachusetts_ddf['structure_size'] = massachusetts_ddf.geometry.area"
   ]
  },
  {
   "cell_type": "markdown",
   "id": "2ad72525-b475-4fad-a868-fa8265ce958b",
   "metadata": {},
   "source": [
    "### Checking the validity of the 'PROP_CITY' column\n",
    "\n",
    "##### Compare the number of rows when using 'PROP_CITY' == 'Worcester' VS a shapefile of Worcester as a Spatial Filter and finding intersections\n",
    "(Using massachusetts_ddf ensures not grabbing Worcester or Boston city data for other states)\n",
    "\n",
    "We will use .shape to compare the number of rows\n",
    "\n",
    "To ensure we use the correct boundaries for Worcester, we will download a shapefile of the layout. This will be downloaded to the 'data' folder and not done in an automatic coding format. However, if you find a different shapefile/city, the same approach can be used. Just mount a folder when you run the docker container from a directory that has the associated city boundary shape files, then you can change the 'dg_read_file' filepath. (Future Implementation: Use selenium to download this file within docker so that users don't need to have data downloaded with the Docker Image)\n",
    "\n",
    "https://opendata.worcesterma.gov/datasets/worcesterma::city-boundary-1/about"
   ]
  },
  {
   "cell_type": "code",
   "execution_count": 11,
   "id": "0accf0be-e6e2-4155-834c-011b415fa4aa",
   "metadata": {},
   "outputs": [],
   "source": [
    "worcester_PROP_CITY_ddf = massachusetts_ddf[massachusetts_ddf['PROP_CITY'] == 'Worcester']"
   ]
  },
  {
   "cell_type": "markdown",
   "id": "d38ca9a9-9f1e-4d45-aeb5-0cb95d6547e5",
   "metadata": {},
   "source": [
    "Confirm we are using the crs defined for massachusetts_ddf:"
   ]
  },
  {
   "cell_type": "code",
   "execution_count": 13,
   "id": "2377912c-d6d9-43cd-9107-d06ca20b674f",
   "metadata": {},
   "outputs": [
    {
     "data": {
      "text/plain": [
       "<Projected CRS: EPSG:2249>\n",
       "Name: NAD83 / Massachusetts Mainland (ftUS)\n",
       "Axis Info [cartesian]:\n",
       "- X[east]: Easting (US survey foot)\n",
       "- Y[north]: Northing (US survey foot)\n",
       "Area of Use:\n",
       "- name: United States (USA) - Massachusetts onshore - counties of Barnstable; Berkshire; Bristol; Essex; Franklin; Hampden; Hampshire; Middlesex; Norfolk; Plymouth; Suffolk; Worcester.\n",
       "- bounds: (-73.5, 41.46, -69.86, 42.89)\n",
       "Coordinate Operation:\n",
       "- name: SPCS83 Massachusetts Mainland zone (US survey foot)\n",
       "- method: Lambert Conic Conformal (2SP)\n",
       "Datum: North American Datum 1983\n",
       "- Ellipsoid: GRS 1980\n",
       "- Prime Meridian: Greenwich"
      ]
     },
     "execution_count": 13,
     "metadata": {},
     "output_type": "execute_result"
    }
   ],
   "source": [
    "worcester_PROP_CITY_ddf.crs"
   ]
  },
  {
   "cell_type": "code",
   "execution_count": 13,
   "id": "703cef89-33dc-453b-8017-e275d78685ca",
   "metadata": {},
   "outputs": [],
   "source": [
    "worcester_boundary = dg.read_file(f\"./data/Worcester/City_Boundary.shp\", chunksize = 75000) # chunksize specifies number of rows per chunk \n",
    "\n",
    "# Repeat from above: \n",
    "# If you find a different shapefile/city, the same approach can be used. \n",
    "# Just mount a folder when you run the docker container from a directory that has the associated city boundary shape files, \n",
    "# then you can change the 'dg.read_file' filepath.\n",
    "\n",
    "# It is suggested that you put the data in a data folder within the same directory!"
   ]
  },
  {
   "cell_type": "markdown",
   "id": "299e71b9-bd18-4783-8b4a-7e46bdb32fe7",
   "metadata": {},
   "source": [
    "##### If the above line of code gave you an error similar to:\n",
    "\n",
    "ERROR 1: PROJ: proj_create_from_database: Open of /opt/conda/envs/us_structures_analysis/share/proj failed\n",
    "\n",
    "Try re-running it\n",
    "\n",
    "or\n",
    "\n",
    "Copy the folder that contains all of the shapefile files outside the mounted folder, so it is in the main directory.\n",
    "\n",
    "For instance. I use a mounted 'saved' folder, with a 'data' folder inside that contains all the geoparquets plus a 'Worcester' folder which contains all the files for the Worcester shapefile. I copied the 'Worcester' folder so that it is outside of the 'saved' folder."
   ]
  },
  {
   "cell_type": "code",
   "execution_count": 14,
   "id": "e22889ec-7e57-4020-8b43-7a52d993c6d3",
   "metadata": {},
   "outputs": [
    {
     "data": {
      "text/plain": [
       "<Projected CRS: EPSG:2249>\n",
       "Name: NAD83 / Massachusetts Mainland (ftUS)\n",
       "Axis Info [cartesian]:\n",
       "- X[east]: Easting (US survey foot)\n",
       "- Y[north]: Northing (US survey foot)\n",
       "Area of Use:\n",
       "- name: United States (USA) - Massachusetts onshore - counties of Barnstable; Berkshire; Bristol; Essex; Franklin; Hampden; Hampshire; Middlesex; Norfolk; Plymouth; Suffolk; Worcester.\n",
       "- bounds: (-73.5, 41.46, -69.86, 42.89)\n",
       "Coordinate Operation:\n",
       "- name: SPCS83 Massachusetts Mainland zone (US survey foot)\n",
       "- method: Lambert Conic Conformal (2SP)\n",
       "Datum: North American Datum 1983\n",
       "- Ellipsoid: GRS 1980\n",
       "- Prime Meridian: Greenwich"
      ]
     },
     "execution_count": 14,
     "metadata": {},
     "output_type": "execute_result"
    }
   ],
   "source": [
    "worcester_boundary.crs\n",
    "# You want to follow the crs of the boundary/shapefile you are using, make sure the dask dataframe you are using matches this"
   ]
  },
  {
   "cell_type": "markdown",
   "id": "c030fd38-060f-447d-9a2d-739912331210",
   "metadata": {},
   "source": [
    "#### Since we are comparing the entire data set to the state/city column effectiveness (PROP_ST and PROP_CITY), we must make the entire dataset be the same crs as our boundary/shapefile\n",
    "\n",
    "##### ** BEFORE WE ONLY CHANGED THE MASSACHUSETTS_DDF CRS **\n",
    "\n",
    "OVERVIEW:\n",
    "- This is testing the usefulness of the datasets columns for specifying if a structure is in a specific state/city.\n",
    "\n",
    "\n",
    "\n",
    "### If you go on to review another state. You may need to re-project the CRS for the entire dataset. The following is a good site for visually seeing what the EPSG covers\n",
    "https://spatialreference.org/ref/epsg/2249/"
   ]
  },
  {
   "cell_type": "code",
   "execution_count": 14,
   "id": "2bdf6ae7-ace8-452d-b93e-dfd92a21cc35",
   "metadata": {},
   "outputs": [],
   "source": [
    "structure_ddf = structure_ddf.to_crs(epsg=2249) "
   ]
  },
  {
   "cell_type": "code",
   "execution_count": 23,
   "id": "cc78f2f0-6ae0-4df8-b38d-20644c1fbd39",
   "metadata": {},
   "outputs": [
    {
     "data": {
      "text/html": [
       "<div>\n",
       "<style scoped>\n",
       "    .dataframe tbody tr th:only-of-type {\n",
       "        vertical-align: middle;\n",
       "    }\n",
       "\n",
       "    .dataframe tbody tr th {\n",
       "        vertical-align: top;\n",
       "    }\n",
       "\n",
       "    .dataframe thead th {\n",
       "        text-align: right;\n",
       "    }\n",
       "</style>\n",
       "<table border=\"1\" class=\"dataframe\">\n",
       "  <thead>\n",
       "    <tr style=\"text-align: right;\">\n",
       "      <th></th>\n",
       "      <th>TOWN</th>\n",
       "      <th>TOWN_ID</th>\n",
       "      <th>TOWNS_ID</th>\n",
       "      <th>POP1980</th>\n",
       "      <th>POP1990</th>\n",
       "      <th>POP2000</th>\n",
       "      <th>POPCH80_90</th>\n",
       "      <th>POPCH90_00</th>\n",
       "      <th>TYPE</th>\n",
       "      <th>ISLAND</th>\n",
       "      <th>...</th>\n",
       "      <th>FIPS_PLACE</th>\n",
       "      <th>FIPS_MCD</th>\n",
       "      <th>FIPS_COUNT</th>\n",
       "      <th>ACRES</th>\n",
       "      <th>SQUARE_MIL</th>\n",
       "      <th>GlobalID</th>\n",
       "      <th>OBJECTID</th>\n",
       "      <th>Shape__Are</th>\n",
       "      <th>Shape__Len</th>\n",
       "      <th>geometry</th>\n",
       "    </tr>\n",
       "  </thead>\n",
       "  <tbody>\n",
       "    <tr>\n",
       "      <th>0</th>\n",
       "      <td>WORCESTER</td>\n",
       "      <td>348</td>\n",
       "      <td>261</td>\n",
       "      <td>159843</td>\n",
       "      <td>169759</td>\n",
       "      <td>172648</td>\n",
       "      <td>9916</td>\n",
       "      <td>2889</td>\n",
       "      <td>C</td>\n",
       "      <td>0</td>\n",
       "      <td>...</td>\n",
       "      <td>82000</td>\n",
       "      <td>25027030</td>\n",
       "      <td>27</td>\n",
       "      <td>24602.486</td>\n",
       "      <td>384.411</td>\n",
       "      <td>642fd55c-8273-4e35-993c-d5d0e1eaf706</td>\n",
       "      <td>1</td>\n",
       "      <td>1.071680e+09</td>\n",
       "      <td>139826.751833</td>\n",
       "      <td>POLYGON ((583605.513 2938565.252, 586219.333 2...</td>\n",
       "    </tr>\n",
       "  </tbody>\n",
       "</table>\n",
       "<p>1 rows × 24 columns</p>\n",
       "</div>"
      ],
      "text/plain": [
       "        TOWN  TOWN_ID  TOWNS_ID  POP1980  POP1990  POP2000  POPCH80_90  \\\n",
       "0  WORCESTER      348       261   159843   169759   172648        9916   \n",
       "\n",
       "   POPCH90_00 TYPE  ISLAND  ... FIPS_PLACE  FIPS_MCD  FIPS_COUNT      ACRES  \\\n",
       "0        2889    C       0  ...      82000  25027030          27  24602.486   \n",
       "\n",
       "  SQUARE_MIL                              GlobalID  OBJECTID    Shape__Are  \\\n",
       "0    384.411  642fd55c-8273-4e35-993c-d5d0e1eaf706         1  1.071680e+09   \n",
       "\n",
       "      Shape__Len                                           geometry  \n",
       "0  139826.751833  POLYGON ((583605.513 2938565.252, 586219.333 2...  \n",
       "\n",
       "[1 rows x 24 columns]"
      ]
     },
     "execution_count": 23,
     "metadata": {},
     "output_type": "execute_result"
    }
   ],
   "source": [
    "worcester_boundary.compute()"
   ]
  },
  {
   "cell_type": "code",
   "execution_count": 15,
   "id": "f8c8de7a-5715-43d5-bae9-d931336ce108",
   "metadata": {},
   "outputs": [
    {
     "name": "stdout",
     "output_type": "stream",
     "text": [
      "geometry\n",
      "geometry\n"
     ]
    }
   ],
   "source": [
    "# Ensure geometry columns are set up correctly for the join\n",
    "\n",
    "structure_ddf = structure_ddf.set_geometry('geometry')\n",
    "worcester_boundary = worcester_boundary.set_geometry('geometry')\n",
    "print(structure_ddf.geometry.name)\n",
    "print(worcester_boundary.geometry.name)"
   ]
  },
  {
   "cell_type": "markdown",
   "id": "4f623a09-42f6-43aa-ad1c-7700ecf572cc",
   "metadata": {},
   "source": [
    "##### If you have a high computing power, you can delete the '#'s for the .compute() code and run to see if the number of strucutres changes.\n",
    "\n",
    "the 'entire' version compares the entire dataset to the shapefile. This should guarantee that every Worcester building is included.\n",
    "\n",
    "The 'PROP' version, compares the dataset specifed for the city of Worcester to the shapefile. This is a test to see if the dataset correctly tagged all buildings within the city of Worcester. \n",
    "\n",
    "Similar verifications can be done on the state level or other cities, again these are computation heavy though!"
   ]
  },
  {
   "cell_type": "code",
   "execution_count": 16,
   "id": "3a134c9e-4bc5-4d56-98b6-e6b67618f2d1",
   "metadata": {},
   "outputs": [],
   "source": [
    "worcester_entire_ddf = dg.sjoin(structure_ddf, worcester_boundary, how='inner', predicate='within') # within makes sure the whole structure_ddf \n",
    "                                                                                                       # row is inside the worcester_boundary\n",
    "\n",
    "# Understand this approach may mean some of the structure_ddf rows near the boundary won't be included if the shapefile is off by just a little."
   ]
  },
  {
   "cell_type": "code",
   "execution_count": null,
   "id": "d61b5d8e-9d16-43a0-91fc-bb9f4679da3b",
   "metadata": {},
   "outputs": [],
   "source": [
    "# worcester_entire_ddf.count().compute()"
   ]
  },
  {
   "cell_type": "code",
   "execution_count": 17,
   "id": "b6e4c93e-1a1c-4219-b840-0210b1857d26",
   "metadata": {},
   "outputs": [],
   "source": [
    "worcester_PROP_ddf = dg.sjoin(worcester_PROP_CITY_ddf, worcester_boundary, how='inner', predicate='within')"
   ]
  },
  {
   "cell_type": "code",
   "execution_count": null,
   "id": "3d42c98b-caef-4acd-af5b-39f810d19003",
   "metadata": {},
   "outputs": [],
   "source": [
    "# worcester_PROP_ddf.count().compute()"
   ]
  },
  {
   "cell_type": "markdown",
   "id": "7f95eb5d-693e-41b0-8d7b-55e0c841bb19",
   "metadata": {},
   "source": [
    "# THIS CAN BE NEXT-STEPS // FURTHER FUTURE ANALYSIS. It does not need to be completed 100%\n",
    "Review Census data within Worcester. Grab the shapefiles for two of the census blocks. spatial filter & intersection with the dataset again.\n",
    "\n",
    "Then review and draw relationships from the data"
   ]
  },
  {
   "cell_type": "markdown",
   "id": "1943e875-4168-46b8-a5a4-74f8a38e73aa",
   "metadata": {},
   "source": [
    "##### Also, create a function to download country wide census data (depending on the size. Maybe just do cities/Massachusetts and just provide a link)"
   ]
  },
  {
   "cell_type": "code",
   "execution_count": null,
   "id": "6393a36d-0fd1-47f0-950c-f328206bb770",
   "metadata": {},
   "outputs": [],
   "source": []
  },
  {
   "cell_type": "markdown",
   "id": "820d7f4d-70f7-42e0-861d-096e81d1f59d",
   "metadata": {},
   "source": [
    "# Potential Analysis Examples:"
   ]
  },
  {
   "cell_type": "markdown",
   "id": "75a64c08-a6c3-4bb6-8a18-9dbde555eb14",
   "metadata": {},
   "source": [
    "### Review Census data within a town (Hope is less data than Worcester that will allow easier computations)"
   ]
  },
  {
   "cell_type": "code",
   "execution_count": 18,
   "id": "e5875182-5a5a-4625-9532-81400d64e188",
   "metadata": {},
   "outputs": [],
   "source": [
    "norwood_ddf = massachusetts_ddf[massachusetts_ddf['PROP_ZIP'] == '02062']"
   ]
  },
  {
   "cell_type": "markdown",
   "id": "4f5e7c5b-ddc5-4d82-93f1-327dea689cfa",
   "metadata": {},
   "source": [
    "Calculate the square footage for each building and make this stored in a new column 'structure_size'."
   ]
  },
  {
   "cell_type": "code",
   "execution_count": 19,
   "id": "1074576c-891d-49cd-a8e6-606be7569a5d",
   "metadata": {},
   "outputs": [],
   "source": [
    "norwood_ddf['structure_size'] = norwood_ddf.geometry.area"
   ]
  },
  {
   "cell_type": "markdown",
   "id": "af3bf7a5-165e-47c6-a4a9-72740cc8c37b",
   "metadata": {},
   "source": [
    "##### WARNING: Below code also requires extensive computing power"
   ]
  },
  {
   "cell_type": "code",
   "execution_count": null,
   "id": "6c01cfac-9d6f-4efc-a4f7-2779b197e880",
   "metadata": {},
   "outputs": [],
   "source": [
    "# Find the average structure size\n",
    "\n",
    "# norwood_ddf['structure_size'].mean().compute()"
   ]
  },
  {
   "cell_type": "code",
   "execution_count": 22,
   "id": "aa1333fa-e501-462b-8b5b-38ba534bc680",
   "metadata": {},
   "outputs": [
    {
     "ename": "KeyboardInterrupt",
     "evalue": "",
     "output_type": "error",
     "traceback": [
      "\u001b[0;31m---------------------------------------------------------------------------\u001b[0m",
      "\u001b[0;31mKeyboardInterrupt\u001b[0m                         Traceback (most recent call last)",
      "Cell \u001b[0;32mIn[22], line 1\u001b[0m\n\u001b[0;32m----> 1\u001b[0m bldg_norwood_sorted \u001b[38;5;241m=\u001b[39m \u001b[43mnorwood_ddf\u001b[49m\u001b[38;5;241;43m.\u001b[39;49m\u001b[43msort_values\u001b[49m\u001b[43m(\u001b[49m\u001b[43mby\u001b[49m\u001b[38;5;241;43m=\u001b[39;49m\u001b[38;5;124;43m'\u001b[39;49m\u001b[38;5;124;43mstructure_size\u001b[39;49m\u001b[38;5;124;43m'\u001b[39;49m\u001b[43m,\u001b[49m\u001b[43m \u001b[49m\u001b[43mascending\u001b[49m\u001b[38;5;241;43m=\u001b[39;49m\u001b[38;5;28;43;01mFalse\u001b[39;49;00m\u001b[43m)\u001b[49m\u001b[38;5;241;43m.\u001b[39;49m\u001b[43mcompute\u001b[49m\u001b[43m(\u001b[49m\u001b[43m)\u001b[49m\n\u001b[1;32m      3\u001b[0m \u001b[38;5;66;03m# binLength = len(bldg_norwood_sorted) // 3000\u001b[39;00m\n\u001b[1;32m      4\u001b[0m plt\u001b[38;5;241m.\u001b[39mhist(bldg_norwood_sorted[\u001b[38;5;124m'\u001b[39m\u001b[38;5;124mstructure_size\u001b[39m\u001b[38;5;124m'\u001b[39m], bins \u001b[38;5;241m=\u001b[39m \u001b[38;5;241m600\u001b[39m, edgecolor\u001b[38;5;241m=\u001b[39m\u001b[38;5;124m'\u001b[39m\u001b[38;5;124mblack\u001b[39m\u001b[38;5;124m'\u001b[39m)\n",
      "File \u001b[0;32m/opt/conda/envs/us_structures_analysis/lib/python3.12/site-packages/dask_expr/_collection.py:481\u001b[0m, in \u001b[0;36mFrameBase.compute\u001b[0;34m(self, fuse, concatenate, **kwargs)\u001b[0m\n\u001b[1;32m    479\u001b[0m     out \u001b[38;5;241m=\u001b[39m out\u001b[38;5;241m.\u001b[39mrepartition(npartitions\u001b[38;5;241m=\u001b[39m\u001b[38;5;241m1\u001b[39m)\n\u001b[1;32m    480\u001b[0m out \u001b[38;5;241m=\u001b[39m out\u001b[38;5;241m.\u001b[39moptimize(fuse\u001b[38;5;241m=\u001b[39mfuse)\n\u001b[0;32m--> 481\u001b[0m \u001b[38;5;28;01mreturn\u001b[39;00m \u001b[43mDaskMethodsMixin\u001b[49m\u001b[38;5;241;43m.\u001b[39;49m\u001b[43mcompute\u001b[49m\u001b[43m(\u001b[49m\u001b[43mout\u001b[49m\u001b[43m,\u001b[49m\u001b[43m \u001b[49m\u001b[38;5;241;43m*\u001b[39;49m\u001b[38;5;241;43m*\u001b[39;49m\u001b[43mkwargs\u001b[49m\u001b[43m)\u001b[49m\n",
      "File \u001b[0;32m/opt/conda/envs/us_structures_analysis/lib/python3.12/site-packages/dask/base.py:372\u001b[0m, in \u001b[0;36mDaskMethodsMixin.compute\u001b[0;34m(self, **kwargs)\u001b[0m\n\u001b[1;32m    348\u001b[0m \u001b[38;5;28;01mdef\u001b[39;00m \u001b[38;5;21mcompute\u001b[39m(\u001b[38;5;28mself\u001b[39m, \u001b[38;5;241m*\u001b[39m\u001b[38;5;241m*\u001b[39mkwargs):\n\u001b[1;32m    349\u001b[0m \u001b[38;5;250m    \u001b[39m\u001b[38;5;124;03m\"\"\"Compute this dask collection\u001b[39;00m\n\u001b[1;32m    350\u001b[0m \n\u001b[1;32m    351\u001b[0m \u001b[38;5;124;03m    This turns a lazy Dask collection into its in-memory equivalent.\u001b[39;00m\n\u001b[0;32m   (...)\u001b[0m\n\u001b[1;32m    370\u001b[0m \u001b[38;5;124;03m    dask.compute\u001b[39;00m\n\u001b[1;32m    371\u001b[0m \u001b[38;5;124;03m    \"\"\"\u001b[39;00m\n\u001b[0;32m--> 372\u001b[0m     (result,) \u001b[38;5;241m=\u001b[39m \u001b[43mcompute\u001b[49m\u001b[43m(\u001b[49m\u001b[38;5;28;43mself\u001b[39;49m\u001b[43m,\u001b[49m\u001b[43m \u001b[49m\u001b[43mtraverse\u001b[49m\u001b[38;5;241;43m=\u001b[39;49m\u001b[38;5;28;43;01mFalse\u001b[39;49;00m\u001b[43m,\u001b[49m\u001b[43m \u001b[49m\u001b[38;5;241;43m*\u001b[39;49m\u001b[38;5;241;43m*\u001b[39;49m\u001b[43mkwargs\u001b[49m\u001b[43m)\u001b[49m\n\u001b[1;32m    373\u001b[0m     \u001b[38;5;28;01mreturn\u001b[39;00m result\n",
      "File \u001b[0;32m/opt/conda/envs/us_structures_analysis/lib/python3.12/site-packages/dask/base.py:660\u001b[0m, in \u001b[0;36mcompute\u001b[0;34m(traverse, optimize_graph, scheduler, get, *args, **kwargs)\u001b[0m\n\u001b[1;32m    657\u001b[0m     postcomputes\u001b[38;5;241m.\u001b[39mappend(x\u001b[38;5;241m.\u001b[39m__dask_postcompute__())\n\u001b[1;32m    659\u001b[0m \u001b[38;5;28;01mwith\u001b[39;00m shorten_traceback():\n\u001b[0;32m--> 660\u001b[0m     results \u001b[38;5;241m=\u001b[39m \u001b[43mschedule\u001b[49m\u001b[43m(\u001b[49m\u001b[43mdsk\u001b[49m\u001b[43m,\u001b[49m\u001b[43m \u001b[49m\u001b[43mkeys\u001b[49m\u001b[43m,\u001b[49m\u001b[43m \u001b[49m\u001b[38;5;241;43m*\u001b[39;49m\u001b[38;5;241;43m*\u001b[39;49m\u001b[43mkwargs\u001b[49m\u001b[43m)\u001b[49m\n\u001b[1;32m    662\u001b[0m \u001b[38;5;28;01mreturn\u001b[39;00m repack([f(r, \u001b[38;5;241m*\u001b[39ma) \u001b[38;5;28;01mfor\u001b[39;00m r, (f, a) \u001b[38;5;129;01min\u001b[39;00m \u001b[38;5;28mzip\u001b[39m(results, postcomputes)])\n",
      "File \u001b[0;32m/opt/conda/envs/us_structures_analysis/lib/python3.12/threading.py:655\u001b[0m, in \u001b[0;36mEvent.wait\u001b[0;34m(self, timeout)\u001b[0m\n\u001b[1;32m    653\u001b[0m signaled \u001b[38;5;241m=\u001b[39m \u001b[38;5;28mself\u001b[39m\u001b[38;5;241m.\u001b[39m_flag\n\u001b[1;32m    654\u001b[0m \u001b[38;5;28;01mif\u001b[39;00m \u001b[38;5;129;01mnot\u001b[39;00m signaled:\n\u001b[0;32m--> 655\u001b[0m     signaled \u001b[38;5;241m=\u001b[39m \u001b[38;5;28;43mself\u001b[39;49m\u001b[38;5;241;43m.\u001b[39;49m\u001b[43m_cond\u001b[49m\u001b[38;5;241;43m.\u001b[39;49m\u001b[43mwait\u001b[49m\u001b[43m(\u001b[49m\u001b[43mtimeout\u001b[49m\u001b[43m)\u001b[49m\n\u001b[1;32m    656\u001b[0m \u001b[38;5;28;01mreturn\u001b[39;00m signaled\n",
      "File \u001b[0;32m/opt/conda/envs/us_structures_analysis/lib/python3.12/threading.py:359\u001b[0m, in \u001b[0;36mCondition.wait\u001b[0;34m(self, timeout)\u001b[0m\n\u001b[1;32m    357\u001b[0m \u001b[38;5;28;01melse\u001b[39;00m:\n\u001b[1;32m    358\u001b[0m     \u001b[38;5;28;01mif\u001b[39;00m timeout \u001b[38;5;241m>\u001b[39m \u001b[38;5;241m0\u001b[39m:\n\u001b[0;32m--> 359\u001b[0m         gotit \u001b[38;5;241m=\u001b[39m \u001b[43mwaiter\u001b[49m\u001b[38;5;241;43m.\u001b[39;49m\u001b[43macquire\u001b[49m\u001b[43m(\u001b[49m\u001b[38;5;28;43;01mTrue\u001b[39;49;00m\u001b[43m,\u001b[49m\u001b[43m \u001b[49m\u001b[43mtimeout\u001b[49m\u001b[43m)\u001b[49m\n\u001b[1;32m    360\u001b[0m     \u001b[38;5;28;01melse\u001b[39;00m:\n\u001b[1;32m    361\u001b[0m         gotit \u001b[38;5;241m=\u001b[39m waiter\u001b[38;5;241m.\u001b[39macquire(\u001b[38;5;28;01mFalse\u001b[39;00m)\n",
      "\u001b[0;31mKeyboardInterrupt\u001b[0m: "
     ]
    }
   ],
   "source": [
    "bldg_norwood_sorted = norwood_ddf.sort_values(by='structure_size', ascending=False).compute()\n",
    "\n",
    "# binLength = len(bldg_norwood_sorted) // 3000\n",
    "plt.hist(bldg_norwood_sorted['structure_size'], bins = 600, edgecolor='black')\n",
    "plt.xlim([0, 400])\n",
    "plt.xlabel('Area (in meters)')\n",
    "plt.ylabel('Frequency')\n",
    "plt.title('area_in_meters for Norwood Buildings')\n",
    "plt.show()"
   ]
  },
  {
   "cell_type": "code",
   "execution_count": null,
   "id": "6d906251-8671-4014-acd4-efc701f193a7",
   "metadata": {},
   "outputs": [],
   "source": [
    "norwood_ddf.shape[0].compute() # Number of buildings that are + 450 sqft"
   ]
  },
  {
   "cell_type": "code",
   "execution_count": null,
   "id": "8de92686-e700-4bc9-93fe-b16820a5698b",
   "metadata": {},
   "outputs": [],
   "source": [
    "# Could get the shapefile for Norwood and perform these"
   ]
  }
 ],
 "metadata": {
  "kernelspec": {
   "display_name": "Python 3 (ipykernel)",
   "language": "python",
   "name": "python3"
  },
  "language_info": {
   "codemirror_mode": {
    "name": "ipython",
    "version": 3
   },
   "file_extension": ".py",
   "mimetype": "text/x-python",
   "name": "python",
   "nbconvert_exporter": "python",
   "pygments_lexer": "ipython3",
   "version": "3.12.8"
  }
 },
 "nbformat": 4,
 "nbformat_minor": 5
}
