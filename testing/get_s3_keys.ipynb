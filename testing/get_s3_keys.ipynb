{
 "cells": [
  {
   "cell_type": "code",
   "execution_count": 1,
   "id": "07ef5cfd-c810-47ce-b983-eae2d05f47fd",
   "metadata": {},
   "outputs": [],
   "source": [
    "import dask_geopandas as dg"
   ]
  },
  {
   "cell_type": "code",
   "execution_count": null,
   "id": "5a9b8b16-9f21-4097-b0fe-4ed40ded124d",
   "metadata": {},
   "outputs": [],
   "source": [
    "AWS_ACCESS_KEY_ID = \"<YOUR ACCESS KEY>\"\n",
    "AWS_SECRET_ACCESS_KEY = \"<YOUR SECRET ACCESS KEY>\""
   ]
  },
  {
   "cell_type": "code",
   "execution_count": 3,
   "id": "83e3107c-5785-4b4e-a139-4cbb153fbedc",
   "metadata": {},
   "outputs": [],
   "source": [
    "import boto3\n",
    "s3_client = boto3.client('s3',\n",
    "                         aws_access_key_id = AWS_ACCESS_KEY_ID, \n",
    "                         aws_secret_access_key = AWS_SECRET_ACCESS_KEY,\n",
    "                         endpoint_url='https://data.source.coop'\n",
    "                        )"
   ]
  },
  {
   "cell_type": "code",
   "execution_count": 5,
   "id": "15e4c44d-867e-4d20-ac36-87d897e30b51",
   "metadata": {},
   "outputs": [],
   "source": [
    "local_path = \"./data/\""
   ]
  },
  {
   "cell_type": "code",
   "execution_count": 10,
   "id": "644a0945-44fa-43c7-a2ba-0c8386936f00",
   "metadata": {},
   "outputs": [],
   "source": [
    "def get_s3_keys(bucket_name, prefix_list, client):\n",
    "    keys = []\n",
    "\n",
    "    for i in prefix_list:\n",
    "        response = client.list_objects_v2(Bucket=bucket_name, Prefix=i)\n",
    "        print(response)\n",
    "        # for obj in response['Contents']:\n",
    "        #     keys.append(obj['Key'])\n",
    "\n",
    "    # return keys"
   ]
  },
  {
   "cell_type": "code",
   "execution_count": 7,
   "id": "98996447-40e0-407b-82ae-fa472e9eda97",
   "metadata": {},
   "outputs": [
    {
     "data": {
      "text/plain": [
       "['usa-structures/geoparquet/part-00000-0e550d15-2c27-4b72-8522-a4b856ab26dc-c000.zstd.parquet',\n",
       " 'usa-structures/geoparquet/part-00001-0e550d15-2c27-4b72-8522-a4b856ab26dc-c000.zstd.parquet',\n",
       " 'usa-structures/geoparquet/part-00002-0e550d15-2c27-4b72-8522-a4b856ab26dc-c000.zstd.parquet',\n",
       " 'usa-structures/geoparquet/part-00003-0e550d15-2c27-4b72-8522-a4b856ab26dc-c000.zstd.parquet',\n",
       " 'usa-structures/geoparquet/part-00004-0e550d15-2c27-4b72-8522-a4b856ab26dc-c000.zstd.parquet',\n",
       " 'usa-structures/geoparquet/part-00005-0e550d15-2c27-4b72-8522-a4b856ab26dc-c000.zstd.parquet',\n",
       " 'usa-structures/geoparquet/part-00006-0e550d15-2c27-4b72-8522-a4b856ab26dc-c000.zstd.parquet',\n",
       " 'usa-structures/geoparquet/part-00007-0e550d15-2c27-4b72-8522-a4b856ab26dc-c000.zstd.parquet',\n",
       " 'usa-structures/geoparquet/part-00008-0e550d15-2c27-4b72-8522-a4b856ab26dc-c000.zstd.parquet',\n",
       " 'usa-structures/geoparquet/part-00009-0e550d15-2c27-4b72-8522-a4b856ab26dc-c000.zstd.parquet',\n",
       " 'usa-structures/geoparquet/part-00010-0e550d15-2c27-4b72-8522-a4b856ab26dc-c000.zstd.parquet',\n",
       " 'usa-structures/geoparquet/part-00011-0e550d15-2c27-4b72-8522-a4b856ab26dc-c000.zstd.parquet',\n",
       " 'usa-structures/geoparquet/part-00012-0e550d15-2c27-4b72-8522-a4b856ab26dc-c000.zstd.parquet',\n",
       " 'usa-structures/geoparquet/part-00013-0e550d15-2c27-4b72-8522-a4b856ab26dc-c000.zstd.parquet',\n",
       " 'usa-structures/geoparquet/part-00014-0e550d15-2c27-4b72-8522-a4b856ab26dc-c000.zstd.parquet',\n",
       " 'usa-structures/geoparquet/part-00015-0e550d15-2c27-4b72-8522-a4b856ab26dc-c000.zstd.parquet',\n",
       " 'usa-structures/geoparquet/part-00016-0e550d15-2c27-4b72-8522-a4b856ab26dc-c000.zstd.parquet',\n",
       " 'usa-structures/geoparquet/part-00017-0e550d15-2c27-4b72-8522-a4b856ab26dc-c000.zstd.parquet',\n",
       " 'usa-structures/geoparquet/part-00018-0e550d15-2c27-4b72-8522-a4b856ab26dc-c000.zstd.parquet',\n",
       " 'usa-structures/geoparquet/part-00019-0e550d15-2c27-4b72-8522-a4b856ab26dc-c000.zstd.parquet']"
      ]
     },
     "execution_count": 7,
     "metadata": {},
     "output_type": "execute_result"
    }
   ],
   "source": [
    "bucket_name = 'wherobots'  # (Bucket name is the account the posted the dataset)?\n",
    "prefix = \"usa-structures/geoparquet/part-\"\n",
    "\n",
    "endfix = \"-0e550d15-2c27-4b72-8522-a4b856ab26dc-c000.zstd.parquet\"\n",
    "\n",
    "links = [f\"{prefix}{str(i).zfill(5)}{endfix}\" for i in range(0, 20)] # originally 0-200, datset updated mid project, now 0-20.\n",
    "links\n",
    "\n",
    "\n",
    "# The following link is the link available on 12/8/2024. However the print of 'links' variable is what was available on 12/6/2024 *THERE WAS AN UPDATE\n",
    "# https://data.source.coop/wherobots/usa-structures/geoparquet/part-00000-170892fe-0fe0-43c1-999d-f0911ce43365-c000.zstd.parquet"
   ]
  },
  {
   "cell_type": "markdown",
   "id": "679e5fa6-40be-4065-a975-710a3cf4da8b",
   "metadata": {},
   "source": [
    "# LEARNED\n",
    "\n",
    "With each update to this dataset, the file names do change. However, the initial portion:\n",
    "'usa-structures/geoparquet/part-00###-'\n",
    "and the ending\n",
    "'.zstd.parquet'\n",
    "\n",
    "All seem to be consistent. To try and compensate, will use an (*), to allow for any character inbetween sections. Instead of writing out the entire prefix, I can try \"*.parquet\". Even though I could add .ztsd., I don't think it is worth it in case this is deprecated in the future."
   ]
  },
  {
   "cell_type": "code",
   "execution_count": 36,
   "id": "fe3b0249-8ccc-4298-9858-6c5cfef0cad1",
   "metadata": {},
   "outputs": [
    {
     "data": {
      "text/plain": [
       "['usa-structures/geoparquet/part-00000*.parquet',\n",
       " 'usa-structures/geoparquet/part-00001*.parquet',\n",
       " 'usa-structures/geoparquet/part-00002*.parquet',\n",
       " 'usa-structures/geoparquet/part-00003*.parquet',\n",
       " 'usa-structures/geoparquet/part-00004*.parquet',\n",
       " 'usa-structures/geoparquet/part-00005*.parquet',\n",
       " 'usa-structures/geoparquet/part-00006*.parquet',\n",
       " 'usa-structures/geoparquet/part-00007*.parquet',\n",
       " 'usa-structures/geoparquet/part-00008*.parquet',\n",
       " 'usa-structures/geoparquet/part-00009*.parquet',\n",
       " 'usa-structures/geoparquet/part-00010*.parquet',\n",
       " 'usa-structures/geoparquet/part-00011*.parquet',\n",
       " 'usa-structures/geoparquet/part-00012*.parquet']"
      ]
     },
     "execution_count": 36,
     "metadata": {},
     "output_type": "execute_result"
    }
   ],
   "source": [
    "bucket_name = 'wherobots'  # (Bucket name is the account the posted the dataset)?\n",
    "prefix = \"usa-structures/geoparquet/part-\"\n",
    "\n",
    "endfix = \"*.parquet\"\n",
    "\n",
    "links = [f\"{prefix}{str(i).zfill(5)}{endfix}\" for i in range(0, 13)] # originally 0-200, datset updated mid project, now 0-12.\n",
    "links"
   ]
  },
  {
   "cell_type": "code",
   "execution_count": 29,
   "id": "c092701c-a889-4dfb-a0f3-f588fbfb34a8",
   "metadata": {},
   "outputs": [
    {
     "name": "stdout",
     "output_type": "stream",
     "text": [
      "{'ResponseMetadata': {'HTTPStatusCode': 200, 'HTTPHeaders': {'date': 'Sun, 08 Dec 2024 22:17:02 GMT', 'content-type': 'application/xml', 'content-length': '222', 'connection': 'keep-alive', 'vary': 'Origin, Access-Control-Request-Method, Access-Control-Request-Headers', 'access-control-allow-credentials': 'true', 'x-version': '0.1.20'}, 'RetryAttempts': 0}, 'IsTruncated': False, 'Name': 'wherobots', 'Prefix': 'usa-structures/geoparquet/part-00000*.parquet', 'MaxKeys': 1000, 'KeyCount': 0, 'NextContinuationToken': ''}\n",
      "{'ResponseMetadata': {'HTTPStatusCode': 200, 'HTTPHeaders': {'date': 'Sun, 08 Dec 2024 22:17:02 GMT', 'content-type': 'application/xml', 'content-length': '222', 'connection': 'keep-alive', 'vary': 'Origin, Access-Control-Request-Method, Access-Control-Request-Headers', 'access-control-allow-credentials': 'true', 'x-version': '0.1.20'}, 'RetryAttempts': 0}, 'IsTruncated': False, 'Name': 'wherobots', 'Prefix': 'usa-structures/geoparquet/part-00001*.parquet', 'MaxKeys': 1000, 'KeyCount': 0, 'NextContinuationToken': ''}\n",
      "{'ResponseMetadata': {'HTTPStatusCode': 200, 'HTTPHeaders': {'date': 'Sun, 08 Dec 2024 22:17:03 GMT', 'content-type': 'application/xml', 'content-length': '222', 'connection': 'keep-alive', 'access-control-allow-credentials': 'true', 'vary': 'Origin, Access-Control-Request-Method, Access-Control-Request-Headers', 'x-version': '0.1.20'}, 'RetryAttempts': 0}, 'IsTruncated': False, 'Name': 'wherobots', 'Prefix': 'usa-structures/geoparquet/part-00002*.parquet', 'MaxKeys': 1000, 'KeyCount': 0, 'NextContinuationToken': ''}\n"
     ]
    }
   ],
   "source": [
    "get_s3_keys(bucket_name, links[0:3], s3_client) # This should give a key value!"
   ]
  },
  {
   "cell_type": "markdown",
   "id": "be58c660-0629-4b37-9426-123943fe8cc0",
   "metadata": {},
   "source": [
    "# Second Attempt - hard-coded"
   ]
  },
  {
   "cell_type": "code",
   "execution_count": 34,
   "id": "23aaa5f1-2bb9-493f-a763-b74ba8b446ab",
   "metadata": {},
   "outputs": [
    {
     "data": {
      "text/plain": [
       "['usa-structures/geoparquet/part-00000-170892fe-0fe0-43c1-999d-f0911ce43365-c000.zstd.parquet',\n",
       " 'usa-structures/geoparquet/part-00001-170892fe-0fe0-43c1-999d-f0911ce43365-c000.zstd.parquet',\n",
       " 'usa-structures/geoparquet/part-00002-170892fe-0fe0-43c1-999d-f0911ce43365-c000.zstd.parquet',\n",
       " 'usa-structures/geoparquet/part-00003-170892fe-0fe0-43c1-999d-f0911ce43365-c000.zstd.parquet',\n",
       " 'usa-structures/geoparquet/part-00004-170892fe-0fe0-43c1-999d-f0911ce43365-c000.zstd.parquet',\n",
       " 'usa-structures/geoparquet/part-00005-170892fe-0fe0-43c1-999d-f0911ce43365-c000.zstd.parquet',\n",
       " 'usa-structures/geoparquet/part-00006-170892fe-0fe0-43c1-999d-f0911ce43365-c000.zstd.parquet',\n",
       " 'usa-structures/geoparquet/part-00007-170892fe-0fe0-43c1-999d-f0911ce43365-c000.zstd.parquet',\n",
       " 'usa-structures/geoparquet/part-00008-170892fe-0fe0-43c1-999d-f0911ce43365-c000.zstd.parquet',\n",
       " 'usa-structures/geoparquet/part-00009-170892fe-0fe0-43c1-999d-f0911ce43365-c000.zstd.parquet',\n",
       " 'usa-structures/geoparquet/part-00010-170892fe-0fe0-43c1-999d-f0911ce43365-c000.zstd.parquet',\n",
       " 'usa-structures/geoparquet/part-00011-170892fe-0fe0-43c1-999d-f0911ce43365-c000.zstd.parquet',\n",
       " 'usa-structures/geoparquet/part-00012-170892fe-0fe0-43c1-999d-f0911ce43365-c000.zstd.parquet']"
      ]
     },
     "execution_count": 34,
     "metadata": {},
     "output_type": "execute_result"
    }
   ],
   "source": [
    "# https://data.source.coop/wherobots/usa-structures/geoparquet/part-00000-170892fe-0fe0-43c1-999d-f0911ce43365-c000.zstd.parquet\n",
    "\n",
    "bucket_name = 'wherobots'  # (Bucket name is the account the posted the dataset)?\n",
    "prefix = \"usa-structures/geoparquet/part-\"\n",
    "\n",
    "endfix = \"-170892fe-0fe0-43c1-999d-f0911ce43365-c000.zstd.parquet\"\n",
    "\n",
    "links = [f\"{prefix}{str(i).zfill(5)}{endfix}\" for i in range(0, 13)] # originally 0-200, datset updated mid project, now 0-12.\n",
    "links"
   ]
  },
  {
   "cell_type": "code",
   "execution_count": 35,
   "id": "16bf1e5d-3185-4635-9533-e1735eaf80bf",
   "metadata": {},
   "outputs": [
    {
     "name": "stdout",
     "output_type": "stream",
     "text": [
      "{'ResponseMetadata': {'HTTPStatusCode': 200, 'HTTPHeaders': {'date': 'Sun, 08 Dec 2024 22:24:37 GMT', 'content-type': 'application/xml', 'content-length': '555', 'connection': 'keep-alive', 'access-control-allow-credentials': 'true', 'vary': 'Origin, Access-Control-Request-Method, Access-Control-Request-Headers', 'x-version': '0.1.20'}, 'RetryAttempts': 0}, 'IsTruncated': False, 'Contents': [{'Key': 'usa-structures/geoparquet/part-00000-170892fe-0fe0-43c1-999d-f0911ce43365-c000.zstd.parquet', 'LastModified': datetime.datetime(2024, 12, 6, 20, 29, 54, tzinfo=tzlocal()), 'ETag': '\"6134b659201feaa55fbcb402a47b6bb1-246\"', 'Size': 2058402104, 'StorageClass': 'STANDARD'}], 'Name': 'wherobots', 'Prefix': 'usa-structures/geoparquet/part-00000-170892fe-0fe0-43c1-999d-f0911ce43365-c000.zstd.parquet', 'MaxKeys': 1000, 'KeyCount': 1, 'NextContinuationToken': ''}\n",
      "{'ResponseMetadata': {'HTTPStatusCode': 200, 'HTTPHeaders': {'date': 'Sun, 08 Dec 2024 22:24:37 GMT', 'content-type': 'application/xml', 'content-length': '555', 'connection': 'keep-alive', 'vary': 'Origin, Access-Control-Request-Method, Access-Control-Request-Headers', 'x-version': '0.1.20', 'access-control-allow-credentials': 'true'}, 'RetryAttempts': 0}, 'IsTruncated': False, 'Contents': [{'Key': 'usa-structures/geoparquet/part-00001-170892fe-0fe0-43c1-999d-f0911ce43365-c000.zstd.parquet', 'LastModified': datetime.datetime(2024, 12, 6, 20, 30, 13, tzinfo=tzlocal()), 'ETag': '\"49b0b9d00415181a65d35bca9c7b0723-249\"', 'Size': 2085197694, 'StorageClass': 'STANDARD'}], 'Name': 'wherobots', 'Prefix': 'usa-structures/geoparquet/part-00001-170892fe-0fe0-43c1-999d-f0911ce43365-c000.zstd.parquet', 'MaxKeys': 1000, 'KeyCount': 1, 'NextContinuationToken': ''}\n",
      "{'ResponseMetadata': {'HTTPStatusCode': 200, 'HTTPHeaders': {'date': 'Sun, 08 Dec 2024 22:24:37 GMT', 'content-type': 'application/xml', 'content-length': '555', 'connection': 'keep-alive', 'access-control-allow-credentials': 'true', 'vary': 'Origin, Access-Control-Request-Method, Access-Control-Request-Headers', 'x-version': '0.1.20'}, 'RetryAttempts': 0}, 'IsTruncated': False, 'Contents': [{'Key': 'usa-structures/geoparquet/part-00002-170892fe-0fe0-43c1-999d-f0911ce43365-c000.zstd.parquet', 'LastModified': datetime.datetime(2024, 12, 6, 20, 30, 28, tzinfo=tzlocal()), 'ETag': '\"db089e99e2adaddf508f19ba223b9db2-249\"', 'Size': 2083723856, 'StorageClass': 'STANDARD'}], 'Name': 'wherobots', 'Prefix': 'usa-structures/geoparquet/part-00002-170892fe-0fe0-43c1-999d-f0911ce43365-c000.zstd.parquet', 'MaxKeys': 1000, 'KeyCount': 1, 'NextContinuationToken': ''}\n",
      "{'ResponseMetadata': {'HTTPStatusCode': 200, 'HTTPHeaders': {'date': 'Sun, 08 Dec 2024 22:24:37 GMT', 'content-type': 'application/xml', 'content-length': '555', 'connection': 'keep-alive', 'vary': 'Origin, Access-Control-Request-Method, Access-Control-Request-Headers', 'x-version': '0.1.20', 'access-control-allow-credentials': 'true'}, 'RetryAttempts': 0}, 'IsTruncated': False, 'Contents': [{'Key': 'usa-structures/geoparquet/part-00003-170892fe-0fe0-43c1-999d-f0911ce43365-c000.zstd.parquet', 'LastModified': datetime.datetime(2024, 12, 6, 20, 30, 44, tzinfo=tzlocal()), 'ETag': '\"af2a2883c506f3b2184d495b38e3db66-238\"', 'Size': 1989209550, 'StorageClass': 'STANDARD'}], 'Name': 'wherobots', 'Prefix': 'usa-structures/geoparquet/part-00003-170892fe-0fe0-43c1-999d-f0911ce43365-c000.zstd.parquet', 'MaxKeys': 1000, 'KeyCount': 1, 'NextContinuationToken': ''}\n",
      "{'ResponseMetadata': {'HTTPStatusCode': 200, 'HTTPHeaders': {'date': 'Sun, 08 Dec 2024 22:24:38 GMT', 'content-type': 'application/xml', 'content-length': '555', 'connection': 'keep-alive', 'vary': 'Origin, Access-Control-Request-Method, Access-Control-Request-Headers', 'x-version': '0.1.20', 'access-control-allow-credentials': 'true'}, 'RetryAttempts': 0}, 'IsTruncated': False, 'Contents': [{'Key': 'usa-structures/geoparquet/part-00004-170892fe-0fe0-43c1-999d-f0911ce43365-c000.zstd.parquet', 'LastModified': datetime.datetime(2024, 12, 6, 20, 30, 59, tzinfo=tzlocal()), 'ETag': '\"59323b1adf2e1f9c7987e9846d02ab45-243\"', 'Size': 2034723062, 'StorageClass': 'STANDARD'}], 'Name': 'wherobots', 'Prefix': 'usa-structures/geoparquet/part-00004-170892fe-0fe0-43c1-999d-f0911ce43365-c000.zstd.parquet', 'MaxKeys': 1000, 'KeyCount': 1, 'NextContinuationToken': ''}\n",
      "{'ResponseMetadata': {'HTTPStatusCode': 200, 'HTTPHeaders': {'date': 'Sun, 08 Dec 2024 22:24:38 GMT', 'content-type': 'application/xml', 'content-length': '555', 'connection': 'keep-alive', 'access-control-allow-credentials': 'true', 'vary': 'Origin, Access-Control-Request-Method, Access-Control-Request-Headers', 'x-version': '0.1.20'}, 'RetryAttempts': 0}, 'IsTruncated': False, 'Contents': [{'Key': 'usa-structures/geoparquet/part-00005-170892fe-0fe0-43c1-999d-f0911ce43365-c000.zstd.parquet', 'LastModified': datetime.datetime(2024, 12, 6, 20, 31, 17, tzinfo=tzlocal()), 'ETag': '\"ad0901c1f20abb3a863723ab1e2608c9-242\"', 'Size': 2025652551, 'StorageClass': 'STANDARD'}], 'Name': 'wherobots', 'Prefix': 'usa-structures/geoparquet/part-00005-170892fe-0fe0-43c1-999d-f0911ce43365-c000.zstd.parquet', 'MaxKeys': 1000, 'KeyCount': 1, 'NextContinuationToken': ''}\n",
      "{'ResponseMetadata': {'HTTPStatusCode': 200, 'HTTPHeaders': {'date': 'Sun, 08 Dec 2024 22:24:38 GMT', 'content-type': 'application/xml', 'content-length': '555', 'connection': 'keep-alive', 'vary': 'Origin, Access-Control-Request-Method, Access-Control-Request-Headers', 'x-version': '0.1.20', 'access-control-allow-credentials': 'true'}, 'RetryAttempts': 0}, 'IsTruncated': False, 'Contents': [{'Key': 'usa-structures/geoparquet/part-00006-170892fe-0fe0-43c1-999d-f0911ce43365-c000.zstd.parquet', 'LastModified': datetime.datetime(2024, 12, 6, 20, 31, 33, tzinfo=tzlocal()), 'ETag': '\"d8efae1f91bc106fa66abc515440359d-247\"', 'Size': 2070924374, 'StorageClass': 'STANDARD'}], 'Name': 'wherobots', 'Prefix': 'usa-structures/geoparquet/part-00006-170892fe-0fe0-43c1-999d-f0911ce43365-c000.zstd.parquet', 'MaxKeys': 1000, 'KeyCount': 1, 'NextContinuationToken': ''}\n",
      "{'ResponseMetadata': {'HTTPStatusCode': 200, 'HTTPHeaders': {'date': 'Sun, 08 Dec 2024 22:24:38 GMT', 'content-type': 'application/xml', 'content-length': '555', 'connection': 'keep-alive', 'vary': 'Origin, Access-Control-Request-Method, Access-Control-Request-Headers', 'x-version': '0.1.20', 'access-control-allow-credentials': 'true'}, 'RetryAttempts': 0}, 'IsTruncated': False, 'Contents': [{'Key': 'usa-structures/geoparquet/part-00007-170892fe-0fe0-43c1-999d-f0911ce43365-c000.zstd.parquet', 'LastModified': datetime.datetime(2024, 12, 6, 20, 31, 50, tzinfo=tzlocal()), 'ETag': '\"356b8b28c447c8f6be6dc028defb8d40-243\"', 'Size': 2036378591, 'StorageClass': 'STANDARD'}], 'Name': 'wherobots', 'Prefix': 'usa-structures/geoparquet/part-00007-170892fe-0fe0-43c1-999d-f0911ce43365-c000.zstd.parquet', 'MaxKeys': 1000, 'KeyCount': 1, 'NextContinuationToken': ''}\n",
      "{'ResponseMetadata': {'HTTPStatusCode': 200, 'HTTPHeaders': {'date': 'Sun, 08 Dec 2024 22:24:38 GMT', 'content-type': 'application/xml', 'content-length': '555', 'connection': 'keep-alive', 'access-control-allow-credentials': 'true', 'vary': 'Origin, Access-Control-Request-Method, Access-Control-Request-Headers', 'x-version': '0.1.20'}, 'RetryAttempts': 0}, 'IsTruncated': False, 'Contents': [{'Key': 'usa-structures/geoparquet/part-00008-170892fe-0fe0-43c1-999d-f0911ce43365-c000.zstd.parquet', 'LastModified': datetime.datetime(2024, 12, 6, 20, 32, 6, tzinfo=tzlocal()), 'ETag': '\"7e4c2fc9d786ad052bbe35355977e9d2-242\"', 'Size': 2026668774, 'StorageClass': 'STANDARD'}], 'Name': 'wherobots', 'Prefix': 'usa-structures/geoparquet/part-00008-170892fe-0fe0-43c1-999d-f0911ce43365-c000.zstd.parquet', 'MaxKeys': 1000, 'KeyCount': 1, 'NextContinuationToken': ''}\n",
      "{'ResponseMetadata': {'HTTPStatusCode': 200, 'HTTPHeaders': {'date': 'Sun, 08 Dec 2024 22:24:39 GMT', 'content-type': 'application/xml', 'content-length': '555', 'connection': 'keep-alive', 'vary': 'Origin, Access-Control-Request-Method, Access-Control-Request-Headers', 'x-version': '0.1.20', 'access-control-allow-credentials': 'true'}, 'RetryAttempts': 0}, 'IsTruncated': False, 'Contents': [{'Key': 'usa-structures/geoparquet/part-00009-170892fe-0fe0-43c1-999d-f0911ce43365-c000.zstd.parquet', 'LastModified': datetime.datetime(2024, 12, 6, 20, 32, 23, tzinfo=tzlocal()), 'ETag': '\"52c185bb117132430abfe8dffba0b499-245\"', 'Size': 2051480940, 'StorageClass': 'STANDARD'}], 'Name': 'wherobots', 'Prefix': 'usa-structures/geoparquet/part-00009-170892fe-0fe0-43c1-999d-f0911ce43365-c000.zstd.parquet', 'MaxKeys': 1000, 'KeyCount': 1, 'NextContinuationToken': ''}\n",
      "{'ResponseMetadata': {'HTTPStatusCode': 200, 'HTTPHeaders': {'date': 'Sun, 08 Dec 2024 22:24:39 GMT', 'content-type': 'application/xml', 'content-length': '268', 'connection': 'keep-alive', 'vary': 'Origin, Access-Control-Request-Method, Access-Control-Request-Headers', 'x-version': '0.1.20', 'access-control-allow-credentials': 'true'}, 'RetryAttempts': 0}, 'IsTruncated': False, 'Name': 'wherobots', 'Prefix': 'usa-structures/geoparquet/part-00010-170892fe-0fe0-43c1-999d-f0911ce43365-c000.zstd.parquet', 'MaxKeys': 1000, 'KeyCount': 0, 'NextContinuationToken': ''}\n",
      "{'ResponseMetadata': {'HTTPStatusCode': 200, 'HTTPHeaders': {'date': 'Sun, 08 Dec 2024 22:24:39 GMT', 'content-type': 'application/xml', 'content-length': '268', 'connection': 'keep-alive', 'access-control-allow-credentials': 'true', 'vary': 'Origin, Access-Control-Request-Method, Access-Control-Request-Headers', 'x-version': '0.1.20'}, 'RetryAttempts': 0}, 'IsTruncated': False, 'Name': 'wherobots', 'Prefix': 'usa-structures/geoparquet/part-00011-170892fe-0fe0-43c1-999d-f0911ce43365-c000.zstd.parquet', 'MaxKeys': 1000, 'KeyCount': 0, 'NextContinuationToken': ''}\n",
      "{'ResponseMetadata': {'HTTPStatusCode': 200, 'HTTPHeaders': {'date': 'Sun, 08 Dec 2024 22:24:39 GMT', 'content-type': 'application/xml', 'content-length': '268', 'connection': 'keep-alive', 'vary': 'Origin, Access-Control-Request-Method, Access-Control-Request-Headers', 'x-version': '0.1.20', 'access-control-allow-credentials': 'true'}, 'RetryAttempts': 0}, 'IsTruncated': False, 'Name': 'wherobots', 'Prefix': 'usa-structures/geoparquet/part-00012-170892fe-0fe0-43c1-999d-f0911ce43365-c000.zstd.parquet', 'MaxKeys': 1000, 'KeyCount': 0, 'NextContinuationToken': ''}\n"
     ]
    }
   ],
   "source": [
    "get_s3_keys(bucket_name, links, s3_client)  # NOTE: At this moment it should only show a key for 00000 to 00009"
   ]
  },
  {
   "cell_type": "markdown",
   "id": "79815d6b-358a-432a-931f-003beac123f3",
   "metadata": {},
   "source": [
    "# Hard-coding attempt worked\n",
    "It works! \n",
    "\n",
    "However, this is hardcoded, and since we know the portion between the unique 5-identifier-digits and '.parquet' can change. This will need to be tested to make more reproducible!\n",
    "\n",
    "Idea:\n",
    "- Next time only do to the '/geoparquet/' folder. Don't specify the remaining 'part-00001-...parquet'. Maybe this will allow it?"
   ]
  },
  {
   "cell_type": "code",
   "execution_count": 38,
   "id": "7bf59f14-35bc-4dd7-823d-685a129d703a",
   "metadata": {},
   "outputs": [
    {
     "ename": "ClientError",
     "evalue": "An error occurred (404) when calling the ListObjectsV2 operation: Not Found",
     "output_type": "error",
     "traceback": [
      "\u001b[0;31m---------------------------------------------------------------------------\u001b[0m",
      "\u001b[0;31mClientError\u001b[0m                               Traceback (most recent call last)",
      "Cell \u001b[0;32mIn[38], line 4\u001b[0m\n\u001b[1;32m      1\u001b[0m bucket_name \u001b[38;5;241m=\u001b[39m \u001b[38;5;124m'\u001b[39m\u001b[38;5;124mwherobots\u001b[39m\u001b[38;5;124m'\u001b[39m  \u001b[38;5;66;03m# (Bucket name is the account the posted the dataset)?\u001b[39;00m\n\u001b[1;32m      2\u001b[0m prefix \u001b[38;5;241m=\u001b[39m \u001b[38;5;124m\"\u001b[39m\u001b[38;5;124musa-structures/geoparquet/part-\u001b[39m\u001b[38;5;124m\"\u001b[39m\n\u001b[0;32m----> 4\u001b[0m \u001b[43mget_s3_keys\u001b[49m\u001b[43m(\u001b[49m\u001b[43mbucket_name\u001b[49m\u001b[43m,\u001b[49m\u001b[43m \u001b[49m\u001b[43mprefix\u001b[49m\u001b[43m,\u001b[49m\u001b[43m \u001b[49m\u001b[43ms3_client\u001b[49m\u001b[43m)\u001b[49m  \u001b[38;5;66;03m# NOTE: At this moment it should only show a key for 00000 to 00009\u001b[39;00m\n",
      "Cell \u001b[0;32mIn[10], line 5\u001b[0m, in \u001b[0;36mget_s3_keys\u001b[0;34m(bucket_name, prefix_list, client)\u001b[0m\n\u001b[1;32m      2\u001b[0m keys \u001b[38;5;241m=\u001b[39m []\n\u001b[1;32m      4\u001b[0m \u001b[38;5;28;01mfor\u001b[39;00m i \u001b[38;5;129;01min\u001b[39;00m prefix_list:\n\u001b[0;32m----> 5\u001b[0m     response \u001b[38;5;241m=\u001b[39m \u001b[43mclient\u001b[49m\u001b[38;5;241;43m.\u001b[39;49m\u001b[43mlist_objects_v2\u001b[49m\u001b[43m(\u001b[49m\u001b[43mBucket\u001b[49m\u001b[38;5;241;43m=\u001b[39;49m\u001b[43mbucket_name\u001b[49m\u001b[43m,\u001b[49m\u001b[43m \u001b[49m\u001b[43mPrefix\u001b[49m\u001b[38;5;241;43m=\u001b[39;49m\u001b[43mi\u001b[49m\u001b[43m)\u001b[49m\n\u001b[1;32m      6\u001b[0m     \u001b[38;5;28mprint\u001b[39m(response)\n",
      "File \u001b[0;32m/opt/conda/envs/building-footprint-analysis/lib/python3.12/site-packages/botocore/client.py:569\u001b[0m, in \u001b[0;36mClientCreator._create_api_method.<locals>._api_call\u001b[0;34m(self, *args, **kwargs)\u001b[0m\n\u001b[1;32m    565\u001b[0m     \u001b[38;5;28;01mraise\u001b[39;00m \u001b[38;5;167;01mTypeError\u001b[39;00m(\n\u001b[1;32m    566\u001b[0m         \u001b[38;5;124mf\u001b[39m\u001b[38;5;124m\"\u001b[39m\u001b[38;5;132;01m{\u001b[39;00mpy_operation_name\u001b[38;5;132;01m}\u001b[39;00m\u001b[38;5;124m() only accepts keyword arguments.\u001b[39m\u001b[38;5;124m\"\u001b[39m\n\u001b[1;32m    567\u001b[0m     )\n\u001b[1;32m    568\u001b[0m \u001b[38;5;66;03m# The \"self\" in this scope is referring to the BaseClient.\u001b[39;00m\n\u001b[0;32m--> 569\u001b[0m \u001b[38;5;28;01mreturn\u001b[39;00m \u001b[38;5;28;43mself\u001b[39;49m\u001b[38;5;241;43m.\u001b[39;49m\u001b[43m_make_api_call\u001b[49m\u001b[43m(\u001b[49m\u001b[43moperation_name\u001b[49m\u001b[43m,\u001b[49m\u001b[43m \u001b[49m\u001b[43mkwargs\u001b[49m\u001b[43m)\u001b[49m\n",
      "File \u001b[0;32m/opt/conda/envs/building-footprint-analysis/lib/python3.12/site-packages/botocore/client.py:1023\u001b[0m, in \u001b[0;36mBaseClient._make_api_call\u001b[0;34m(self, operation_name, api_params)\u001b[0m\n\u001b[1;32m   1019\u001b[0m     error_code \u001b[38;5;241m=\u001b[39m error_info\u001b[38;5;241m.\u001b[39mget(\u001b[38;5;124m\"\u001b[39m\u001b[38;5;124mQueryErrorCode\u001b[39m\u001b[38;5;124m\"\u001b[39m) \u001b[38;5;129;01mor\u001b[39;00m error_info\u001b[38;5;241m.\u001b[39mget(\n\u001b[1;32m   1020\u001b[0m         \u001b[38;5;124m\"\u001b[39m\u001b[38;5;124mCode\u001b[39m\u001b[38;5;124m\"\u001b[39m\n\u001b[1;32m   1021\u001b[0m     )\n\u001b[1;32m   1022\u001b[0m     error_class \u001b[38;5;241m=\u001b[39m \u001b[38;5;28mself\u001b[39m\u001b[38;5;241m.\u001b[39mexceptions\u001b[38;5;241m.\u001b[39mfrom_code(error_code)\n\u001b[0;32m-> 1023\u001b[0m     \u001b[38;5;28;01mraise\u001b[39;00m error_class(parsed_response, operation_name)\n\u001b[1;32m   1024\u001b[0m \u001b[38;5;28;01melse\u001b[39;00m:\n\u001b[1;32m   1025\u001b[0m     \u001b[38;5;28;01mreturn\u001b[39;00m parsed_response\n",
      "\u001b[0;31mClientError\u001b[0m: An error occurred (404) when calling the ListObjectsV2 operation: Not Found"
     ]
    }
   ],
   "source": [
    "bucket_name = 'wherobots'  # (Bucket name is the account the posted the dataset)?\n",
    "prefix = \"usa-structures/geoparquet/part-\"\n",
    "\n",
    "get_s3_keys(bucket_name, prefix, s3_client)  # NOTE: At this moment it should only show a key for 00000 to 00009"
   ]
  },
  {
   "cell_type": "markdown",
   "id": "397ead43-d60b-4910-8326-81059e07acb4",
   "metadata": {},
   "source": [
    "This doesn't work because the get_s3_keys function requires a list (the for-loop within it), this is not inputting a list."
   ]
  },
  {
   "cell_type": "code",
   "execution_count": 44,
   "id": "d9ecf531-d35e-4f19-bb15-bc8aa540cca1",
   "metadata": {},
   "outputs": [],
   "source": [
    "def get_s3_keys_all(bucket_name, prefix, client):\n",
    "    keys = []\n",
    "    response = client.list_objects_v2(Bucket=bucket_name, Prefix=prefix)\n",
    "    print(response)\n",
    "    \n",
    "    # for obj in response['Contents']:\n",
    "    #     keys.append(obj['Key'])\n",
    "    \n",
    "    # return keys"
   ]
  },
  {
   "cell_type": "code",
   "execution_count": 48,
   "id": "0200c86c-7f97-4dc9-b5fc-42b2802e8716",
   "metadata": {},
   "outputs": [],
   "source": [
    "bucket_name = 'wherobots'  # (Bucket name is the account the posted the dataset)?\n",
    "prefix = \"usa-structures/geoparquet/part-\"\n",
    "\n",
    "test = get_s3_keys_all(bucket_name, prefix, s3_client)"
   ]
  },
  {
   "cell_type": "code",
   "execution_count": 49,
   "id": "ab4a9f9f-7715-4d48-8ecd-d0720188e207",
   "metadata": {},
   "outputs": [
    {
     "data": {
      "text/plain": [
       "['usa-structures/geoparquet/part-00000-170892fe-0fe0-43c1-999d-f0911ce43365-c000.zstd.parquet',\n",
       " 'usa-structures/geoparquet/part-00001-170892fe-0fe0-43c1-999d-f0911ce43365-c000.zstd.parquet',\n",
       " 'usa-structures/geoparquet/part-00002-170892fe-0fe0-43c1-999d-f0911ce43365-c000.zstd.parquet',\n",
       " 'usa-structures/geoparquet/part-00003-170892fe-0fe0-43c1-999d-f0911ce43365-c000.zstd.parquet',\n",
       " 'usa-structures/geoparquet/part-00004-170892fe-0fe0-43c1-999d-f0911ce43365-c000.zstd.parquet',\n",
       " 'usa-structures/geoparquet/part-00005-170892fe-0fe0-43c1-999d-f0911ce43365-c000.zstd.parquet',\n",
       " 'usa-structures/geoparquet/part-00006-170892fe-0fe0-43c1-999d-f0911ce43365-c000.zstd.parquet',\n",
       " 'usa-structures/geoparquet/part-00007-170892fe-0fe0-43c1-999d-f0911ce43365-c000.zstd.parquet',\n",
       " 'usa-structures/geoparquet/part-00008-170892fe-0fe0-43c1-999d-f0911ce43365-c000.zstd.parquet',\n",
       " 'usa-structures/geoparquet/part-00009-170892fe-0fe0-43c1-999d-f0911ce43365-c000.zstd.parquet']"
      ]
     },
     "execution_count": 49,
     "metadata": {},
     "output_type": "execute_result"
    }
   ],
   "source": [
    "test # this is just showing the print statements!"
   ]
  },
  {
   "cell_type": "markdown",
   "id": "e2ff89d5-30c5-452d-86d6-55664d361193",
   "metadata": {},
   "source": [
    "### Removing the for-loop fixed our error!"
   ]
  },
  {
   "cell_type": "markdown",
   "id": "9d28354b-b13b-448e-96de-cb92a8443a06",
   "metadata": {},
   "source": [
    "# Final Version of get_s3_keys_all"
   ]
  },
  {
   "cell_type": "code",
   "execution_count": 50,
   "id": "4907cbc4-1fb3-4bb6-8471-b3e3a066d26f",
   "metadata": {},
   "outputs": [],
   "source": [
    "def get_s3_keys_all(bucket_name, prefix, client):\n",
    "    keys = []\n",
    "    response = client.list_objects_v2(Bucket=bucket_name, Prefix=prefix)\n",
    "    \n",
    "    for obj in response['Contents']:\n",
    "        keys.append(obj['Key'])\n",
    "    \n",
    "    return keys"
   ]
  },
  {
   "cell_type": "code",
   "execution_count": 51,
   "id": "5b968af8-c063-4fd9-bf9e-0f83ffc1cbb4",
   "metadata": {},
   "outputs": [],
   "source": [
    "bucket_name = 'wherobots'  # (Bucket name is the account the posted the dataset)?\n",
    "prefix = \"usa-structures/geoparquet/part-\"\n",
    "\n",
    "# all_keys = get_s3_keys2(bucket_name, prefix, s3_client)\n",
    "\n",
    "keys = get_s3_keys_all(bucket_name, prefix, s3_client)"
   ]
  },
  {
   "cell_type": "code",
   "execution_count": 52,
   "id": "308d177c-3b53-416e-ab01-9b3615651d4a",
   "metadata": {},
   "outputs": [
    {
     "data": {
      "text/plain": [
       "['usa-structures/geoparquet/part-00000-170892fe-0fe0-43c1-999d-f0911ce43365-c000.zstd.parquet',\n",
       " 'usa-structures/geoparquet/part-00001-170892fe-0fe0-43c1-999d-f0911ce43365-c000.zstd.parquet',\n",
       " 'usa-structures/geoparquet/part-00002-170892fe-0fe0-43c1-999d-f0911ce43365-c000.zstd.parquet',\n",
       " 'usa-structures/geoparquet/part-00003-170892fe-0fe0-43c1-999d-f0911ce43365-c000.zstd.parquet',\n",
       " 'usa-structures/geoparquet/part-00004-170892fe-0fe0-43c1-999d-f0911ce43365-c000.zstd.parquet',\n",
       " 'usa-structures/geoparquet/part-00005-170892fe-0fe0-43c1-999d-f0911ce43365-c000.zstd.parquet',\n",
       " 'usa-structures/geoparquet/part-00006-170892fe-0fe0-43c1-999d-f0911ce43365-c000.zstd.parquet',\n",
       " 'usa-structures/geoparquet/part-00007-170892fe-0fe0-43c1-999d-f0911ce43365-c000.zstd.parquet',\n",
       " 'usa-structures/geoparquet/part-00008-170892fe-0fe0-43c1-999d-f0911ce43365-c000.zstd.parquet',\n",
       " 'usa-structures/geoparquet/part-00009-170892fe-0fe0-43c1-999d-f0911ce43365-c000.zstd.parquet']"
      ]
     },
     "execution_count": 52,
     "metadata": {},
     "output_type": "execute_result"
    }
   ],
   "source": [
    "keys"
   ]
  },
  {
   "cell_type": "markdown",
   "id": "dcb1c6ed-3e02-4c9f-bca2-d24206bf6cee",
   "metadata": {},
   "source": [
    "This approach is great because it will simply grab every single file/key in the dataset.\n",
    "However, this becomes problematic when users can't handle the storage requirement. Therefore I will try to keep a separate function where users can specify what they want."
   ]
  }
 ],
 "metadata": {
  "kernelspec": {
   "display_name": "Python 3 (ipykernel)",
   "language": "python",
   "name": "python3"
  },
  "language_info": {
   "codemirror_mode": {
    "name": "ipython",
    "version": 3
   },
   "file_extension": ".py",
   "mimetype": "text/x-python",
   "name": "python",
   "nbconvert_exporter": "python",
   "pygments_lexer": "ipython3",
   "version": "3.12.8"
  }
 },
 "nbformat": 4,
 "nbformat_minor": 5
}
