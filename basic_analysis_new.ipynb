{
  "cells": [
    {
      "cell_type": "markdown",
      "source": [
        "## Overview"
      ],
      "metadata": {
        "id": "g3DkoXVTJSVe"
      },
      "id": "g3DkoXVTJSVe"
    },
    {
      "cell_type": "markdown",
      "source": [
        "This file walks users through Library/Set-up, Install, Data Integrity Checks (using Worcester, MA), a town, two samples, and future implementation for this code.\n",
        "\n",
        "The City (Worcester) and Town (Norwood) example code should not be ran. They require hefty computations and will likely crash Dask.\n",
        "\n",
        "To compensate, we run these code examples on two samples of the data, 5 structures located in American Samoa and a random partition."
      ],
      "metadata": {
        "id": "zXOLU8RkJP1N"
      },
      "id": "zXOLU8RkJP1N"
    },
    {
      "cell_type": "markdown",
      "id": "8ddfc205-a6b6-409b-8782-eacb54706613",
      "metadata": {
        "id": "8ddfc205-a6b6-409b-8782-eacb54706613"
      },
      "source": [
        "## Setting up Libraries, S3 client, and Dask Dashboard"
      ]
    },
    {
      "cell_type": "code",
      "execution_count": 14,
      "id": "227094c6-524f-495a-ac9c-39b58e2e0e12",
      "metadata": {
        "id": "227094c6-524f-495a-ac9c-39b58e2e0e12"
      },
      "outputs": [],
      "source": [
        "import matplotlib.pyplot as plt\n",
        "import numpy as np\n",
        "import dask_geopandas as dg\n",
        "import utils as ut"
      ]
    },
    {
      "cell_type": "markdown",
      "id": "cdf37d16-171b-41a5-bd98-5b4667d0f4fb",
      "metadata": {
        "id": "cdf37d16-171b-41a5-bd98-5b4667d0f4fb"
      },
      "source": [
        "### ATTENTION:\n",
        "User must follow below instructions and replace the AWS access key and secret access key. This is crucial for the analysis to work.\n",
        "\n",
        "##### Utilizing data from: https://source.coop/repositories/wherobots/usa-structures/description\n",
        "\n",
        "All data on Source Cooperative, are hosted on AWS S3 bucket. In order to access them, you need credentials that you can generate on Source Cooperative website. Atfer logging in, click on your name at the top right corner, and then click on your username. Then navigate to \"Manage\" page on the left side. At the bottom of this page you will find a section called \"API Keys\". If no key has been generated before, generate a new one and then copy the values for each of the following keys, and paste them in the following cell.\n",
        "\n",
        "source.coop website: https://source.coop/\n",
        "\n",
        "###### Source: https://github.com/github.com/HamedAlemo/vector-data-tutorial/scalable_vector_analysis.ipynb"
      ]
    },
    {
      "cell_type": "code",
      "execution_count": null,
      "id": "7ab1349c-b5c6-4535-aaf6-b59305157d62",
      "metadata": {
        "id": "7ab1349c-b5c6-4535-aaf6-b59305157d62"
      },
      "outputs": [],
      "source": [
        "##################################\n",
        "#   Read Above 'ATTENTION' Note  #\n",
        "##################################\n",
        "\n",
        "AWS_ACCESS_KEY_ID = \"<YOUR ACCESS KEY>\"\n",
        "AWS_SECRET_ACCESS_KEY = \"<YOUR SECRET ACCESS KEY>\""
      ]
    },
    {
      "cell_type": "code",
      "execution_count": 16,
      "id": "499c7078-c992-4729-bcfd-a52375556369",
      "metadata": {
        "id": "499c7078-c992-4729-bcfd-a52375556369"
      },
      "outputs": [],
      "source": [
        "import boto3\n",
        "s3_client = boto3.client('s3',\n",
        "                         aws_access_key_id = AWS_ACCESS_KEY_ID,\n",
        "                         aws_secret_access_key = AWS_SECRET_ACCESS_KEY,\n",
        "                         endpoint_url='https://data.source.coop'\n",
        "                        )"
      ]
    },
    {
      "cell_type": "code",
      "execution_count": null,
      "id": "43a1a228-be07-4a9e-b90f-0edb2a26d4a9",
      "metadata": {
        "id": "43a1a228-be07-4a9e-b90f-0edb2a26d4a9"
      },
      "outputs": [],
      "source": [
        "from dask.distributed import Client, LocalCluster\n",
        "cluster = LocalCluster()\n",
        "client = Client(cluster)\n",
        "print(client.dashboard_link)"
      ]
    },
    {
      "cell_type": "markdown",
      "id": "50f04db7-57b3-4b37-bbe2-2d6dbd207160",
      "metadata": {
        "id": "50f04db7-57b3-4b37-bbe2-2d6dbd207160"
      },
      "source": [
        "##### Local path for downloading the data\n",
        "\n",
        "If running the analysis file within the 'saved'//mounted folder and do NOT wish to save the raw data to your computer - delete the\n",
        "first local_path and uncomment (remove initial #) on the second one. NOTE: you will have to re-install each time you load this image up if you do that."
      ]
    },
    {
      "cell_type": "code",
      "execution_count": null,
      "id": "a64648eb-97b5-4b0c-a2b1-6eac13db9b0d",
      "metadata": {
        "id": "a64648eb-97b5-4b0c-a2b1-6eac13db9b0d"
      },
      "outputs": [],
      "source": [
        "local_path = \"./data/\"    # saves data to machine\n",
        "# local_path = '/home/gisuser/data/'   # deletes data after closing the container"
      ]
    },
    {
      "cell_type": "markdown",
      "id": "e99d25b6-245d-4247-ad0e-a77a6fdc6b92",
      "metadata": {
        "id": "e99d25b6-245d-4247-ad0e-a77a6fdc6b92"
      },
      "source": [
        "## US Structures Data (Installing all of it)"
      ]
    },
    {
      "cell_type": "markdown",
      "id": "d023db5f-909e-404c-8800-06e4fcaa328c",
      "metadata": {
        "id": "d023db5f-909e-404c-8800-06e4fcaa328c"
      },
      "source": [
        "Change the blocksize value if your computer is stronger. This currently sets each block to 16 Megabytes. More details can be found here (ctrl + f 'blocksize'): https://coderzcolumn.com/tutorials/python/dask-dataframes-guide-to-work-with-large-tabular-datasets\n",
        "\n",
        "Install time will vary. As of 12/9/2024, the dataset is 10 geoparquets each equating to ~2 Gigabytes. This took ~40 minutes to install on my personal machine: ~ 3 Yr Old Laptop, Windows 11, 16 Gb RAM (Docker is limited to 12 Gb), Intel(R) Core(TM) i7-10750H CPU @ 2.60GHz, 2592 Mhz, 6 Core(s), 12 Logical Processor(s)"
      ]
    },
    {
      "cell_type": "code",
      "execution_count": 18,
      "id": "96dfbcc5-c128-4d37-9ff5-75d24774af1c",
      "metadata": {
        "id": "96dfbcc5-c128-4d37-9ff5-75d24774af1c",
        "outputId": "8c716f9f-3215-438a-f22c-8617f6eaabc0",
        "colab": {
          "base_uri": "https://localhost:8080/"
        }
      },
      "outputs": [
        {
          "output_type": "stream",
          "name": "stdout",
          "text": [
            "File already exists locally. No download needed.\n",
            "File already exists locally. No download needed.\n",
            "File already exists locally. No download needed.\n",
            "File already exists locally. No download needed.\n",
            "File already exists locally. No download needed.\n",
            "File already exists locally. No download needed.\n",
            "File already exists locally. No download needed.\n",
            "File already exists locally. No download needed.\n",
            "File already exists locally. No download needed.\n",
            "File already exists locally. No download needed.\n"
          ]
        }
      ],
      "source": [
        "structure_ddf = ut.get_US_structures_all(s3_client, local_path, blocksize = \"16M\") # \"256M\" is regular block size"
      ]
    },
    {
      "cell_type": "code",
      "execution_count": 19,
      "id": "665433e6-630c-4151-a96d-a05c37a4fd76",
      "metadata": {
        "id": "665433e6-630c-4151-a96d-a05c37a4fd76",
        "outputId": "274a5f72-d63a-4d48-c715-f890c582b84d",
        "colab": {
          "base_uri": "https://localhost:8080/",
          "height": 349
        }
      },
      "outputs": [
        {
          "output_type": "execute_result",
          "data": {
            "text/plain": [
              "                                            geometry  BUILD_ID       OCC_CLS  \\\n",
              "0  MULTIPOLYGON (((-170.8292 -14.32645, -170.8292...     12059  Unclassified   \n",
              "1  MULTIPOLYGON (((-170.82798 -14.32867, -170.827...     29894  Unclassified   \n",
              "2  MULTIPOLYGON (((-170.82786 -14.3283, -170.8278...     29886  Unclassified   \n",
              "\n",
              "       PRIM_OCC SEC_OCC PROP_ADDR PROP_CITY         PROP_ST PROP_ZIP OUTBLDG  \\\n",
              "0  Unclassified    None      None      None  American Samoa     None    None   \n",
              "1  Unclassified    None      None      None  American Samoa     None    None   \n",
              "2  Unclassified    None      None      None  American Samoa     None    None   \n",
              "\n",
              "   ...                USNG   LONGITUDE   LATITUDE              IMAGE_NAME  \\\n",
              "0  ...  02L NK 18412 16164 -170.829258 -14.326434        104001005B4C3F00   \n",
              "1  ...  02L NK 18540 15909 -170.828069 -14.328742  NOAA Topographic LiDAR   \n",
              "2  ...  02L NK 18569 15948 -170.827797 -14.328382  NOAA Topographic LiDAR   \n",
              "\n",
              "   IMAGE_DATE  VAL_METHOD REMARKS                                    UUID  \\\n",
              "0  2020-05-14   Automated    None  {245aca01-8d02-4340-810e-3872ee35e7ef}   \n",
              "1  2013-01-01  Unverified    None  {a46fac03-1829-47a2-b63f-86d4e52700a8}   \n",
              "2  2013-01-01  Unverified    None  {4c8bb4a4-86e1-4cb2-908c-a367e7dfa525}   \n",
              "\n",
              "                                                bbox          geohash  \n",
              "0  {'xmin': -170.82931163799998, 'ymin': -14.3264...  2jqw2xvymz0vch1  \n",
              "1  {'xmin': -170.82815531799997, 'ymin': -14.3288...  2jqw2xwc12zkvd0  \n",
              "2  {'xmin': -170.82790860099996, 'ymin': -14.3284...  2jqw2xwgpg8y3ej  \n",
              "\n",
              "[3 rows x 29 columns]"
            ],
            "text/html": [
              "\n",
              "  <div id=\"df-19ee556e-f053-4b54-b3bc-a7038dd30edf\" class=\"colab-df-container\">\n",
              "    <div>\n",
              "<style scoped>\n",
              "    .dataframe tbody tr th:only-of-type {\n",
              "        vertical-align: middle;\n",
              "    }\n",
              "\n",
              "    .dataframe tbody tr th {\n",
              "        vertical-align: top;\n",
              "    }\n",
              "\n",
              "    .dataframe thead th {\n",
              "        text-align: right;\n",
              "    }\n",
              "</style>\n",
              "<table border=\"1\" class=\"dataframe\">\n",
              "  <thead>\n",
              "    <tr style=\"text-align: right;\">\n",
              "      <th></th>\n",
              "      <th>geometry</th>\n",
              "      <th>BUILD_ID</th>\n",
              "      <th>OCC_CLS</th>\n",
              "      <th>PRIM_OCC</th>\n",
              "      <th>SEC_OCC</th>\n",
              "      <th>PROP_ADDR</th>\n",
              "      <th>PROP_CITY</th>\n",
              "      <th>PROP_ST</th>\n",
              "      <th>PROP_ZIP</th>\n",
              "      <th>OUTBLDG</th>\n",
              "      <th>...</th>\n",
              "      <th>USNG</th>\n",
              "      <th>LONGITUDE</th>\n",
              "      <th>LATITUDE</th>\n",
              "      <th>IMAGE_NAME</th>\n",
              "      <th>IMAGE_DATE</th>\n",
              "      <th>VAL_METHOD</th>\n",
              "      <th>REMARKS</th>\n",
              "      <th>UUID</th>\n",
              "      <th>bbox</th>\n",
              "      <th>geohash</th>\n",
              "    </tr>\n",
              "  </thead>\n",
              "  <tbody>\n",
              "    <tr>\n",
              "      <th>0</th>\n",
              "      <td>MULTIPOLYGON (((-170.8292 -14.32645, -170.8292...</td>\n",
              "      <td>12059</td>\n",
              "      <td>Unclassified</td>\n",
              "      <td>Unclassified</td>\n",
              "      <td>None</td>\n",
              "      <td>None</td>\n",
              "      <td>None</td>\n",
              "      <td>American Samoa</td>\n",
              "      <td>None</td>\n",
              "      <td>None</td>\n",
              "      <td>...</td>\n",
              "      <td>02L NK 18412 16164</td>\n",
              "      <td>-170.829258</td>\n",
              "      <td>-14.326434</td>\n",
              "      <td>104001005B4C3F00</td>\n",
              "      <td>2020-05-14</td>\n",
              "      <td>Automated</td>\n",
              "      <td>None</td>\n",
              "      <td>{245aca01-8d02-4340-810e-3872ee35e7ef}</td>\n",
              "      <td>{'xmin': -170.82931163799998, 'ymin': -14.3264...</td>\n",
              "      <td>2jqw2xvymz0vch1</td>\n",
              "    </tr>\n",
              "    <tr>\n",
              "      <th>1</th>\n",
              "      <td>MULTIPOLYGON (((-170.82798 -14.32867, -170.827...</td>\n",
              "      <td>29894</td>\n",
              "      <td>Unclassified</td>\n",
              "      <td>Unclassified</td>\n",
              "      <td>None</td>\n",
              "      <td>None</td>\n",
              "      <td>None</td>\n",
              "      <td>American Samoa</td>\n",
              "      <td>None</td>\n",
              "      <td>None</td>\n",
              "      <td>...</td>\n",
              "      <td>02L NK 18540 15909</td>\n",
              "      <td>-170.828069</td>\n",
              "      <td>-14.328742</td>\n",
              "      <td>NOAA Topographic LiDAR</td>\n",
              "      <td>2013-01-01</td>\n",
              "      <td>Unverified</td>\n",
              "      <td>None</td>\n",
              "      <td>{a46fac03-1829-47a2-b63f-86d4e52700a8}</td>\n",
              "      <td>{'xmin': -170.82815531799997, 'ymin': -14.3288...</td>\n",
              "      <td>2jqw2xwc12zkvd0</td>\n",
              "    </tr>\n",
              "    <tr>\n",
              "      <th>2</th>\n",
              "      <td>MULTIPOLYGON (((-170.82786 -14.3283, -170.8278...</td>\n",
              "      <td>29886</td>\n",
              "      <td>Unclassified</td>\n",
              "      <td>Unclassified</td>\n",
              "      <td>None</td>\n",
              "      <td>None</td>\n",
              "      <td>None</td>\n",
              "      <td>American Samoa</td>\n",
              "      <td>None</td>\n",
              "      <td>None</td>\n",
              "      <td>...</td>\n",
              "      <td>02L NK 18569 15948</td>\n",
              "      <td>-170.827797</td>\n",
              "      <td>-14.328382</td>\n",
              "      <td>NOAA Topographic LiDAR</td>\n",
              "      <td>2013-01-01</td>\n",
              "      <td>Unverified</td>\n",
              "      <td>None</td>\n",
              "      <td>{4c8bb4a4-86e1-4cb2-908c-a367e7dfa525}</td>\n",
              "      <td>{'xmin': -170.82790860099996, 'ymin': -14.3284...</td>\n",
              "      <td>2jqw2xwgpg8y3ej</td>\n",
              "    </tr>\n",
              "  </tbody>\n",
              "</table>\n",
              "<p>3 rows × 29 columns</p>\n",
              "</div>\n",
              "    <div class=\"colab-df-buttons\">\n",
              "\n",
              "  <div class=\"colab-df-container\">\n",
              "    <button class=\"colab-df-convert\" onclick=\"convertToInteractive('df-19ee556e-f053-4b54-b3bc-a7038dd30edf')\"\n",
              "            title=\"Convert this dataframe to an interactive table.\"\n",
              "            style=\"display:none;\">\n",
              "\n",
              "  <svg xmlns=\"http://www.w3.org/2000/svg\" height=\"24px\" viewBox=\"0 -960 960 960\">\n",
              "    <path d=\"M120-120v-720h720v720H120Zm60-500h600v-160H180v160Zm220 220h160v-160H400v160Zm0 220h160v-160H400v160ZM180-400h160v-160H180v160Zm440 0h160v-160H620v160ZM180-180h160v-160H180v160Zm440 0h160v-160H620v160Z\"/>\n",
              "  </svg>\n",
              "    </button>\n",
              "\n",
              "  <style>\n",
              "    .colab-df-container {\n",
              "      display:flex;\n",
              "      gap: 12px;\n",
              "    }\n",
              "\n",
              "    .colab-df-convert {\n",
              "      background-color: #E8F0FE;\n",
              "      border: none;\n",
              "      border-radius: 50%;\n",
              "      cursor: pointer;\n",
              "      display: none;\n",
              "      fill: #1967D2;\n",
              "      height: 32px;\n",
              "      padding: 0 0 0 0;\n",
              "      width: 32px;\n",
              "    }\n",
              "\n",
              "    .colab-df-convert:hover {\n",
              "      background-color: #E2EBFA;\n",
              "      box-shadow: 0px 1px 2px rgba(60, 64, 67, 0.3), 0px 1px 3px 1px rgba(60, 64, 67, 0.15);\n",
              "      fill: #174EA6;\n",
              "    }\n",
              "\n",
              "    .colab-df-buttons div {\n",
              "      margin-bottom: 4px;\n",
              "    }\n",
              "\n",
              "    [theme=dark] .colab-df-convert {\n",
              "      background-color: #3B4455;\n",
              "      fill: #D2E3FC;\n",
              "    }\n",
              "\n",
              "    [theme=dark] .colab-df-convert:hover {\n",
              "      background-color: #434B5C;\n",
              "      box-shadow: 0px 1px 3px 1px rgba(0, 0, 0, 0.15);\n",
              "      filter: drop-shadow(0px 1px 2px rgba(0, 0, 0, 0.3));\n",
              "      fill: #FFFFFF;\n",
              "    }\n",
              "  </style>\n",
              "\n",
              "    <script>\n",
              "      const buttonEl =\n",
              "        document.querySelector('#df-19ee556e-f053-4b54-b3bc-a7038dd30edf button.colab-df-convert');\n",
              "      buttonEl.style.display =\n",
              "        google.colab.kernel.accessAllowed ? 'block' : 'none';\n",
              "\n",
              "      async function convertToInteractive(key) {\n",
              "        const element = document.querySelector('#df-19ee556e-f053-4b54-b3bc-a7038dd30edf');\n",
              "        const dataTable =\n",
              "          await google.colab.kernel.invokeFunction('convertToInteractive',\n",
              "                                                    [key], {});\n",
              "        if (!dataTable) return;\n",
              "\n",
              "        const docLinkHtml = 'Like what you see? Visit the ' +\n",
              "          '<a target=\"_blank\" href=https://colab.research.google.com/notebooks/data_table.ipynb>data table notebook</a>'\n",
              "          + ' to learn more about interactive tables.';\n",
              "        element.innerHTML = '';\n",
              "        dataTable['output_type'] = 'display_data';\n",
              "        await google.colab.output.renderOutput(dataTable, element);\n",
              "        const docLink = document.createElement('div');\n",
              "        docLink.innerHTML = docLinkHtml;\n",
              "        element.appendChild(docLink);\n",
              "      }\n",
              "    </script>\n",
              "  </div>\n",
              "\n",
              "\n",
              "<div id=\"df-d2b2fdee-d820-409c-8b56-339cf8b8cdf5\">\n",
              "  <button class=\"colab-df-quickchart\" onclick=\"quickchart('df-d2b2fdee-d820-409c-8b56-339cf8b8cdf5')\"\n",
              "            title=\"Suggest charts\"\n",
              "            style=\"display:none;\">\n",
              "\n",
              "<svg xmlns=\"http://www.w3.org/2000/svg\" height=\"24px\"viewBox=\"0 0 24 24\"\n",
              "     width=\"24px\">\n",
              "    <g>\n",
              "        <path d=\"M19 3H5c-1.1 0-2 .9-2 2v14c0 1.1.9 2 2 2h14c1.1 0 2-.9 2-2V5c0-1.1-.9-2-2-2zM9 17H7v-7h2v7zm4 0h-2V7h2v10zm4 0h-2v-4h2v4z\"/>\n",
              "    </g>\n",
              "</svg>\n",
              "  </button>\n",
              "\n",
              "<style>\n",
              "  .colab-df-quickchart {\n",
              "      --bg-color: #E8F0FE;\n",
              "      --fill-color: #1967D2;\n",
              "      --hover-bg-color: #E2EBFA;\n",
              "      --hover-fill-color: #174EA6;\n",
              "      --disabled-fill-color: #AAA;\n",
              "      --disabled-bg-color: #DDD;\n",
              "  }\n",
              "\n",
              "  [theme=dark] .colab-df-quickchart {\n",
              "      --bg-color: #3B4455;\n",
              "      --fill-color: #D2E3FC;\n",
              "      --hover-bg-color: #434B5C;\n",
              "      --hover-fill-color: #FFFFFF;\n",
              "      --disabled-bg-color: #3B4455;\n",
              "      --disabled-fill-color: #666;\n",
              "  }\n",
              "\n",
              "  .colab-df-quickchart {\n",
              "    background-color: var(--bg-color);\n",
              "    border: none;\n",
              "    border-radius: 50%;\n",
              "    cursor: pointer;\n",
              "    display: none;\n",
              "    fill: var(--fill-color);\n",
              "    height: 32px;\n",
              "    padding: 0;\n",
              "    width: 32px;\n",
              "  }\n",
              "\n",
              "  .colab-df-quickchart:hover {\n",
              "    background-color: var(--hover-bg-color);\n",
              "    box-shadow: 0 1px 2px rgba(60, 64, 67, 0.3), 0 1px 3px 1px rgba(60, 64, 67, 0.15);\n",
              "    fill: var(--button-hover-fill-color);\n",
              "  }\n",
              "\n",
              "  .colab-df-quickchart-complete:disabled,\n",
              "  .colab-df-quickchart-complete:disabled:hover {\n",
              "    background-color: var(--disabled-bg-color);\n",
              "    fill: var(--disabled-fill-color);\n",
              "    box-shadow: none;\n",
              "  }\n",
              "\n",
              "  .colab-df-spinner {\n",
              "    border: 2px solid var(--fill-color);\n",
              "    border-color: transparent;\n",
              "    border-bottom-color: var(--fill-color);\n",
              "    animation:\n",
              "      spin 1s steps(1) infinite;\n",
              "  }\n",
              "\n",
              "  @keyframes spin {\n",
              "    0% {\n",
              "      border-color: transparent;\n",
              "      border-bottom-color: var(--fill-color);\n",
              "      border-left-color: var(--fill-color);\n",
              "    }\n",
              "    20% {\n",
              "      border-color: transparent;\n",
              "      border-left-color: var(--fill-color);\n",
              "      border-top-color: var(--fill-color);\n",
              "    }\n",
              "    30% {\n",
              "      border-color: transparent;\n",
              "      border-left-color: var(--fill-color);\n",
              "      border-top-color: var(--fill-color);\n",
              "      border-right-color: var(--fill-color);\n",
              "    }\n",
              "    40% {\n",
              "      border-color: transparent;\n",
              "      border-right-color: var(--fill-color);\n",
              "      border-top-color: var(--fill-color);\n",
              "    }\n",
              "    60% {\n",
              "      border-color: transparent;\n",
              "      border-right-color: var(--fill-color);\n",
              "    }\n",
              "    80% {\n",
              "      border-color: transparent;\n",
              "      border-right-color: var(--fill-color);\n",
              "      border-bottom-color: var(--fill-color);\n",
              "    }\n",
              "    90% {\n",
              "      border-color: transparent;\n",
              "      border-bottom-color: var(--fill-color);\n",
              "    }\n",
              "  }\n",
              "</style>\n",
              "\n",
              "  <script>\n",
              "    async function quickchart(key) {\n",
              "      const quickchartButtonEl =\n",
              "        document.querySelector('#' + key + ' button');\n",
              "      quickchartButtonEl.disabled = true;  // To prevent multiple clicks.\n",
              "      quickchartButtonEl.classList.add('colab-df-spinner');\n",
              "      try {\n",
              "        const charts = await google.colab.kernel.invokeFunction(\n",
              "            'suggestCharts', [key], {});\n",
              "      } catch (error) {\n",
              "        console.error('Error during call to suggestCharts:', error);\n",
              "      }\n",
              "      quickchartButtonEl.classList.remove('colab-df-spinner');\n",
              "      quickchartButtonEl.classList.add('colab-df-quickchart-complete');\n",
              "    }\n",
              "    (() => {\n",
              "      let quickchartButtonEl =\n",
              "        document.querySelector('#df-d2b2fdee-d820-409c-8b56-339cf8b8cdf5 button');\n",
              "      quickchartButtonEl.style.display =\n",
              "        google.colab.kernel.accessAllowed ? 'block' : 'none';\n",
              "    })();\n",
              "  </script>\n",
              "</div>\n",
              "\n",
              "    </div>\n",
              "  </div>\n"
            ],
            "application/vnd.google.colaboratory.intrinsic+json": {
              "type": "dataframe"
            }
          },
          "metadata": {},
          "execution_count": 19
        }
      ],
      "source": [
        "structure_ddf.head(3)"
      ]
    },
    {
      "cell_type": "code",
      "execution_count": null,
      "id": "6ce25adc-a727-423d-9f80-d7d0d2648230",
      "metadata": {
        "id": "6ce25adc-a727-423d-9f80-d7d0d2648230",
        "outputId": "779e4d32-83cb-43ef-c8cf-222df129d333"
      },
      "outputs": [
        {
          "data": {
            "text/html": [
              "<div>\n",
              "<style scoped>\n",
              "    .dataframe tbody tr th:only-of-type {\n",
              "        vertical-align: middle;\n",
              "    }\n",
              "\n",
              "    .dataframe tbody tr th {\n",
              "        vertical-align: top;\n",
              "    }\n",
              "\n",
              "    .dataframe thead th {\n",
              "        text-align: right;\n",
              "    }\n",
              "</style>\n",
              "<table border=\"1\" class=\"dataframe\">\n",
              "  <thead>\n",
              "    <tr style=\"text-align: right;\">\n",
              "      <th></th>\n",
              "      <th>geometry</th>\n",
              "      <th>BUILD_ID</th>\n",
              "      <th>OCC_CLS</th>\n",
              "      <th>PRIM_OCC</th>\n",
              "      <th>SEC_OCC</th>\n",
              "      <th>PROP_ADDR</th>\n",
              "      <th>PROP_CITY</th>\n",
              "      <th>PROP_ST</th>\n",
              "      <th>PROP_ZIP</th>\n",
              "      <th>OUTBLDG</th>\n",
              "      <th>...</th>\n",
              "      <th>USNG</th>\n",
              "      <th>LONGITUDE</th>\n",
              "      <th>LATITUDE</th>\n",
              "      <th>IMAGE_NAME</th>\n",
              "      <th>IMAGE_DATE</th>\n",
              "      <th>VAL_METHOD</th>\n",
              "      <th>REMARKS</th>\n",
              "      <th>UUID</th>\n",
              "      <th>bbox</th>\n",
              "      <th>geohash</th>\n",
              "    </tr>\n",
              "  </thead>\n",
              "  <tbody>\n",
              "    <tr>\n",
              "      <th>539725</th>\n",
              "      <td>MULTIPOLYGON (((174.09103 52.7369, 174.09113 5...</td>\n",
              "      <td>8000048</td>\n",
              "      <td>Government</td>\n",
              "      <td>Non-Civilian Structures</td>\n",
              "      <td>None</td>\n",
              "      <td>None</td>\n",
              "      <td>None</td>\n",
              "      <td>Alaska</td>\n",
              "      <td>None</td>\n",
              "      <td>None</td>\n",
              "      <td>...</td>\n",
              "      <td>60U UD 03622 46972</td>\n",
              "      <td>174.091134</td>\n",
              "      <td>52.736898</td>\n",
              "      <td>NOT AVAILABLE</td>\n",
              "      <td>2018-07-03</td>\n",
              "      <td>Manual</td>\n",
              "      <td>None</td>\n",
              "      <td>{17e345d8-b90d-439d-ad89-7984758ca934}</td>\n",
              "      <td>{'xmin': 174.09102922500006, 'ymin': 52.736834...</td>\n",
              "      <td>zc7u183q9w2fn6e</td>\n",
              "    </tr>\n",
              "    <tr>\n",
              "      <th>539726</th>\n",
              "      <td>MULTIPOLYGON (((174.09056 52.73711, 174.09132 ...</td>\n",
              "      <td>8000047</td>\n",
              "      <td>Government</td>\n",
              "      <td>Non-Civilian Structures</td>\n",
              "      <td>None</td>\n",
              "      <td>None</td>\n",
              "      <td>None</td>\n",
              "      <td>Alaska</td>\n",
              "      <td>None</td>\n",
              "      <td>None</td>\n",
              "      <td>...</td>\n",
              "      <td>60U UD 03627 47013</td>\n",
              "      <td>174.091178</td>\n",
              "      <td>52.737275</td>\n",
              "      <td>NOT AVAILABLE</td>\n",
              "      <td>2018-07-03</td>\n",
              "      <td>Manual</td>\n",
              "      <td>None</td>\n",
              "      <td>{a74622e4-0bc2-4809-9479-e77c6d24abc4}</td>\n",
              "      <td>{'xmin': 174.09055533200012, 'ymin': 52.736969...</td>\n",
              "      <td>zc7u1892ghk2u76</td>\n",
              "    </tr>\n",
              "    <tr>\n",
              "      <th>539727</th>\n",
              "      <td>MULTIPOLYGON (((174.10244 52.73433, 174.10273 ...</td>\n",
              "      <td>8000036</td>\n",
              "      <td>Government</td>\n",
              "      <td>Non-Civilian Structures</td>\n",
              "      <td>None</td>\n",
              "      <td>None</td>\n",
              "      <td>None</td>\n",
              "      <td>Alaska</td>\n",
              "      <td>None</td>\n",
              "      <td>None</td>\n",
              "      <td>...</td>\n",
              "      <td>60U UD 04389 46663</td>\n",
              "      <td>174.102666</td>\n",
              "      <td>52.734406</td>\n",
              "      <td>NOT AVAILABLE</td>\n",
              "      <td>2018-07-03</td>\n",
              "      <td>Manual</td>\n",
              "      <td>None</td>\n",
              "      <td>{17e6eb27-63de-41f4-823b-fa4ff6f4851d}</td>\n",
              "      <td>{'xmin': 174.10243806300002, 'ymin': 52.734255...</td>\n",
              "      <td>zc7u1b18nn6e3h5</td>\n",
              "    </tr>\n",
              "  </tbody>\n",
              "</table>\n",
              "<p>3 rows × 29 columns</p>\n",
              "</div>"
            ],
            "text/plain": [
              "                                                 geometry  BUILD_ID  \\\n",
              "539725  MULTIPOLYGON (((174.09103 52.7369, 174.09113 5...   8000048   \n",
              "539726  MULTIPOLYGON (((174.09056 52.73711, 174.09132 ...   8000047   \n",
              "539727  MULTIPOLYGON (((174.10244 52.73433, 174.10273 ...   8000036   \n",
              "\n",
              "           OCC_CLS                 PRIM_OCC SEC_OCC PROP_ADDR PROP_CITY  \\\n",
              "539725  Government  Non-Civilian Structures    None      None      None   \n",
              "539726  Government  Non-Civilian Structures    None      None      None   \n",
              "539727  Government  Non-Civilian Structures    None      None      None   \n",
              "\n",
              "       PROP_ST PROP_ZIP OUTBLDG  ...                USNG   LONGITUDE  \\\n",
              "539725  Alaska     None    None  ...  60U UD 03622 46972  174.091134   \n",
              "539726  Alaska     None    None  ...  60U UD 03627 47013  174.091178   \n",
              "539727  Alaska     None    None  ...  60U UD 04389 46663  174.102666   \n",
              "\n",
              "         LATITUDE     IMAGE_NAME  IMAGE_DATE VAL_METHOD REMARKS  \\\n",
              "539725  52.736898  NOT AVAILABLE  2018-07-03     Manual    None   \n",
              "539726  52.737275  NOT AVAILABLE  2018-07-03     Manual    None   \n",
              "539727  52.734406  NOT AVAILABLE  2018-07-03     Manual    None   \n",
              "\n",
              "                                          UUID  \\\n",
              "539725  {17e345d8-b90d-439d-ad89-7984758ca934}   \n",
              "539726  {a74622e4-0bc2-4809-9479-e77c6d24abc4}   \n",
              "539727  {17e6eb27-63de-41f4-823b-fa4ff6f4851d}   \n",
              "\n",
              "                                                     bbox          geohash  \n",
              "539725  {'xmin': 174.09102922500006, 'ymin': 52.736834...  zc7u183q9w2fn6e  \n",
              "539726  {'xmin': 174.09055533200012, 'ymin': 52.736969...  zc7u1892ghk2u76  \n",
              "539727  {'xmin': 174.10243806300002, 'ymin': 52.734255...  zc7u1b18nn6e3h5  \n",
              "\n",
              "[3 rows x 29 columns]"
            ]
          },
          "execution_count": 8,
          "metadata": {},
          "output_type": "execute_result"
        }
      ],
      "source": [
        "structure_ddf.tail(3)"
      ]
    },
    {
      "cell_type": "markdown",
      "id": "b0df8b3c-087e-4439-996f-84832fbe916d",
      "metadata": {
        "id": "b0df8b3c-087e-4439-996f-84832fbe916d"
      },
      "source": [
        "##### Notice some columns aren't showing, lets see what they are:"
      ]
    },
    {
      "cell_type": "markdown",
      "id": "65bcb50c-1888-430e-ad88-4fc015310e85",
      "metadata": {
        "id": "65bcb50c-1888-430e-ad88-4fc015310e85"
      },
      "source": [
        "##### We can also further investigate the impacts of blocksize:"
      ]
    },
    {
      "cell_type": "code",
      "execution_count": null,
      "id": "ab8f559f-9d56-4e40-a5dd-af93841b8486",
      "metadata": {
        "id": "ab8f559f-9d56-4e40-a5dd-af93841b8486"
      },
      "outputs": [],
      "source": [
        "view_middle_columns = structure_ddf.columns[:20]\n",
        "structure_ddf[view_middle_columns].head(5)"
      ]
    },
    {
      "cell_type": "code",
      "execution_count": null,
      "id": "886f611d-9d3f-4f7e-999f-0c6527fbc4fa",
      "metadata": {
        "id": "886f611d-9d3f-4f7e-999f-0c6527fbc4fa",
        "outputId": "473e0700-3cf3-4dbc-a56b-fa099675b21d"
      },
      "outputs": [
        {
          "data": {
            "text/html": [
              "<div>\n",
              "<style scoped>\n",
              "    .dataframe tbody tr th:only-of-type {\n",
              "        vertical-align: middle;\n",
              "    }\n",
              "\n",
              "    .dataframe tbody tr th {\n",
              "        vertical-align: top;\n",
              "    }\n",
              "\n",
              "    .dataframe thead th {\n",
              "        text-align: right;\n",
              "    }\n",
              "</style>\n",
              "<table border=\"1\" class=\"dataframe\">\n",
              "  <thead>\n",
              "    <tr style=\"text-align: right;\">\n",
              "      <th></th>\n",
              "      <th>geometry</th>\n",
              "      <th>BUILD_ID</th>\n",
              "      <th>OCC_CLS</th>\n",
              "      <th>PRIM_OCC</th>\n",
              "      <th>SEC_OCC</th>\n",
              "      <th>PROP_ADDR</th>\n",
              "      <th>PROP_CITY</th>\n",
              "      <th>PROP_ST</th>\n",
              "      <th>PROP_ZIP</th>\n",
              "      <th>OUTBLDG</th>\n",
              "      <th>...</th>\n",
              "      <th>USNG</th>\n",
              "      <th>LONGITUDE</th>\n",
              "      <th>LATITUDE</th>\n",
              "      <th>IMAGE_NAME</th>\n",
              "      <th>IMAGE_DATE</th>\n",
              "      <th>VAL_METHOD</th>\n",
              "      <th>REMARKS</th>\n",
              "      <th>UUID</th>\n",
              "      <th>bbox</th>\n",
              "      <th>geohash</th>\n",
              "    </tr>\n",
              "  </thead>\n",
              "  <tbody>\n",
              "    <tr>\n",
              "      <th>0</th>\n",
              "      <td>MULTIPOLYGON (((-111.71603 40.37411, -111.7161...</td>\n",
              "      <td>6356322</td>\n",
              "      <td>Residential</td>\n",
              "      <td>Single Family Dwelling</td>\n",
              "      <td>None</td>\n",
              "      <td>1000 NORTH 1050 EAST</td>\n",
              "      <td>PLEASANT GROVE</td>\n",
              "      <td>Utah</td>\n",
              "      <td>84062</td>\n",
              "      <td>None</td>\n",
              "      <td>...</td>\n",
              "      <td>12T VK 39208 69537</td>\n",
              "      <td>-111.716103</td>\n",
              "      <td>40.374204</td>\n",
              "      <td>105001001D0AA300</td>\n",
              "      <td>2020-05-04</td>\n",
              "      <td>Automated</td>\n",
              "      <td>None</td>\n",
              "      <td>{94234441-bcf3-4b26-b88b-54b488b7e794}</td>\n",
              "      <td>{'xmin': -111.71617885399996, 'ymin': 40.37411...</td>\n",
              "      <td>9x0t9vfuf15vqc3</td>\n",
              "    </tr>\n",
              "    <tr>\n",
              "      <th>1</th>\n",
              "      <td>MULTIPOLYGON (((-111.7162 40.37468, -111.71619...</td>\n",
              "      <td>6356424</td>\n",
              "      <td>Residential</td>\n",
              "      <td>Single Family Dwelling</td>\n",
              "      <td>None</td>\n",
              "      <td>1053 EAST 1010 NORTH</td>\n",
              "      <td>PLEASANT GROVE</td>\n",
              "      <td>Utah</td>\n",
              "      <td>84062</td>\n",
              "      <td>None</td>\n",
              "      <td>...</td>\n",
              "      <td>12T VK 39188 69584</td>\n",
              "      <td>-111.716341</td>\n",
              "      <td>40.374622</td>\n",
              "      <td>105001001D0AA300</td>\n",
              "      <td>2020-05-04</td>\n",
              "      <td>Automated</td>\n",
              "      <td>None</td>\n",
              "      <td>{ba007b62-1bbe-4538-9d94-ee5a347a3041}</td>\n",
              "      <td>{'xmin': -111.71650439999996, 'ymin': 40.37456...</td>\n",
              "      <td>9x0t9vfxhrj4g6r</td>\n",
              "    </tr>\n",
              "    <tr>\n",
              "      <th>2</th>\n",
              "      <td>MULTIPOLYGON (((-111.71587 40.37469, -111.7158...</td>\n",
              "      <td>6356420</td>\n",
              "      <td>Residential</td>\n",
              "      <td>Single Family Dwelling</td>\n",
              "      <td>None</td>\n",
              "      <td>1061 EAST 1010 NORTH</td>\n",
              "      <td>PLEASANT GROVE</td>\n",
              "      <td>Utah</td>\n",
              "      <td>84062</td>\n",
              "      <td>None</td>\n",
              "      <td>...</td>\n",
              "      <td>12T VK 39218 69584</td>\n",
              "      <td>-111.715985</td>\n",
              "      <td>40.374631</td>\n",
              "      <td>105001001D0AA300</td>\n",
              "      <td>2020-05-04</td>\n",
              "      <td>Automated</td>\n",
              "      <td>None</td>\n",
              "      <td>{4ccca22c-7705-4892-8da4-e00cb91d7f80}</td>\n",
              "      <td>{'xmin': -111.71610170499997, 'ymin': 40.37457...</td>\n",
              "      <td>9x0t9vfzkbsn56z</td>\n",
              "    </tr>\n",
              "    <tr>\n",
              "      <th>3</th>\n",
              "      <td>MULTIPOLYGON (((-111.71567 40.37345, -111.7156...</td>\n",
              "      <td>6356164</td>\n",
              "      <td>Residential</td>\n",
              "      <td>Single Family Dwelling</td>\n",
              "      <td>None</td>\n",
              "      <td>933 NORTH 1100 EAST</td>\n",
              "      <td>PLEASANT GROVE</td>\n",
              "      <td>Utah</td>\n",
              "      <td>84062</td>\n",
              "      <td>None</td>\n",
              "      <td>...</td>\n",
              "      <td>12T VK 39249 69468</td>\n",
              "      <td>-111.715610</td>\n",
              "      <td>40.373586</td>\n",
              "      <td>105001001D0AA300</td>\n",
              "      <td>2020-05-04</td>\n",
              "      <td>Automated</td>\n",
              "      <td>None</td>\n",
              "      <td>{76039646-81e2-4a9d-a77a-70512feb8bac}</td>\n",
              "      <td>{'xmin': -111.71566964299996, 'ymin': 40.37345...</td>\n",
              "      <td>9x0t9vg1jwgyz1x</td>\n",
              "    </tr>\n",
              "    <tr>\n",
              "      <th>4</th>\n",
              "      <td>MULTIPOLYGON (((-111.71552 40.37399, -111.7155...</td>\n",
              "      <td>6356225</td>\n",
              "      <td>Residential</td>\n",
              "      <td>Single Family Dwelling</td>\n",
              "      <td>None</td>\n",
              "      <td>967 NORTH 1100 EAST</td>\n",
              "      <td>PLEASANT GROVE</td>\n",
              "      <td>Utah</td>\n",
              "      <td>84062</td>\n",
              "      <td>None</td>\n",
              "      <td>...</td>\n",
              "      <td>12T VK 39251 69504</td>\n",
              "      <td>-111.715594</td>\n",
              "      <td>40.373907</td>\n",
              "      <td>105001001D0AA300</td>\n",
              "      <td>2020-05-04</td>\n",
              "      <td>Automated</td>\n",
              "      <td>None</td>\n",
              "      <td>{e06859b7-dd6e-42d3-8f92-dcae99305093}</td>\n",
              "      <td>{'xmin': -111.71568185699999, 'ymin': 40.37381...</td>\n",
              "      <td>9x0t9vg5jbccvg3</td>\n",
              "    </tr>\n",
              "  </tbody>\n",
              "</table>\n",
              "<p>5 rows × 29 columns</p>\n",
              "</div>"
            ],
            "text/plain": [
              "                                            geometry  BUILD_ID      OCC_CLS  \\\n",
              "0  MULTIPOLYGON (((-111.71603 40.37411, -111.7161...   6356322  Residential   \n",
              "1  MULTIPOLYGON (((-111.7162 40.37468, -111.71619...   6356424  Residential   \n",
              "2  MULTIPOLYGON (((-111.71587 40.37469, -111.7158...   6356420  Residential   \n",
              "3  MULTIPOLYGON (((-111.71567 40.37345, -111.7156...   6356164  Residential   \n",
              "4  MULTIPOLYGON (((-111.71552 40.37399, -111.7155...   6356225  Residential   \n",
              "\n",
              "                 PRIM_OCC SEC_OCC             PROP_ADDR       PROP_CITY  \\\n",
              "0  Single Family Dwelling    None  1000 NORTH 1050 EAST  PLEASANT GROVE   \n",
              "1  Single Family Dwelling    None  1053 EAST 1010 NORTH  PLEASANT GROVE   \n",
              "2  Single Family Dwelling    None  1061 EAST 1010 NORTH  PLEASANT GROVE   \n",
              "3  Single Family Dwelling    None   933 NORTH 1100 EAST  PLEASANT GROVE   \n",
              "4  Single Family Dwelling    None   967 NORTH 1100 EAST  PLEASANT GROVE   \n",
              "\n",
              "  PROP_ST PROP_ZIP OUTBLDG  ...                USNG   LONGITUDE   LATITUDE  \\\n",
              "0    Utah    84062    None  ...  12T VK 39208 69537 -111.716103  40.374204   \n",
              "1    Utah    84062    None  ...  12T VK 39188 69584 -111.716341  40.374622   \n",
              "2    Utah    84062    None  ...  12T VK 39218 69584 -111.715985  40.374631   \n",
              "3    Utah    84062    None  ...  12T VK 39249 69468 -111.715610  40.373586   \n",
              "4    Utah    84062    None  ...  12T VK 39251 69504 -111.715594  40.373907   \n",
              "\n",
              "         IMAGE_NAME  IMAGE_DATE VAL_METHOD REMARKS  \\\n",
              "0  105001001D0AA300  2020-05-04  Automated    None   \n",
              "1  105001001D0AA300  2020-05-04  Automated    None   \n",
              "2  105001001D0AA300  2020-05-04  Automated    None   \n",
              "3  105001001D0AA300  2020-05-04  Automated    None   \n",
              "4  105001001D0AA300  2020-05-04  Automated    None   \n",
              "\n",
              "                                     UUID  \\\n",
              "0  {94234441-bcf3-4b26-b88b-54b488b7e794}   \n",
              "1  {ba007b62-1bbe-4538-9d94-ee5a347a3041}   \n",
              "2  {4ccca22c-7705-4892-8da4-e00cb91d7f80}   \n",
              "3  {76039646-81e2-4a9d-a77a-70512feb8bac}   \n",
              "4  {e06859b7-dd6e-42d3-8f92-dcae99305093}   \n",
              "\n",
              "                                                bbox          geohash  \n",
              "0  {'xmin': -111.71617885399996, 'ymin': 40.37411...  9x0t9vfuf15vqc3  \n",
              "1  {'xmin': -111.71650439999996, 'ymin': 40.37456...  9x0t9vfxhrj4g6r  \n",
              "2  {'xmin': -111.71610170499997, 'ymin': 40.37457...  9x0t9vfzkbsn56z  \n",
              "3  {'xmin': -111.71566964299996, 'ymin': 40.37345...  9x0t9vg1jwgyz1x  \n",
              "4  {'xmin': -111.71568185699999, 'ymin': 40.37381...  9x0t9vg5jbccvg3  \n",
              "\n",
              "[5 rows x 29 columns]"
            ]
          },
          "execution_count": 10,
          "metadata": {},
          "output_type": "execute_result"
        }
      ],
      "source": [
        "partition40 = structure_ddf.partitions[40].compute()\n",
        "partition40.head(5)"
      ]
    },
    {
      "cell_type": "code",
      "execution_count": null,
      "id": "b5844de0-a678-4c46-ba76-cad4ff3635fa",
      "metadata": {
        "id": "b5844de0-a678-4c46-ba76-cad4ff3635fa",
        "outputId": "6a7ab056-7e90-4052-e2bd-03a49e9a3d7a"
      },
      "outputs": [
        {
          "data": {
            "text/plain": [
              "(873670, 29)"
            ]
          },
          "execution_count": 11,
          "metadata": {},
          "output_type": "execute_result"
        }
      ],
      "source": [
        "partition40.shape"
      ]
    },
    {
      "cell_type": "markdown",
      "id": "61eaf317-5fe0-4e8d-8c1d-03a0840d2e8e",
      "metadata": {
        "id": "61eaf317-5fe0-4e8d-8c1d-03a0840d2e8e"
      },
      "source": [
        "Each partition has 16mb of data, roughly 873,670 rows. This will vary based on the blocksize chosen when calling the ut.get_US_structures_all() function."
      ]
    },
    {
      "cell_type": "markdown",
      "id": "575b0668-1e7e-46d5-8611-7d5111e3f39d",
      "metadata": {
        "id": "575b0668-1e7e-46d5-8611-7d5111e3f39d"
      },
      "source": [
        "## Data Checks (for spatial joins)"
      ]
    },
    {
      "cell_type": "markdown",
      "id": "d568f7f6-2073-4bfc-bff8-eaf853b04f6d",
      "metadata": {
        "id": "d568f7f6-2073-4bfc-bff8-eaf853b04f6d"
      },
      "source": [
        "#### If you go on to review another state. You may need to re-project the CRS. The following is a good site for visually seeing what the EPSG covers\n",
        "https://spatialreference.org/ref/epsg/2249/"
      ]
    },
    {
      "cell_type": "markdown",
      "id": "af156ba8-997e-44be-8635-c20d3fef7ca1",
      "metadata": {
        "id": "af156ba8-997e-44be-8635-c20d3fef7ca1"
      },
      "source": [
        "##### Coordinate Reference System (CRS)\n",
        "When calculating areas, plotting, performing spatial joins, etc. you will want to set the CRS for your data. This dataframe already has a square footage column, so we do not need to do this, but I will give an example.\n",
        "\n",
        "The .head() of this dataframe is American Samoa structures. We will create a new filtered dataframe with only those 5 American Samoa structures. Re-project the CRS. Then calculate the areas based on the geometry of each structure. This will be compared to the datasets SQFEET column to understand how picking the right CRS matters.\n",
        "\n",
        "First, we will check to see if we need to project to a CRS for the first time, or re-project the current one. To check if the data has a CRS, the following code will suffice."
      ]
    },
    {
      "cell_type": "code",
      "execution_count": null,
      "id": "ee760479-bf0d-406b-a475-30f54c24d581",
      "metadata": {
        "id": "ee760479-bf0d-406b-a475-30f54c24d581",
        "outputId": "5bc84e4d-f6e0-4751-fbed-5c598b917b4c"
      },
      "outputs": [
        {
          "data": {
            "text/plain": [
              "<Geographic 2D CRS: EPSG:4326>\n",
              "Name: WGS 84\n",
              "Axis Info [ellipsoidal]:\n",
              "- Lat[north]: Geodetic latitude (degree)\n",
              "- Lon[east]: Geodetic longitude (degree)\n",
              "Area of Use:\n",
              "- name: World.\n",
              "- bounds: (-180.0, -90.0, 180.0, 90.0)\n",
              "Datum: World Geodetic System 1984 ensemble\n",
              "- Ellipsoid: WGS 84\n",
              "- Prime Meridian: Greenwich"
            ]
          },
          "execution_count": 12,
          "metadata": {},
          "output_type": "execute_result"
        }
      ],
      "source": [
        "structure_ddf.crs"
      ]
    },
    {
      "cell_type": "markdown",
      "id": "a26c3411-dd89-4308-b93d-2fe937917a75",
      "metadata": {
        "id": "a26c3411-dd89-4308-b93d-2fe937917a75"
      },
      "source": [
        "We will have to re-project for an appropraite EPSG for our area of interest. The entire dataset is in: 4326.\n",
        "\n",
        "A possible EPSG for American Samoa is 3102\n",
        "https://epsg.io/3102"
      ]
    },
    {
      "cell_type": "code",
      "execution_count": 21,
      "id": "591c2882-f048-415d-baa5-e4f0ed690440",
      "metadata": {
        "id": "591c2882-f048-415d-baa5-e4f0ed690440"
      },
      "outputs": [],
      "source": [
        "american_samoa_ddf = structure_ddf.head(5)"
      ]
    },
    {
      "cell_type": "code",
      "execution_count": 22,
      "id": "a1e8f5b5-02b3-4fd2-bcdc-22527b2e6ce0",
      "metadata": {
        "id": "a1e8f5b5-02b3-4fd2-bcdc-22527b2e6ce0"
      },
      "outputs": [],
      "source": [
        "american_samoa_ddf = american_samoa_ddf.to_crs(epsg=3102)"
      ]
    },
    {
      "cell_type": "code",
      "execution_count": 23,
      "id": "4641d73f-9496-4148-b0f9-bff1ae3aff3f",
      "metadata": {
        "id": "4641d73f-9496-4148-b0f9-bff1ae3aff3f"
      },
      "outputs": [],
      "source": [
        "american_samoa_ddf['structure_size'] = american_samoa_ddf.geometry.area"
      ]
    },
    {
      "cell_type": "markdown",
      "id": "3aa2a1db-63f5-4cb4-89f2-389c2e82ee1d",
      "metadata": {
        "id": "3aa2a1db-63f5-4cb4-89f2-389c2e82ee1d"
      },
      "source": [
        "##### Compare with the data's 'SQFEET' column to see if these are similar values"
      ]
    },
    {
      "cell_type": "code",
      "source": [
        "area_columns = american_samoa_ddf.columns[[12, 29]]\n",
        "american_samoa_ddf[area_columns].head(5)"
      ],
      "metadata": {
        "colab": {
          "base_uri": "https://localhost:8080/",
          "height": 206
        },
        "id": "AiBaadhMpH9q",
        "outputId": "f1a86798-4672-4e0d-c668-e486ec4543f5"
      },
      "id": "AiBaadhMpH9q",
      "execution_count": 29,
      "outputs": [
        {
          "output_type": "execute_result",
          "data": {
            "text/plain": [
              "        SQFEET  structure_size\n",
              "0   640.533569      791.786561\n",
              "1  3078.481689     3080.954507\n",
              "2  2195.848877     2197.612614\n",
              "3  3078.472412     3080.945218\n",
              "4   904.162659      904.888883"
            ],
            "text/html": [
              "\n",
              "  <div id=\"df-9a6d1f5f-9c78-41ba-9582-4f3aadb8071e\" class=\"colab-df-container\">\n",
              "    <div>\n",
              "<style scoped>\n",
              "    .dataframe tbody tr th:only-of-type {\n",
              "        vertical-align: middle;\n",
              "    }\n",
              "\n",
              "    .dataframe tbody tr th {\n",
              "        vertical-align: top;\n",
              "    }\n",
              "\n",
              "    .dataframe thead th {\n",
              "        text-align: right;\n",
              "    }\n",
              "</style>\n",
              "<table border=\"1\" class=\"dataframe\">\n",
              "  <thead>\n",
              "    <tr style=\"text-align: right;\">\n",
              "      <th></th>\n",
              "      <th>SQFEET</th>\n",
              "      <th>structure_size</th>\n",
              "    </tr>\n",
              "  </thead>\n",
              "  <tbody>\n",
              "    <tr>\n",
              "      <th>0</th>\n",
              "      <td>640.533569</td>\n",
              "      <td>791.786561</td>\n",
              "    </tr>\n",
              "    <tr>\n",
              "      <th>1</th>\n",
              "      <td>3078.481689</td>\n",
              "      <td>3080.954507</td>\n",
              "    </tr>\n",
              "    <tr>\n",
              "      <th>2</th>\n",
              "      <td>2195.848877</td>\n",
              "      <td>2197.612614</td>\n",
              "    </tr>\n",
              "    <tr>\n",
              "      <th>3</th>\n",
              "      <td>3078.472412</td>\n",
              "      <td>3080.945218</td>\n",
              "    </tr>\n",
              "    <tr>\n",
              "      <th>4</th>\n",
              "      <td>904.162659</td>\n",
              "      <td>904.888883</td>\n",
              "    </tr>\n",
              "  </tbody>\n",
              "</table>\n",
              "</div>\n",
              "    <div class=\"colab-df-buttons\">\n",
              "\n",
              "  <div class=\"colab-df-container\">\n",
              "    <button class=\"colab-df-convert\" onclick=\"convertToInteractive('df-9a6d1f5f-9c78-41ba-9582-4f3aadb8071e')\"\n",
              "            title=\"Convert this dataframe to an interactive table.\"\n",
              "            style=\"display:none;\">\n",
              "\n",
              "  <svg xmlns=\"http://www.w3.org/2000/svg\" height=\"24px\" viewBox=\"0 -960 960 960\">\n",
              "    <path d=\"M120-120v-720h720v720H120Zm60-500h600v-160H180v160Zm220 220h160v-160H400v160Zm0 220h160v-160H400v160ZM180-400h160v-160H180v160Zm440 0h160v-160H620v160ZM180-180h160v-160H180v160Zm440 0h160v-160H620v160Z\"/>\n",
              "  </svg>\n",
              "    </button>\n",
              "\n",
              "  <style>\n",
              "    .colab-df-container {\n",
              "      display:flex;\n",
              "      gap: 12px;\n",
              "    }\n",
              "\n",
              "    .colab-df-convert {\n",
              "      background-color: #E8F0FE;\n",
              "      border: none;\n",
              "      border-radius: 50%;\n",
              "      cursor: pointer;\n",
              "      display: none;\n",
              "      fill: #1967D2;\n",
              "      height: 32px;\n",
              "      padding: 0 0 0 0;\n",
              "      width: 32px;\n",
              "    }\n",
              "\n",
              "    .colab-df-convert:hover {\n",
              "      background-color: #E2EBFA;\n",
              "      box-shadow: 0px 1px 2px rgba(60, 64, 67, 0.3), 0px 1px 3px 1px rgba(60, 64, 67, 0.15);\n",
              "      fill: #174EA6;\n",
              "    }\n",
              "\n",
              "    .colab-df-buttons div {\n",
              "      margin-bottom: 4px;\n",
              "    }\n",
              "\n",
              "    [theme=dark] .colab-df-convert {\n",
              "      background-color: #3B4455;\n",
              "      fill: #D2E3FC;\n",
              "    }\n",
              "\n",
              "    [theme=dark] .colab-df-convert:hover {\n",
              "      background-color: #434B5C;\n",
              "      box-shadow: 0px 1px 3px 1px rgba(0, 0, 0, 0.15);\n",
              "      filter: drop-shadow(0px 1px 2px rgba(0, 0, 0, 0.3));\n",
              "      fill: #FFFFFF;\n",
              "    }\n",
              "  </style>\n",
              "\n",
              "    <script>\n",
              "      const buttonEl =\n",
              "        document.querySelector('#df-9a6d1f5f-9c78-41ba-9582-4f3aadb8071e button.colab-df-convert');\n",
              "      buttonEl.style.display =\n",
              "        google.colab.kernel.accessAllowed ? 'block' : 'none';\n",
              "\n",
              "      async function convertToInteractive(key) {\n",
              "        const element = document.querySelector('#df-9a6d1f5f-9c78-41ba-9582-4f3aadb8071e');\n",
              "        const dataTable =\n",
              "          await google.colab.kernel.invokeFunction('convertToInteractive',\n",
              "                                                    [key], {});\n",
              "        if (!dataTable) return;\n",
              "\n",
              "        const docLinkHtml = 'Like what you see? Visit the ' +\n",
              "          '<a target=\"_blank\" href=https://colab.research.google.com/notebooks/data_table.ipynb>data table notebook</a>'\n",
              "          + ' to learn more about interactive tables.';\n",
              "        element.innerHTML = '';\n",
              "        dataTable['output_type'] = 'display_data';\n",
              "        await google.colab.output.renderOutput(dataTable, element);\n",
              "        const docLink = document.createElement('div');\n",
              "        docLink.innerHTML = docLinkHtml;\n",
              "        element.appendChild(docLink);\n",
              "      }\n",
              "    </script>\n",
              "  </div>\n",
              "\n",
              "\n",
              "<div id=\"df-ba890c82-963f-4b56-ba48-aa64d29becc1\">\n",
              "  <button class=\"colab-df-quickchart\" onclick=\"quickchart('df-ba890c82-963f-4b56-ba48-aa64d29becc1')\"\n",
              "            title=\"Suggest charts\"\n",
              "            style=\"display:none;\">\n",
              "\n",
              "<svg xmlns=\"http://www.w3.org/2000/svg\" height=\"24px\"viewBox=\"0 0 24 24\"\n",
              "     width=\"24px\">\n",
              "    <g>\n",
              "        <path d=\"M19 3H5c-1.1 0-2 .9-2 2v14c0 1.1.9 2 2 2h14c1.1 0 2-.9 2-2V5c0-1.1-.9-2-2-2zM9 17H7v-7h2v7zm4 0h-2V7h2v10zm4 0h-2v-4h2v4z\"/>\n",
              "    </g>\n",
              "</svg>\n",
              "  </button>\n",
              "\n",
              "<style>\n",
              "  .colab-df-quickchart {\n",
              "      --bg-color: #E8F0FE;\n",
              "      --fill-color: #1967D2;\n",
              "      --hover-bg-color: #E2EBFA;\n",
              "      --hover-fill-color: #174EA6;\n",
              "      --disabled-fill-color: #AAA;\n",
              "      --disabled-bg-color: #DDD;\n",
              "  }\n",
              "\n",
              "  [theme=dark] .colab-df-quickchart {\n",
              "      --bg-color: #3B4455;\n",
              "      --fill-color: #D2E3FC;\n",
              "      --hover-bg-color: #434B5C;\n",
              "      --hover-fill-color: #FFFFFF;\n",
              "      --disabled-bg-color: #3B4455;\n",
              "      --disabled-fill-color: #666;\n",
              "  }\n",
              "\n",
              "  .colab-df-quickchart {\n",
              "    background-color: var(--bg-color);\n",
              "    border: none;\n",
              "    border-radius: 50%;\n",
              "    cursor: pointer;\n",
              "    display: none;\n",
              "    fill: var(--fill-color);\n",
              "    height: 32px;\n",
              "    padding: 0;\n",
              "    width: 32px;\n",
              "  }\n",
              "\n",
              "  .colab-df-quickchart:hover {\n",
              "    background-color: var(--hover-bg-color);\n",
              "    box-shadow: 0 1px 2px rgba(60, 64, 67, 0.3), 0 1px 3px 1px rgba(60, 64, 67, 0.15);\n",
              "    fill: var(--button-hover-fill-color);\n",
              "  }\n",
              "\n",
              "  .colab-df-quickchart-complete:disabled,\n",
              "  .colab-df-quickchart-complete:disabled:hover {\n",
              "    background-color: var(--disabled-bg-color);\n",
              "    fill: var(--disabled-fill-color);\n",
              "    box-shadow: none;\n",
              "  }\n",
              "\n",
              "  .colab-df-spinner {\n",
              "    border: 2px solid var(--fill-color);\n",
              "    border-color: transparent;\n",
              "    border-bottom-color: var(--fill-color);\n",
              "    animation:\n",
              "      spin 1s steps(1) infinite;\n",
              "  }\n",
              "\n",
              "  @keyframes spin {\n",
              "    0% {\n",
              "      border-color: transparent;\n",
              "      border-bottom-color: var(--fill-color);\n",
              "      border-left-color: var(--fill-color);\n",
              "    }\n",
              "    20% {\n",
              "      border-color: transparent;\n",
              "      border-left-color: var(--fill-color);\n",
              "      border-top-color: var(--fill-color);\n",
              "    }\n",
              "    30% {\n",
              "      border-color: transparent;\n",
              "      border-left-color: var(--fill-color);\n",
              "      border-top-color: var(--fill-color);\n",
              "      border-right-color: var(--fill-color);\n",
              "    }\n",
              "    40% {\n",
              "      border-color: transparent;\n",
              "      border-right-color: var(--fill-color);\n",
              "      border-top-color: var(--fill-color);\n",
              "    }\n",
              "    60% {\n",
              "      border-color: transparent;\n",
              "      border-right-color: var(--fill-color);\n",
              "    }\n",
              "    80% {\n",
              "      border-color: transparent;\n",
              "      border-right-color: var(--fill-color);\n",
              "      border-bottom-color: var(--fill-color);\n",
              "    }\n",
              "    90% {\n",
              "      border-color: transparent;\n",
              "      border-bottom-color: var(--fill-color);\n",
              "    }\n",
              "  }\n",
              "</style>\n",
              "\n",
              "  <script>\n",
              "    async function quickchart(key) {\n",
              "      const quickchartButtonEl =\n",
              "        document.querySelector('#' + key + ' button');\n",
              "      quickchartButtonEl.disabled = true;  // To prevent multiple clicks.\n",
              "      quickchartButtonEl.classList.add('colab-df-spinner');\n",
              "      try {\n",
              "        const charts = await google.colab.kernel.invokeFunction(\n",
              "            'suggestCharts', [key], {});\n",
              "      } catch (error) {\n",
              "        console.error('Error during call to suggestCharts:', error);\n",
              "      }\n",
              "      quickchartButtonEl.classList.remove('colab-df-spinner');\n",
              "      quickchartButtonEl.classList.add('colab-df-quickchart-complete');\n",
              "    }\n",
              "    (() => {\n",
              "      let quickchartButtonEl =\n",
              "        document.querySelector('#df-ba890c82-963f-4b56-ba48-aa64d29becc1 button');\n",
              "      quickchartButtonEl.style.display =\n",
              "        google.colab.kernel.accessAllowed ? 'block' : 'none';\n",
              "    })();\n",
              "  </script>\n",
              "</div>\n",
              "\n",
              "    </div>\n",
              "  </div>\n"
            ],
            "application/vnd.google.colaboratory.intrinsic+json": {
              "type": "dataframe",
              "summary": "{\n  \"name\": \"american_samoa_ddf[area_columns]\",\n  \"rows\": 5,\n  \"fields\": [\n    {\n      \"column\": \"SQFEET\",\n      \"properties\": {\n        \"dtype\": \"float32\",\n        \"num_unique_values\": 5,\n        \"samples\": [\n          3078.481689453125,\n          904.1626586914062,\n          2195.848876953125\n        ],\n        \"semantic_type\": \"\",\n        \"description\": \"\"\n      }\n    },\n    {\n      \"column\": \"structure_size\",\n      \"properties\": {\n        \"dtype\": \"number\",\n        \"std\": 1121.8703817554747,\n        \"min\": 791.7865613318344,\n        \"max\": 3080.9545067740555,\n        \"num_unique_values\": 5,\n        \"samples\": [\n          3080.9545067740555,\n          904.8888834410768,\n          2197.6126141295704\n        ],\n        \"semantic_type\": \"\",\n        \"description\": \"\"\n      }\n    }\n  ]\n}"
            }
          },
          "metadata": {},
          "execution_count": 29
        }
      ]
    },
    {
      "cell_type": "code",
      "execution_count": null,
      "id": "5deb764c-d06c-4d8a-a315-50e79d2d2f22",
      "metadata": {
        "id": "5deb764c-d06c-4d8a-a315-50e79d2d2f22",
        "outputId": "f6c37be0-1623-4b64-bb53-57794087646b"
      },
      "outputs": [
        {
          "data": {
            "text/html": [
              "<div>\n",
              "<style scoped>\n",
              "    .dataframe tbody tr th:only-of-type {\n",
              "        vertical-align: middle;\n",
              "    }\n",
              "\n",
              "    .dataframe tbody tr th {\n",
              "        vertical-align: top;\n",
              "    }\n",
              "\n",
              "    .dataframe thead th {\n",
              "        text-align: right;\n",
              "    }\n",
              "</style>\n",
              "<table border=\"1\" class=\"dataframe\">\n",
              "  <thead>\n",
              "    <tr style=\"text-align: right;\">\n",
              "      <th></th>\n",
              "      <th>HEIGHT</th>\n",
              "      <th>SQMETERS</th>\n",
              "      <th>SQFEET</th>\n",
              "      <th>H_ADJ_ELEV</th>\n",
              "      <th>L_ADJ_ELEV</th>\n",
              "      <th>FIPS</th>\n",
              "      <th>CENSUSCODE</th>\n",
              "      <th>PROD_DATE</th>\n",
              "      <th>SOURCE</th>\n",
              "      <th>USNG</th>\n",
              "      <th>LONGITUDE</th>\n",
              "      <th>LATITUDE</th>\n",
              "      <th>IMAGE_NAME</th>\n",
              "      <th>IMAGE_DATE</th>\n",
              "      <th>VAL_METHOD</th>\n",
              "      <th>REMARKS</th>\n",
              "      <th>UUID</th>\n",
              "      <th>bbox</th>\n",
              "      <th>geohash</th>\n",
              "      <th>structure_size</th>\n",
              "    </tr>\n",
              "  </thead>\n",
              "  <tbody>\n",
              "    <tr>\n",
              "      <th>0</th>\n",
              "      <td>0.0</td>\n",
              "      <td>59.507576</td>\n",
              "      <td>640.533569</td>\n",
              "      <td>NaN</td>\n",
              "      <td>NaN</td>\n",
              "      <td>60050</td>\n",
              "      <td>60050951600</td>\n",
              "      <td>2021-04-09</td>\n",
              "      <td>ORNL</td>\n",
              "      <td>02L NK 18412 16164</td>\n",
              "      <td>-170.829258</td>\n",
              "      <td>-14.326434</td>\n",
              "      <td>104001005B4C3F00</td>\n",
              "      <td>2020-05-14</td>\n",
              "      <td>Automated</td>\n",
              "      <td>None</td>\n",
              "      <td>{245aca01-8d02-4340-810e-3872ee35e7ef}</td>\n",
              "      <td>{'xmin': -170.82931163799998, 'ymin': -14.3264...</td>\n",
              "      <td>2jqw2xvymz0vch1</td>\n",
              "      <td>791.786561</td>\n",
              "    </tr>\n",
              "    <tr>\n",
              "      <th>1</th>\n",
              "      <td>0.0</td>\n",
              "      <td>286.000580</td>\n",
              "      <td>3078.481689</td>\n",
              "      <td>NaN</td>\n",
              "      <td>NaN</td>\n",
              "      <td>60050</td>\n",
              "      <td>60050951600</td>\n",
              "      <td>2013-01-01</td>\n",
              "      <td>NOAA</td>\n",
              "      <td>02L NK 18540 15909</td>\n",
              "      <td>-170.828069</td>\n",
              "      <td>-14.328742</td>\n",
              "      <td>NOAA Topographic LiDAR</td>\n",
              "      <td>2013-01-01</td>\n",
              "      <td>Unverified</td>\n",
              "      <td>None</td>\n",
              "      <td>{a46fac03-1829-47a2-b63f-86d4e52700a8}</td>\n",
              "      <td>{'xmin': -170.82815531799997, 'ymin': -14.3288...</td>\n",
              "      <td>2jqw2xwc12zkvd0</td>\n",
              "      <td>3080.954507</td>\n",
              "    </tr>\n",
              "    <tr>\n",
              "      <th>2</th>\n",
              "      <td>0.0</td>\n",
              "      <td>204.001236</td>\n",
              "      <td>2195.848877</td>\n",
              "      <td>NaN</td>\n",
              "      <td>NaN</td>\n",
              "      <td>60050</td>\n",
              "      <td>60050951600</td>\n",
              "      <td>2013-01-01</td>\n",
              "      <td>NOAA</td>\n",
              "      <td>02L NK 18569 15948</td>\n",
              "      <td>-170.827797</td>\n",
              "      <td>-14.328382</td>\n",
              "      <td>NOAA Topographic LiDAR</td>\n",
              "      <td>2013-01-01</td>\n",
              "      <td>Unverified</td>\n",
              "      <td>None</td>\n",
              "      <td>{4c8bb4a4-86e1-4cb2-908c-a367e7dfa525}</td>\n",
              "      <td>{'xmin': -170.82790860099996, 'ymin': -14.3284...</td>\n",
              "      <td>2jqw2xwgpg8y3ej</td>\n",
              "      <td>2197.612614</td>\n",
              "    </tr>\n",
              "    <tr>\n",
              "      <th>3</th>\n",
              "      <td>0.0</td>\n",
              "      <td>285.999725</td>\n",
              "      <td>3078.472412</td>\n",
              "      <td>NaN</td>\n",
              "      <td>NaN</td>\n",
              "      <td>60050</td>\n",
              "      <td>60050951600</td>\n",
              "      <td>2013-01-01</td>\n",
              "      <td>NOAA</td>\n",
              "      <td>02L NK 18594 15936</td>\n",
              "      <td>-170.827566</td>\n",
              "      <td>-14.328497</td>\n",
              "      <td>NOAA Topographic LiDAR</td>\n",
              "      <td>2013-01-01</td>\n",
              "      <td>Unverified</td>\n",
              "      <td>None</td>\n",
              "      <td>{22106c1f-562e-4468-a496-32d407fd8b4f}</td>\n",
              "      <td>{'xmin': -170.82767668499997, 'ymin': -14.3286...</td>\n",
              "      <td>2jqw2xx4mn23x0c</td>\n",
              "      <td>3080.945218</td>\n",
              "    </tr>\n",
              "    <tr>\n",
              "      <th>4</th>\n",
              "      <td>0.0</td>\n",
              "      <td>83.999542</td>\n",
              "      <td>904.162659</td>\n",
              "      <td>NaN</td>\n",
              "      <td>NaN</td>\n",
              "      <td>60050</td>\n",
              "      <td>60050951600</td>\n",
              "      <td>2013-01-01</td>\n",
              "      <td>NOAA</td>\n",
              "      <td>02L NK 18636 15935</td>\n",
              "      <td>-170.827176</td>\n",
              "      <td>-14.328503</td>\n",
              "      <td>NOAA Topographic LiDAR</td>\n",
              "      <td>2013-01-01</td>\n",
              "      <td>Unverified</td>\n",
              "      <td>None</td>\n",
              "      <td>{bc01e591-8516-49bf-b66e-dd21667de2f7}</td>\n",
              "      <td>{'xmin': -170.82721784799998, 'ymin': -14.3285...</td>\n",
              "      <td>2jqw2xx6qm2znys</td>\n",
              "      <td>904.888883</td>\n",
              "    </tr>\n",
              "  </tbody>\n",
              "</table>\n",
              "</div>"
            ],
            "text/plain": [
              "   HEIGHT    SQMETERS       SQFEET  H_ADJ_ELEV  L_ADJ_ELEV   FIPS  \\\n",
              "0     0.0   59.507576   640.533569         NaN         NaN  60050   \n",
              "1     0.0  286.000580  3078.481689         NaN         NaN  60050   \n",
              "2     0.0  204.001236  2195.848877         NaN         NaN  60050   \n",
              "3     0.0  285.999725  3078.472412         NaN         NaN  60050   \n",
              "4     0.0   83.999542   904.162659         NaN         NaN  60050   \n",
              "\n",
              "    CENSUSCODE  PROD_DATE SOURCE                USNG   LONGITUDE   LATITUDE  \\\n",
              "0  60050951600 2021-04-09   ORNL  02L NK 18412 16164 -170.829258 -14.326434   \n",
              "1  60050951600 2013-01-01   NOAA  02L NK 18540 15909 -170.828069 -14.328742   \n",
              "2  60050951600 2013-01-01   NOAA  02L NK 18569 15948 -170.827797 -14.328382   \n",
              "3  60050951600 2013-01-01   NOAA  02L NK 18594 15936 -170.827566 -14.328497   \n",
              "4  60050951600 2013-01-01   NOAA  02L NK 18636 15935 -170.827176 -14.328503   \n",
              "\n",
              "               IMAGE_NAME IMAGE_DATE  VAL_METHOD REMARKS  \\\n",
              "0        104001005B4C3F00 2020-05-14   Automated    None   \n",
              "1  NOAA Topographic LiDAR 2013-01-01  Unverified    None   \n",
              "2  NOAA Topographic LiDAR 2013-01-01  Unverified    None   \n",
              "3  NOAA Topographic LiDAR 2013-01-01  Unverified    None   \n",
              "4  NOAA Topographic LiDAR 2013-01-01  Unverified    None   \n",
              "\n",
              "                                     UUID  \\\n",
              "0  {245aca01-8d02-4340-810e-3872ee35e7ef}   \n",
              "1  {a46fac03-1829-47a2-b63f-86d4e52700a8}   \n",
              "2  {4c8bb4a4-86e1-4cb2-908c-a367e7dfa525}   \n",
              "3  {22106c1f-562e-4468-a496-32d407fd8b4f}   \n",
              "4  {bc01e591-8516-49bf-b66e-dd21667de2f7}   \n",
              "\n",
              "                                                bbox          geohash  \\\n",
              "0  {'xmin': -170.82931163799998, 'ymin': -14.3264...  2jqw2xvymz0vch1   \n",
              "1  {'xmin': -170.82815531799997, 'ymin': -14.3288...  2jqw2xwc12zkvd0   \n",
              "2  {'xmin': -170.82790860099996, 'ymin': -14.3284...  2jqw2xwgpg8y3ej   \n",
              "3  {'xmin': -170.82767668499997, 'ymin': -14.3286...  2jqw2xx4mn23x0c   \n",
              "4  {'xmin': -170.82721784799998, 'ymin': -14.3285...  2jqw2xx6qm2znys   \n",
              "\n",
              "   structure_size  \n",
              "0      791.786561  \n",
              "1     3080.954507  \n",
              "2     2197.612614  \n",
              "3     3080.945218  \n",
              "4      904.888883  "
            ]
          },
          "execution_count": 29,
          "metadata": {},
          "output_type": "execute_result"
        }
      ],
      "source": [
        "desired_columns = american_samoa_ddf.columns[10:30]\n",
        "american_samoa_ddf[desired_columns].head(5)"
      ]
    },
    {
      "cell_type": "markdown",
      "id": "6081ec16-cf80-4450-bf62-1517d836591c",
      "metadata": {
        "id": "6081ec16-cf80-4450-bf62-1517d836591c"
      },
      "source": [
        "Scrolling on the above dataframe to compare the 3rd column with the last column, you will notice some values are closer than others. CRS is important, and if we did this same CRS for Utah, we would see completely wrong results. We could also investigate how this dataset calculates the SQFEET column and possibly find the exact CRS that was used for each section.\n",
        "\n",
        "Moving forward we will utilize the dataframes 'SQFEET' column!"
      ]
    },
    {
      "cell_type": "markdown",
      "source": [
        "We can also review specific columns that may be valuable, this is shown in the samples section!"
      ],
      "metadata": {
        "id": "N-NsH5Au327N"
      },
      "id": "N-NsH5Au327N"
    },
    {
      "cell_type": "markdown",
      "id": "ed24a3d2-698b-47c0-8c1e-2b6981021a6d",
      "metadata": {
        "id": "ed24a3d2-698b-47c0-8c1e-2b6981021a6d"
      },
      "source": [
        "### Geometry\n",
        "Another feature of spatial data that is important is the geometry. The geometry is crucial for any joins or plotting. We detail this in the next section."
      ]
    },
    {
      "cell_type": "markdown",
      "id": "25a0699e-10c4-487c-b37a-a1686e8fec64",
      "metadata": {
        "id": "25a0699e-10c4-487c-b37a-a1686e8fec64"
      },
      "source": [
        "## Dataset Integrity"
      ]
    },
    {
      "cell_type": "markdown",
      "id": "3b387d20-8a11-4994-88dc-3fb9de4978f3",
      "metadata": {
        "id": "3b387d20-8a11-4994-88dc-3fb9de4978f3"
      },
      "source": [
        "This section shows an example of questions you need to be asking each time you load in a dataset. It is important to verify work so you know the best way to analyze the dataset. Our dataset has columns that specify the state and/or city that a structure is in. However, these columns have blanks as not every structure is identified. For this reason, I want to investigate how many buildings don't get identified.\n",
        "\n",
        "I will use the city of worcester shapefile from the city government's website. Whenever downloading a shapefile, make sure you get all the other files that come with it: .shp, .cpg, .dbf, .prj, .shx, and .xml\n",
        "\n",
        "I'll compare the shapefile to 2 different dataframes:\n",
        "\n",
        "1. The first dataframe will be the entire dataset, no filtering based on columns.\n",
        "\n",
        "2. The second dataframe will make a dataframe of buildings/rows that are identified as Massachusetts. Then from that dataframe, I will grab a new one for buildings/rows that are identified as Worcester.\n",
        "\n",
        "\n",
        "Next, I will compute the number of rows for each spatial join with the Worcester Shapefile. A user can decide if one is 'better' than the other. You also have to consider computational power. If you only lose 100 out of 100,000 buildings, is it worth it to save computational power? I think yes, but it all depends on your analysis and abilities. You will not see the outputs from most '.compute()' lines of code, that is due to a weak computational power on my personal machine. Any computation should be ran with caution, especially those on the entire dataset. I will try to include warnings (AND comment out code) before each compute to remind the user.\n",
        "\n",
        "The Worcester Shapefile can be found here: https://opendata.worcesterma.gov/datasets/worcesterma::city-boundary-1/about"
      ]
    },
    {
      "cell_type": "markdown",
      "id": "4d83a94b-4593-4808-a18d-b4df684d6e45",
      "metadata": {
        "id": "4d83a94b-4593-4808-a18d-b4df684d6e45"
      },
      "source": [
        "Since we are analyzing Massachusetts (City: Worcester, Town: Norwood), and the shapefile we retreived from the City of Worcester was in 2249, we will use 2249.\n",
        "\n",
        "EPSG:2249 covers both Massachusetts counties we analyze (Worcester and Norfolk), this is in US Survey feet which means we don't need to worry about converting from meters to feet."
      ]
    },
    {
      "cell_type": "code",
      "execution_count": 30,
      "id": "0704e21a-9199-43d6-a3d3-e537b35e54ba",
      "metadata": {
        "id": "0704e21a-9199-43d6-a3d3-e537b35e54ba"
      },
      "outputs": [],
      "source": [
        "massachusetts_ddf = structure_ddf[structure_ddf['PROP_ST'] == 'Massachusetts'] # Filter for Massachusetts buildings\n",
        "massachusetts_ddf = massachusetts_ddf.to_crs(epsg=2249) # use a CRS that works for Worcester and Norwood\n",
        "worcester_PROP_CITY_ddf = massachusetts_ddf[massachusetts_ddf['PROP_CITY'] == 'Worcester'] # Filter for Worcester buildings"
      ]
    },
    {
      "cell_type": "code",
      "execution_count": 33,
      "id": "f2386fab-5ef2-4090-bcb0-02f30304de8f",
      "metadata": {
        "id": "f2386fab-5ef2-4090-bcb0-02f30304de8f"
      },
      "outputs": [],
      "source": [
        "worcester_boundary = dg.read_file(f\"./data/Worcester/City_Boundary.shp\", chunksize = 7500) # chunksize specifies number of rows per chunk"
      ]
    },
    {
      "cell_type": "markdown",
      "id": "352bff0b-73ea-4608-95f4-4d3557c18bf5",
      "metadata": {
        "id": "352bff0b-73ea-4608-95f4-4d3557c18bf5"
      },
      "source": [
        "##### If the above line of code gave you an error similar to:\n",
        "'ERROR 1: PROJ: proj_create_from_database: Open of /opt/conda/envs/us_structures_analysis/share/proj failed'\n",
        "\n",
        "Try re-running it"
      ]
    },
    {
      "cell_type": "code",
      "execution_count": 34,
      "id": "d2db3359-2b56-48b9-baad-5b69056247b7",
      "metadata": {
        "id": "d2db3359-2b56-48b9-baad-5b69056247b7",
        "outputId": "82d5db33-fe96-4784-fbce-23855f34ea25",
        "colab": {
          "base_uri": "https://localhost:8080/"
        }
      },
      "outputs": [
        {
          "output_type": "execute_result",
          "data": {
            "text/plain": [
              "<Projected CRS: EPSG:2249>\n",
              "Name: NAD83 / Massachusetts Mainland (ftUS)\n",
              "Axis Info [cartesian]:\n",
              "- X[east]: Easting (US survey foot)\n",
              "- Y[north]: Northing (US survey foot)\n",
              "Area of Use:\n",
              "- name: United States (USA) - Massachusetts onshore - counties of Barnstable; Berkshire; Bristol; Essex; Franklin; Hampden; Hampshire; Middlesex; Norfolk; Plymouth; Suffolk; Worcester.\n",
              "- bounds: (-73.5, 41.46, -69.86, 42.89)\n",
              "Coordinate Operation:\n",
              "- name: SPCS83 Massachusetts Mainland zone (US survey foot)\n",
              "- method: Lambert Conic Conformal (2SP)\n",
              "Datum: North American Datum 1983\n",
              "- Ellipsoid: GRS 1980\n",
              "- Prime Meridian: Greenwich"
            ]
          },
          "metadata": {},
          "execution_count": 34
        }
      ],
      "source": [
        "# confirm crs\n",
        "worcester_boundary.crs"
      ]
    },
    {
      "cell_type": "code",
      "execution_count": 35,
      "id": "326a58ea-d91b-4aa5-9cba-de88a78226be",
      "metadata": {
        "id": "326a58ea-d91b-4aa5-9cba-de88a78226be",
        "outputId": "54db262e-2e1e-456e-8753-d5aa3f5d33d2",
        "colab": {
          "base_uri": "https://localhost:8080/",
          "height": 199
        }
      },
      "outputs": [
        {
          "output_type": "execute_result",
          "data": {
            "text/plain": [
              "        TOWN  TOWN_ID  TOWNS_ID  POP1980  POP1990  POP2000  POPCH80_90  \\\n",
              "0  WORCESTER      348       261   159843   169759   172648        9916   \n",
              "\n",
              "   POPCH90_00 TYPE  ISLAND  ... FIPS_PLACE  FIPS_MCD  FIPS_COUNT      ACRES  \\\n",
              "0        2889    C       0  ...      82000  25027030          27  24602.486   \n",
              "\n",
              "  SQUARE_MIL                              GlobalID  OBJECTID    Shape__Are  \\\n",
              "0    384.411  642fd55c-8273-4e35-993c-d5d0e1eaf706         1  1.071680e+09   \n",
              "\n",
              "      Shape__Len                                           geometry  \n",
              "0  139826.751833  POLYGON ((583605.513 2938565.252, 586219.333 2...  \n",
              "\n",
              "[1 rows x 24 columns]"
            ],
            "text/html": [
              "\n",
              "  <div id=\"df-c3610b1c-b312-4036-aff6-46632045175c\" class=\"colab-df-container\">\n",
              "    <div>\n",
              "<style scoped>\n",
              "    .dataframe tbody tr th:only-of-type {\n",
              "        vertical-align: middle;\n",
              "    }\n",
              "\n",
              "    .dataframe tbody tr th {\n",
              "        vertical-align: top;\n",
              "    }\n",
              "\n",
              "    .dataframe thead th {\n",
              "        text-align: right;\n",
              "    }\n",
              "</style>\n",
              "<table border=\"1\" class=\"dataframe\">\n",
              "  <thead>\n",
              "    <tr style=\"text-align: right;\">\n",
              "      <th></th>\n",
              "      <th>TOWN</th>\n",
              "      <th>TOWN_ID</th>\n",
              "      <th>TOWNS_ID</th>\n",
              "      <th>POP1980</th>\n",
              "      <th>POP1990</th>\n",
              "      <th>POP2000</th>\n",
              "      <th>POPCH80_90</th>\n",
              "      <th>POPCH90_00</th>\n",
              "      <th>TYPE</th>\n",
              "      <th>ISLAND</th>\n",
              "      <th>...</th>\n",
              "      <th>FIPS_PLACE</th>\n",
              "      <th>FIPS_MCD</th>\n",
              "      <th>FIPS_COUNT</th>\n",
              "      <th>ACRES</th>\n",
              "      <th>SQUARE_MIL</th>\n",
              "      <th>GlobalID</th>\n",
              "      <th>OBJECTID</th>\n",
              "      <th>Shape__Are</th>\n",
              "      <th>Shape__Len</th>\n",
              "      <th>geometry</th>\n",
              "    </tr>\n",
              "  </thead>\n",
              "  <tbody>\n",
              "    <tr>\n",
              "      <th>0</th>\n",
              "      <td>WORCESTER</td>\n",
              "      <td>348</td>\n",
              "      <td>261</td>\n",
              "      <td>159843</td>\n",
              "      <td>169759</td>\n",
              "      <td>172648</td>\n",
              "      <td>9916</td>\n",
              "      <td>2889</td>\n",
              "      <td>C</td>\n",
              "      <td>0</td>\n",
              "      <td>...</td>\n",
              "      <td>82000</td>\n",
              "      <td>25027030</td>\n",
              "      <td>27</td>\n",
              "      <td>24602.486</td>\n",
              "      <td>384.411</td>\n",
              "      <td>642fd55c-8273-4e35-993c-d5d0e1eaf706</td>\n",
              "      <td>1</td>\n",
              "      <td>1.071680e+09</td>\n",
              "      <td>139826.751833</td>\n",
              "      <td>POLYGON ((583605.513 2938565.252, 586219.333 2...</td>\n",
              "    </tr>\n",
              "  </tbody>\n",
              "</table>\n",
              "<p>1 rows × 24 columns</p>\n",
              "</div>\n",
              "    <div class=\"colab-df-buttons\">\n",
              "\n",
              "  <div class=\"colab-df-container\">\n",
              "    <button class=\"colab-df-convert\" onclick=\"convertToInteractive('df-c3610b1c-b312-4036-aff6-46632045175c')\"\n",
              "            title=\"Convert this dataframe to an interactive table.\"\n",
              "            style=\"display:none;\">\n",
              "\n",
              "  <svg xmlns=\"http://www.w3.org/2000/svg\" height=\"24px\" viewBox=\"0 -960 960 960\">\n",
              "    <path d=\"M120-120v-720h720v720H120Zm60-500h600v-160H180v160Zm220 220h160v-160H400v160Zm0 220h160v-160H400v160ZM180-400h160v-160H180v160Zm440 0h160v-160H620v160ZM180-180h160v-160H180v160Zm440 0h160v-160H620v160Z\"/>\n",
              "  </svg>\n",
              "    </button>\n",
              "\n",
              "  <style>\n",
              "    .colab-df-container {\n",
              "      display:flex;\n",
              "      gap: 12px;\n",
              "    }\n",
              "\n",
              "    .colab-df-convert {\n",
              "      background-color: #E8F0FE;\n",
              "      border: none;\n",
              "      border-radius: 50%;\n",
              "      cursor: pointer;\n",
              "      display: none;\n",
              "      fill: #1967D2;\n",
              "      height: 32px;\n",
              "      padding: 0 0 0 0;\n",
              "      width: 32px;\n",
              "    }\n",
              "\n",
              "    .colab-df-convert:hover {\n",
              "      background-color: #E2EBFA;\n",
              "      box-shadow: 0px 1px 2px rgba(60, 64, 67, 0.3), 0px 1px 3px 1px rgba(60, 64, 67, 0.15);\n",
              "      fill: #174EA6;\n",
              "    }\n",
              "\n",
              "    .colab-df-buttons div {\n",
              "      margin-bottom: 4px;\n",
              "    }\n",
              "\n",
              "    [theme=dark] .colab-df-convert {\n",
              "      background-color: #3B4455;\n",
              "      fill: #D2E3FC;\n",
              "    }\n",
              "\n",
              "    [theme=dark] .colab-df-convert:hover {\n",
              "      background-color: #434B5C;\n",
              "      box-shadow: 0px 1px 3px 1px rgba(0, 0, 0, 0.15);\n",
              "      filter: drop-shadow(0px 1px 2px rgba(0, 0, 0, 0.3));\n",
              "      fill: #FFFFFF;\n",
              "    }\n",
              "  </style>\n",
              "\n",
              "    <script>\n",
              "      const buttonEl =\n",
              "        document.querySelector('#df-c3610b1c-b312-4036-aff6-46632045175c button.colab-df-convert');\n",
              "      buttonEl.style.display =\n",
              "        google.colab.kernel.accessAllowed ? 'block' : 'none';\n",
              "\n",
              "      async function convertToInteractive(key) {\n",
              "        const element = document.querySelector('#df-c3610b1c-b312-4036-aff6-46632045175c');\n",
              "        const dataTable =\n",
              "          await google.colab.kernel.invokeFunction('convertToInteractive',\n",
              "                                                    [key], {});\n",
              "        if (!dataTable) return;\n",
              "\n",
              "        const docLinkHtml = 'Like what you see? Visit the ' +\n",
              "          '<a target=\"_blank\" href=https://colab.research.google.com/notebooks/data_table.ipynb>data table notebook</a>'\n",
              "          + ' to learn more about interactive tables.';\n",
              "        element.innerHTML = '';\n",
              "        dataTable['output_type'] = 'display_data';\n",
              "        await google.colab.output.renderOutput(dataTable, element);\n",
              "        const docLink = document.createElement('div');\n",
              "        docLink.innerHTML = docLinkHtml;\n",
              "        element.appendChild(docLink);\n",
              "      }\n",
              "    </script>\n",
              "  </div>\n",
              "\n",
              "\n",
              "    </div>\n",
              "  </div>\n"
            ],
            "application/vnd.google.colaboratory.intrinsic+json": {
              "type": "dataframe"
            }
          },
          "metadata": {},
          "execution_count": 35
        }
      ],
      "source": [
        "worcester_boundary.compute() # insight to the shapefile layout."
      ]
    },
    {
      "cell_type": "markdown",
      "id": "6e5d2d23-6e65-4eb2-8441-7e303c72cb45",
      "metadata": {
        "id": "6e5d2d23-6e65-4eb2-8441-7e303c72cb45"
      },
      "source": [
        "As noted in the Data Checks section, we must check the geometry files are proper for the join.\n",
        "The structure_ddf.head(5) line and the above worcester_boundary.compute() will show how the geometry columns are named. The prints confirm they are\n",
        "the same."
      ]
    },
    {
      "cell_type": "code",
      "execution_count": 36,
      "id": "c1968d08-82a2-47d8-a1d0-7cb44121196f",
      "metadata": {
        "id": "c1968d08-82a2-47d8-a1d0-7cb44121196f",
        "outputId": "8b0a9311-ae7b-45ae-9085-7517eb4df14a",
        "colab": {
          "base_uri": "https://localhost:8080/"
        }
      },
      "outputs": [
        {
          "output_type": "stream",
          "name": "stdout",
          "text": [
            "geometry\n",
            "geometry\n"
          ]
        }
      ],
      "source": [
        "massachusetts_ddf = massachusetts_ddf.set_geometry('geometry')\n",
        "worcester_boundary = worcester_boundary.set_geometry('geometry')\n",
        "print(structure_ddf.geometry.name)\n",
        "print(worcester_boundary.geometry.name)"
      ]
    },
    {
      "cell_type": "markdown",
      "id": "e4e5f14a-6798-4e1c-872b-4e04be075f76",
      "metadata": {
        "id": "e4e5f14a-6798-4e1c-872b-4e04be075f76"
      },
      "source": [
        "Here we WOULD count the number of rows that each spatial join gives. However, the dataset is still too large! Not advised to run the commented out cell blocks!"
      ]
    },
    {
      "cell_type": "markdown",
      "id": "2b13dbbc-44f9-4c80-9c48-0bd0f2acebeb",
      "metadata": {
        "id": "2b13dbbc-44f9-4c80-9c48-0bd0f2acebeb"
      },
      "source": [
        "##### NOTE: To perform a spatial join, both dataframes must be in the same CRS. We will have to project the entire dataframe to EPSG:2249. If you wish to analyze other areas, you will have to change the CRS again. Keep this in mind!"
      ]
    },
    {
      "cell_type": "code",
      "execution_count": 37,
      "id": "eba6dbf6-593c-4e0d-9a50-cbdabbb0a670",
      "metadata": {
        "id": "eba6dbf6-593c-4e0d-9a50-cbdabbb0a670"
      },
      "outputs": [],
      "source": [
        "structure_ddf = structure_ddf.to_crs(epsg=2249)"
      ]
    },
    {
      "cell_type": "code",
      "execution_count": 38,
      "id": "51706f65-2d52-4aef-a3e6-37fe2b33d1b3",
      "metadata": {
        "id": "51706f65-2d52-4aef-a3e6-37fe2b33d1b3"
      },
      "outputs": [],
      "source": [
        "worcester_entire_ddf = dg.sjoin(structure_ddf, worcester_boundary, how='inner', predicate='within')\n",
        "# within makes sure the whole structure_ddf row is inside the worcester_boundary\n",
        "# Understand this approach may mean some of the structure_ddf rows near the boundary won't be included if the shapefile is different by just a little.\n",
        "\n",
        "worcester_PROP_ddf = dg.sjoin(worcester_PROP_CITY_ddf, worcester_boundary, how='inner', predicate='within')"
      ]
    },
    {
      "cell_type": "code",
      "execution_count": null,
      "id": "b4a252c9-e270-4076-b0c0-09a958edc37f",
      "metadata": {
        "id": "b4a252c9-e270-4076-b0c0-09a958edc37f"
      },
      "outputs": [],
      "source": [
        "# entire_df_worcester_rows = worcester_entire_ddf.count().compute()\n",
        "# entire_df_worcester_rows"
      ]
    },
    {
      "cell_type": "code",
      "execution_count": null,
      "id": "03c1fd49-86c6-4e3c-b901-5f04f888b835",
      "metadata": {
        "id": "03c1fd49-86c6-4e3c-b901-5f04f888b835"
      },
      "outputs": [],
      "source": [
        "# filtered_by_columns_worcester_rows = worcester_PROP_ddf.count().compute()\n",
        "# filtered_by_columns_worcester_rows"
      ]
    },
    {
      "cell_type": "markdown",
      "id": "b6bc0bac-3767-426d-8040-d30b3dc1aaff",
      "metadata": {
        "id": "b6bc0bac-3767-426d-8040-d30b3dc1aaff"
      },
      "source": [
        "## Town Example"
      ]
    },
    {
      "cell_type": "markdown",
      "id": "52907f3d-f9e6-4340-891b-43eda15274cf",
      "metadata": {
        "id": "52907f3d-f9e6-4340-891b-43eda15274cf"
      },
      "source": [
        "The goal of adding a town example is that it will have less computation requirements than a city. Note: my computer still could not handle this (and Google Colab)! Also, this is relying on filtering dataset by column names, but the zip codes seemed more filled in ('PROP_ZIP') than state or city, so hoping this is sufficient.\n",
        "\n",
        "User could also grab a shapefile for Norwood, MA and use the original structure_ddf to spatial join with it. Remember: the structure_ddf has already been updated for the CRS, so you will not have to update again (unless picking a region that uses a new CRS)"
      ]
    },
    {
      "cell_type": "code",
      "execution_count": 42,
      "id": "e2d68592-c544-42f8-8597-f8183f424503",
      "metadata": {
        "id": "e2d68592-c544-42f8-8597-f8183f424503"
      },
      "outputs": [],
      "source": [
        "norwood_ddf = massachusetts_ddf[massachusetts_ddf['PROP_ZIP'] == '02062']"
      ]
    },
    {
      "cell_type": "markdown",
      "id": "3b35c58b-620c-4c19-ba02-44653ee4969a",
      "metadata": {
        "id": "3b35c58b-620c-4c19-ba02-44653ee4969a"
      },
      "source": [
        "##### Find number of structures in Norwood that are part of dataset (Computing Disclaimer)"
      ]
    },
    {
      "cell_type": "code",
      "execution_count": null,
      "id": "173fe63b-0d46-4e7e-b690-ac291930dc37",
      "metadata": {
        "id": "173fe63b-0d46-4e7e-b690-ac291930dc37"
      },
      "outputs": [],
      "source": [
        "# norwood_ddf.shape[0].compute()"
      ]
    },
    {
      "cell_type": "markdown",
      "id": "c7e010e2-6119-43df-8b15-9a98ced23d7a",
      "metadata": {
        "id": "c7e010e2-6119-43df-8b15-9a98ced23d7a"
      },
      "source": [
        "##### Find the average structure size (using dataset's SQFEET column, not the one we created) (Computing Disclaimer)"
      ]
    },
    {
      "cell_type": "code",
      "execution_count": null,
      "id": "3c275d9a-52a1-48f1-b133-2daa44f0afb1",
      "metadata": {
        "id": "3c275d9a-52a1-48f1-b133-2daa44f0afb1"
      },
      "outputs": [],
      "source": [
        "# norwood_ddf['SQFEET'].mean().compute()"
      ]
    },
    {
      "cell_type": "markdown",
      "id": "e1b9fc0e-7b49-45de-b089-eacc9e45e30e",
      "metadata": {
        "id": "e1b9fc0e-7b49-45de-b089-eacc9e45e30e"
      },
      "source": [
        "##### Make a histogram of structure sizes (Computing Disclaimer)"
      ]
    },
    {
      "cell_type": "code",
      "execution_count": null,
      "id": "0d12e797-7a0f-491b-a9f3-e22dae5816fb",
      "metadata": {
        "id": "0d12e797-7a0f-491b-a9f3-e22dae5816fb"
      },
      "outputs": [],
      "source": [
        "# sqfeet_data = norwood_ddf['SQFEET']\n",
        "# norwood_sqfeet = sqfeet_data.compute()\n",
        "\n",
        "\n",
        "# plt.hist(norwood_sqfeet, bins = 300, edgecolor='black')\n",
        "# plt.xlabel('Area (in ft^2)')\n",
        "# plt.ylabel('Frequency')\n",
        "# plt.title('area_in_square_feet for Norwood Buildings')\n",
        "# plt.show()"
      ]
    },
    {
      "cell_type": "markdown",
      "source": [
        "## Using above code examples on the partition40 and american_samoa samples"
      ],
      "metadata": {
        "id": "xXK3P-nC7Cao"
      },
      "id": "xXK3P-nC7Cao"
    },
    {
      "cell_type": "markdown",
      "source": [
        "#### American Samoa"
      ],
      "metadata": {
        "id": "yuZLdlLpEh0M"
      },
      "id": "yuZLdlLpEh0M"
    },
    {
      "cell_type": "code",
      "source": [
        "plt.hist(american_samoa_ddf.SQFEET, edgecolor='black')\n",
        "plt.xlabel('Area (in ft^2)')\n",
        "plt.ylabel('Frequency')\n",
        "plt.title('area_in_square_feet for sampled American Samoa Buildings')\n",
        "plt.show()"
      ],
      "metadata": {
        "colab": {
          "base_uri": "https://localhost:8080/",
          "height": 472
        },
        "id": "E8-5RBB16hkA",
        "outputId": "b678912d-b4b4-4942-bf7b-8310fca00ebb"
      },
      "id": "E8-5RBB16hkA",
      "execution_count": 51,
      "outputs": [
        {
          "output_type": "display_data",
          "data": {
            "text/plain": [
              "<Figure size 640x480 with 1 Axes>"
            ],
            "image/png": "[encoded data removed]"
          },
          "metadata": {}
        }
      ]
    },
    {
      "cell_type": "code",
      "source": [
        "# Number of Structures\n",
        "AmS_totalStructures = american_samoa_ddf.shape[0]\n",
        "AmS_totalStructures"
      ],
      "metadata": {
        "colab": {
          "base_uri": "https://localhost:8080/"
        },
        "id": "IeRO7Bq4GYUL",
        "outputId": "2169352c-ab05-4145-ead5-6cca12463623"
      },
      "id": "IeRO7Bq4GYUL",
      "execution_count": 57,
      "outputs": [
        {
          "output_type": "execute_result",
          "data": {
            "text/plain": [
              "5"
            ]
          },
          "metadata": {},
          "execution_count": 57
        }
      ]
    },
    {
      "cell_type": "code",
      "source": [
        "# Average Structure Size\n",
        "AmS_avgSize = american_samoa_ddf.SQFEET.mean()\n",
        "AmS_avgSize"
      ],
      "metadata": {
        "colab": {
          "base_uri": "https://localhost:8080/"
        },
        "id": "f3z1xiuxGiTJ",
        "outputId": "f2e22d41-660e-47df-b9c2-47d98fe9a143"
      },
      "id": "f3z1xiuxGiTJ",
      "execution_count": 59,
      "outputs": [
        {
          "output_type": "execute_result",
          "data": {
            "text/plain": [
              "1979.5"
            ]
          },
          "metadata": {},
          "execution_count": 59
        }
      ]
    },
    {
      "cell_type": "code",
      "source": [
        "# Unique Number of Census Blocks\n",
        "AmS_uniqueBlocks = american_samoa_ddf.CENSUSCODE.nunique()\n",
        "AmS_uniqueBlocks"
      ],
      "metadata": {
        "colab": {
          "base_uri": "https://localhost:8080/"
        },
        "id": "uzt7kp7jG0Fk",
        "outputId": "2545ee10-a6be-4c59-ef8f-cd0bb9e6f267"
      },
      "id": "uzt7kp7jG0Fk",
      "execution_count": 62,
      "outputs": [
        {
          "output_type": "execute_result",
          "data": {
            "text/plain": [
              "1"
            ]
          },
          "metadata": {},
          "execution_count": 62
        }
      ]
    },
    {
      "cell_type": "code",
      "source": [
        "structure_ddf['VAL_METHOD'].unique().compute() # See what else can be put in this column besides 'Automatic' and 'Unverified'"
      ],
      "metadata": {
        "id": "OJzPhg_NLU8V"
      },
      "id": "OJzPhg_NLU8V",
      "execution_count": null,
      "outputs": []
    },
    {
      "cell_type": "code",
      "source": [
        "structure_ddf['SOURCE'] == 'NOAA' # Find only NOAA Imagery data"
      ],
      "metadata": {
        "id": "h0wv_4uFLdgf"
      },
      "id": "h0wv_4uFLdgf",
      "execution_count": null,
      "outputs": []
    },
    {
      "cell_type": "markdown",
      "source": [
        "#### Partition 40 - Note: we already ran .compute() on this so you will not see that repeated!"
      ],
      "metadata": {
        "id": "ZR_ZU4cOErAg"
      },
      "id": "ZR_ZU4cOErAg"
    },
    {
      "cell_type": "code",
      "source": [
        "plt.hist(partition40.SQFEET, edgecolor='black')\n",
        "plt.xlabel('Area (in ft^2)')\n",
        "plt.ylabel('Frequency')\n",
        "plt.title('area_in_square_feet for sampled American Samoa Buildings')\n",
        "plt.show()"
      ],
      "metadata": {
        "id": "kaoYTp3qEvLc"
      },
      "id": "kaoYTp3qEvLc",
      "execution_count": null,
      "outputs": []
    },
    {
      "cell_type": "code",
      "source": [
        "# Number of Structures\n",
        "p40_totalStructures = partition40.shape[0]\n",
        "p40_totalStructures"
      ],
      "metadata": {
        "id": "laYSE70VGX81"
      },
      "id": "laYSE70VGX81",
      "execution_count": null,
      "outputs": []
    },
    {
      "cell_type": "code",
      "source": [
        "# Average Structure Size\n",
        "p40_avgSize = partition40['SQFEET'].mean()\n",
        "p40_avgSize"
      ],
      "metadata": {
        "id": "-u8Gx1h-Gh7m"
      },
      "id": "-u8Gx1h-Gh7m",
      "execution_count": null,
      "outputs": []
    },
    {
      "cell_type": "code",
      "source": [
        "# Unique Number of Census Blocks\n",
        "p40_uniqueBlocks = partition40['CENSUSCODE'].nunique()\n",
        "p40_uniqueBlocks"
      ],
      "metadata": {
        "id": "u6fe3iByG3mf"
      },
      "id": "u6fe3iByG3mf",
      "execution_count": null,
      "outputs": []
    },
    {
      "cell_type": "markdown",
      "id": "43b024ea-6201-4272-a700-559a56fae1fd",
      "metadata": {
        "id": "43b024ea-6201-4272-a700-559a56fae1fd"
      },
      "source": [
        "## Future Implementation\n",
        "\n",
        "- Utilize selenium python package and create a function that can go onto Worcester website and download the shapefile\n",
        "\n",
        "Selenium can auto-scroll, click buttons, etc. for web-scraping purposes.\n",
        "- Provide plotting examples (was hesitant to attempt since I can't compute anything)\n",
        "- Census Data (section started below)"
      ]
    },
    {
      "cell_type": "markdown",
      "source": [
        "## Census Data"
      ],
      "metadata": {
        "id": "9JalZgWToC6E"
      },
      "id": "9JalZgWToC6E"
    },
    {
      "cell_type": "markdown",
      "source": [
        "Notice the original structure_ddf dataframe has a census block column, 'CENSUSCODE'. This can be used when drawing comparisons. You can also utilize the FIPS as well. Federal Information Processing System (FIPS) Codes for States and Counties. These unique geographic identifiers can allow analyses at the several levels (i.e., countrywide, state, county).\n",
        "\n",
        "Understanding Census Codes: https://www.census.gov/programs-surveys/geography/guidance/geo-identifiers.html"
      ],
      "metadata": {
        "id": "zfK9DM66E6cJ"
      },
      "id": "zfK9DM66E6cJ"
    },
    {
      "cell_type": "code",
      "source": [
        "# Download Process:\n",
        "\n",
        "#### Create a function to download country wide census data (depending on the size. Maybe just do cities/Massachusetts and just provide a link)"
      ],
      "metadata": {
        "id": "sq0aBHuRoDjI"
      },
      "id": "sq0aBHuRoDjI",
      "execution_count": 54,
      "outputs": []
    },
    {
      "cell_type": "markdown",
      "source": [
        "##### Possible Analyses:\n",
        "Review Census data within Worcester. Grab the shapefiles for two of the census blocks. spatial filter & intersection with the dataset again.\n",
        "\n",
        "Then review and draw relationships from the data"
      ],
      "metadata": {
        "id": "-UUbdjD_oRnQ"
      },
      "id": "-UUbdjD_oRnQ"
    }
  ],
  "metadata": {
    "kernelspec": {
      "display_name": "Python 3 (ipykernel)",
      "language": "python",
      "name": "python3"
    },
    "language_info": {
      "codemirror_mode": {
        "name": "ipython",
        "version": 3
      },
      "file_extension": ".py",
      "mimetype": "text/x-python",
      "name": "python",
      "nbconvert_exporter": "python",
      "pygments_lexer": "ipython3",
      "version": "3.12.8"
    },
    "colab": {
      "provenance": []
    }
  },
  "nbformat": 4,
  "nbformat_minor": 5
}