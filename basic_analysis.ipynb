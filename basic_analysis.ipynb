{
 "cells": [
  {
   "cell_type": "markdown",
   "id": "2a7b68a5-220b-4d72-aca5-983a3aa753b3",
   "metadata": {},
   "source": [
    "# OVERVIEW"
   ]
  },
  {
   "cell_type": "code",
   "execution_count": null,
   "id": "89ef99ed-bb72-423b-a578-452c8be6f57a",
   "metadata": {},
   "outputs": [],
   "source": []
  },
  {
   "cell_type": "code",
   "execution_count": null,
   "id": "2fd7bfa0-4d24-4f78-af33-97acf889d3d8",
   "metadata": {},
   "outputs": [],
   "source": []
  },
  {
   "cell_type": "code",
   "execution_count": null,
   "id": "a016592a-c291-482b-a400-e8148c1e64b4",
   "metadata": {},
   "outputs": [],
   "source": []
  },
  {
   "cell_type": "code",
   "execution_count": null,
   "id": "bd5c951c-9d15-46ae-816a-8bae625c0619",
   "metadata": {},
   "outputs": [],
   "source": []
  },
  {
   "cell_type": "markdown",
   "id": "8ddfc205-a6b6-409b-8782-eacb54706613",
   "metadata": {},
   "source": [
    "## Setting up Libraries, S3 client, and Dask Dashboard"
   ]
  },
  {
   "cell_type": "code",
   "execution_count": 1,
   "id": "227094c6-524f-495a-ac9c-39b58e2e0e12",
   "metadata": {},
   "outputs": [],
   "source": [
    "import matplotlib.pyplot as plt\n",
    "import numpy as np\n",
    "import dask_geopandas as dg\n",
    "import utils as ut"
   ]
  },
  {
   "cell_type": "markdown",
   "id": "cdf37d16-171b-41a5-bd98-5b4667d0f4fb",
   "metadata": {},
   "source": [
    "### ATTENTION:\n",
    "User must follow below instructions and replace the AWS access key and secret access key. This is crucial for the analysis to work.\n",
    "\n",
    "##### Utilizing data from: https://source.coop/repositories/wherobots/usa-structures/description\n",
    "\n",
    "All data on Source Cooperative, are hosted on AWS S3 bucket. In order to access them, you need credentials that you can generate on Source Cooperative website. Atfer logging in, click on your name at the top right corner, and then click on your username. Then navigate to \"Manage\" page on the left side. At the bottom of this page you will find a section called \"API Keys\". If no key has been generated before, generate a new one and then copy the values for each of the following keys, and paste them in the following cell.\n",
    "\n",
    "source.coop website: https://source.coop/\n",
    "\n",
    "###### Source: https://github.com/github.com/HamedAlemo/vector-data-tutorial/scalable_vector_analysis.ipynb"
   ]
  },
  {
   "cell_type": "code",
   "execution_count": null,
   "id": "7ab1349c-b5c6-4535-aaf6-b59305157d62",
   "metadata": {},
   "outputs": [],
   "source": [
    "##################################\n",
    "#   Read Above 'ATTENTION' Note  #\n",
    "##################################\n",
    "\n",
    "AWS_ACCESS_KEY_ID = \"<YOUR ACCESS KEY>\"\n",
    "AWS_SECRET_ACCESS_KEY = \"<YOUR SECRET ACCESS KEY>\""
   ]
  },
  {
   "cell_type": "code",
   "execution_count": 3,
   "id": "499c7078-c992-4729-bcfd-a52375556369",
   "metadata": {},
   "outputs": [],
   "source": [
    "import boto3\n",
    "s3_client = boto3.client('s3',\n",
    "                         aws_access_key_id = AWS_ACCESS_KEY_ID, \n",
    "                         aws_secret_access_key = AWS_SECRET_ACCESS_KEY,\n",
    "                         endpoint_url='https://data.source.coop'\n",
    "                        )"
   ]
  },
  {
   "cell_type": "code",
   "execution_count": 4,
   "id": "43a1a228-be07-4a9e-b90f-0edb2a26d4a9",
   "metadata": {},
   "outputs": [
    {
     "name": "stdout",
     "output_type": "stream",
     "text": [
      "http://127.0.0.1:8787/status\n"
     ]
    }
   ],
   "source": [
    "from dask.distributed import Client, LocalCluster\n",
    "cluster = LocalCluster()\n",
    "client = Client(cluster)\n",
    "print(client.dashboard_link)"
   ]
  },
  {
   "cell_type": "markdown",
   "id": "50f04db7-57b3-4b37-bbe2-2d6dbd207160",
   "metadata": {},
   "source": [
    "##### Local path for downloading the data\n",
    "\n",
    "If running the analysis file within the 'saved'//mounted folder and do NOT wish to save the raw data to your computer - delete the\n",
    "first local_path and uncomment (remove initial #) on the second one. NOTE: you will have to re-install each time you load this image up if you do that."
   ]
  },
  {
   "cell_type": "code",
   "execution_count": 5,
   "id": "a64648eb-97b5-4b0c-a2b1-6eac13db9b0d",
   "metadata": {},
   "outputs": [],
   "source": [
    "local_path = \"./data/\"    # saves data to machine\n",
    "# local_path = '/home/gisuser/data/'   # deletes data after closing the container"
   ]
  },
  {
   "cell_type": "markdown",
   "id": "e99d25b6-245d-4247-ad0e-a77a6fdc6b92",
   "metadata": {},
   "source": [
    "## US Structures Data (Installing all of it)"
   ]
  },
  {
   "cell_type": "markdown",
   "id": "d023db5f-909e-404c-8800-06e4fcaa328c",
   "metadata": {},
   "source": [
    "Change the blocksize value if your computer is stronger. This currently sets each block to 16 Megabytes. More details can be found here (ctrl + f 'blocksize'): https://coderzcolumn.com/tutorials/python/dask-dataframes-guide-to-work-with-large-tabular-datasets\n",
    "\n",
    "Install time will vary. As of 12/9/2024, the dataset is 10 geoparquets each equating to ~2 Gigabytes. This took ~40 minutes to install on my personal machine: ~ 3 Yr Old Laptop, Windows 11, 16 Gb RAM (Docker is limited to 12 Gb), Intel(R) Core(TM) i7-10750H CPU @ 2.60GHz, 2592 Mhz, 6 Core(s), 12 Logical Processor(s)"
   ]
  },
  {
   "cell_type": "code",
   "execution_count": 30,
   "id": "96dfbcc5-c128-4d37-9ff5-75d24774af1c",
   "metadata": {},
   "outputs": [
    {
     "name": "stdout",
     "output_type": "stream",
     "text": [
      "File already exists locally. No download needed.\n",
      "File already exists locally. No download needed.\n",
      "File already exists locally. No download needed.\n",
      "File already exists locally. No download needed.\n",
      "File already exists locally. No download needed.\n",
      "File already exists locally. No download needed.\n",
      "File already exists locally. No download needed.\n",
      "File already exists locally. No download needed.\n",
      "File already exists locally. No download needed.\n",
      "File already exists locally. No download needed.\n"
     ]
    }
   ],
   "source": [
    "structure_ddf = ut.get_US_structures_all(s3_client, local_path, blocksize = \"16M\") # \"256M\" is regular block size"
   ]
  },
  {
   "cell_type": "code",
   "execution_count": 7,
   "id": "665433e6-630c-4151-a96d-a05c37a4fd76",
   "metadata": {},
   "outputs": [
    {
     "data": {
      "text/html": [
       "<div>\n",
       "<style scoped>\n",
       "    .dataframe tbody tr th:only-of-type {\n",
       "        vertical-align: middle;\n",
       "    }\n",
       "\n",
       "    .dataframe tbody tr th {\n",
       "        vertical-align: top;\n",
       "    }\n",
       "\n",
       "    .dataframe thead th {\n",
       "        text-align: right;\n",
       "    }\n",
       "</style>\n",
       "<table border=\"1\" class=\"dataframe\">\n",
       "  <thead>\n",
       "    <tr style=\"text-align: right;\">\n",
       "      <th></th>\n",
       "      <th>geometry</th>\n",
       "      <th>BUILD_ID</th>\n",
       "      <th>OCC_CLS</th>\n",
       "      <th>PRIM_OCC</th>\n",
       "      <th>SEC_OCC</th>\n",
       "      <th>PROP_ADDR</th>\n",
       "      <th>PROP_CITY</th>\n",
       "      <th>PROP_ST</th>\n",
       "      <th>PROP_ZIP</th>\n",
       "      <th>OUTBLDG</th>\n",
       "      <th>...</th>\n",
       "      <th>USNG</th>\n",
       "      <th>LONGITUDE</th>\n",
       "      <th>LATITUDE</th>\n",
       "      <th>IMAGE_NAME</th>\n",
       "      <th>IMAGE_DATE</th>\n",
       "      <th>VAL_METHOD</th>\n",
       "      <th>REMARKS</th>\n",
       "      <th>UUID</th>\n",
       "      <th>bbox</th>\n",
       "      <th>geohash</th>\n",
       "    </tr>\n",
       "  </thead>\n",
       "  <tbody>\n",
       "    <tr>\n",
       "      <th>0</th>\n",
       "      <td>MULTIPOLYGON (((-170.8292 -14.32645, -170.8292...</td>\n",
       "      <td>12059</td>\n",
       "      <td>Unclassified</td>\n",
       "      <td>Unclassified</td>\n",
       "      <td>None</td>\n",
       "      <td>None</td>\n",
       "      <td>None</td>\n",
       "      <td>American Samoa</td>\n",
       "      <td>None</td>\n",
       "      <td>None</td>\n",
       "      <td>...</td>\n",
       "      <td>02L NK 18412 16164</td>\n",
       "      <td>-170.829258</td>\n",
       "      <td>-14.326434</td>\n",
       "      <td>104001005B4C3F00</td>\n",
       "      <td>2020-05-14</td>\n",
       "      <td>Automated</td>\n",
       "      <td>None</td>\n",
       "      <td>{245aca01-8d02-4340-810e-3872ee35e7ef}</td>\n",
       "      <td>{'xmin': -170.82931163799998, 'ymin': -14.3264...</td>\n",
       "      <td>2jqw2xvymz0vch1</td>\n",
       "    </tr>\n",
       "    <tr>\n",
       "      <th>1</th>\n",
       "      <td>MULTIPOLYGON (((-170.82798 -14.32867, -170.827...</td>\n",
       "      <td>29894</td>\n",
       "      <td>Unclassified</td>\n",
       "      <td>Unclassified</td>\n",
       "      <td>None</td>\n",
       "      <td>None</td>\n",
       "      <td>None</td>\n",
       "      <td>American Samoa</td>\n",
       "      <td>None</td>\n",
       "      <td>None</td>\n",
       "      <td>...</td>\n",
       "      <td>02L NK 18540 15909</td>\n",
       "      <td>-170.828069</td>\n",
       "      <td>-14.328742</td>\n",
       "      <td>NOAA Topographic LiDAR</td>\n",
       "      <td>2013-01-01</td>\n",
       "      <td>Unverified</td>\n",
       "      <td>None</td>\n",
       "      <td>{a46fac03-1829-47a2-b63f-86d4e52700a8}</td>\n",
       "      <td>{'xmin': -170.82815531799997, 'ymin': -14.3288...</td>\n",
       "      <td>2jqw2xwc12zkvd0</td>\n",
       "    </tr>\n",
       "    <tr>\n",
       "      <th>2</th>\n",
       "      <td>MULTIPOLYGON (((-170.82786 -14.3283, -170.8278...</td>\n",
       "      <td>29886</td>\n",
       "      <td>Unclassified</td>\n",
       "      <td>Unclassified</td>\n",
       "      <td>None</td>\n",
       "      <td>None</td>\n",
       "      <td>None</td>\n",
       "      <td>American Samoa</td>\n",
       "      <td>None</td>\n",
       "      <td>None</td>\n",
       "      <td>...</td>\n",
       "      <td>02L NK 18569 15948</td>\n",
       "      <td>-170.827797</td>\n",
       "      <td>-14.328382</td>\n",
       "      <td>NOAA Topographic LiDAR</td>\n",
       "      <td>2013-01-01</td>\n",
       "      <td>Unverified</td>\n",
       "      <td>None</td>\n",
       "      <td>{4c8bb4a4-86e1-4cb2-908c-a367e7dfa525}</td>\n",
       "      <td>{'xmin': -170.82790860099996, 'ymin': -14.3284...</td>\n",
       "      <td>2jqw2xwgpg8y3ej</td>\n",
       "    </tr>\n",
       "  </tbody>\n",
       "</table>\n",
       "<p>3 rows × 29 columns</p>\n",
       "</div>"
      ],
      "text/plain": [
       "                                            geometry  BUILD_ID       OCC_CLS  \\\n",
       "0  MULTIPOLYGON (((-170.8292 -14.32645, -170.8292...     12059  Unclassified   \n",
       "1  MULTIPOLYGON (((-170.82798 -14.32867, -170.827...     29894  Unclassified   \n",
       "2  MULTIPOLYGON (((-170.82786 -14.3283, -170.8278...     29886  Unclassified   \n",
       "\n",
       "       PRIM_OCC SEC_OCC PROP_ADDR PROP_CITY         PROP_ST PROP_ZIP OUTBLDG  \\\n",
       "0  Unclassified    None      None      None  American Samoa     None    None   \n",
       "1  Unclassified    None      None      None  American Samoa     None    None   \n",
       "2  Unclassified    None      None      None  American Samoa     None    None   \n",
       "\n",
       "   ...                USNG   LONGITUDE   LATITUDE              IMAGE_NAME  \\\n",
       "0  ...  02L NK 18412 16164 -170.829258 -14.326434        104001005B4C3F00   \n",
       "1  ...  02L NK 18540 15909 -170.828069 -14.328742  NOAA Topographic LiDAR   \n",
       "2  ...  02L NK 18569 15948 -170.827797 -14.328382  NOAA Topographic LiDAR   \n",
       "\n",
       "   IMAGE_DATE  VAL_METHOD REMARKS                                    UUID  \\\n",
       "0  2020-05-14   Automated    None  {245aca01-8d02-4340-810e-3872ee35e7ef}   \n",
       "1  2013-01-01  Unverified    None  {a46fac03-1829-47a2-b63f-86d4e52700a8}   \n",
       "2  2013-01-01  Unverified    None  {4c8bb4a4-86e1-4cb2-908c-a367e7dfa525}   \n",
       "\n",
       "                                                bbox          geohash  \n",
       "0  {'xmin': -170.82931163799998, 'ymin': -14.3264...  2jqw2xvymz0vch1  \n",
       "1  {'xmin': -170.82815531799997, 'ymin': -14.3288...  2jqw2xwc12zkvd0  \n",
       "2  {'xmin': -170.82790860099996, 'ymin': -14.3284...  2jqw2xwgpg8y3ej  \n",
       "\n",
       "[3 rows x 29 columns]"
      ]
     },
     "execution_count": 7,
     "metadata": {},
     "output_type": "execute_result"
    }
   ],
   "source": [
    "structure_ddf.head(3)"
   ]
  },
  {
   "cell_type": "code",
   "execution_count": 8,
   "id": "6ce25adc-a727-423d-9f80-d7d0d2648230",
   "metadata": {},
   "outputs": [
    {
     "data": {
      "text/html": [
       "<div>\n",
       "<style scoped>\n",
       "    .dataframe tbody tr th:only-of-type {\n",
       "        vertical-align: middle;\n",
       "    }\n",
       "\n",
       "    .dataframe tbody tr th {\n",
       "        vertical-align: top;\n",
       "    }\n",
       "\n",
       "    .dataframe thead th {\n",
       "        text-align: right;\n",
       "    }\n",
       "</style>\n",
       "<table border=\"1\" class=\"dataframe\">\n",
       "  <thead>\n",
       "    <tr style=\"text-align: right;\">\n",
       "      <th></th>\n",
       "      <th>geometry</th>\n",
       "      <th>BUILD_ID</th>\n",
       "      <th>OCC_CLS</th>\n",
       "      <th>PRIM_OCC</th>\n",
       "      <th>SEC_OCC</th>\n",
       "      <th>PROP_ADDR</th>\n",
       "      <th>PROP_CITY</th>\n",
       "      <th>PROP_ST</th>\n",
       "      <th>PROP_ZIP</th>\n",
       "      <th>OUTBLDG</th>\n",
       "      <th>...</th>\n",
       "      <th>USNG</th>\n",
       "      <th>LONGITUDE</th>\n",
       "      <th>LATITUDE</th>\n",
       "      <th>IMAGE_NAME</th>\n",
       "      <th>IMAGE_DATE</th>\n",
       "      <th>VAL_METHOD</th>\n",
       "      <th>REMARKS</th>\n",
       "      <th>UUID</th>\n",
       "      <th>bbox</th>\n",
       "      <th>geohash</th>\n",
       "    </tr>\n",
       "  </thead>\n",
       "  <tbody>\n",
       "    <tr>\n",
       "      <th>539725</th>\n",
       "      <td>MULTIPOLYGON (((174.09103 52.7369, 174.09113 5...</td>\n",
       "      <td>8000048</td>\n",
       "      <td>Government</td>\n",
       "      <td>Non-Civilian Structures</td>\n",
       "      <td>None</td>\n",
       "      <td>None</td>\n",
       "      <td>None</td>\n",
       "      <td>Alaska</td>\n",
       "      <td>None</td>\n",
       "      <td>None</td>\n",
       "      <td>...</td>\n",
       "      <td>60U UD 03622 46972</td>\n",
       "      <td>174.091134</td>\n",
       "      <td>52.736898</td>\n",
       "      <td>NOT AVAILABLE</td>\n",
       "      <td>2018-07-03</td>\n",
       "      <td>Manual</td>\n",
       "      <td>None</td>\n",
       "      <td>{17e345d8-b90d-439d-ad89-7984758ca934}</td>\n",
       "      <td>{'xmin': 174.09102922500006, 'ymin': 52.736834...</td>\n",
       "      <td>zc7u183q9w2fn6e</td>\n",
       "    </tr>\n",
       "    <tr>\n",
       "      <th>539726</th>\n",
       "      <td>MULTIPOLYGON (((174.09056 52.73711, 174.09132 ...</td>\n",
       "      <td>8000047</td>\n",
       "      <td>Government</td>\n",
       "      <td>Non-Civilian Structures</td>\n",
       "      <td>None</td>\n",
       "      <td>None</td>\n",
       "      <td>None</td>\n",
       "      <td>Alaska</td>\n",
       "      <td>None</td>\n",
       "      <td>None</td>\n",
       "      <td>...</td>\n",
       "      <td>60U UD 03627 47013</td>\n",
       "      <td>174.091178</td>\n",
       "      <td>52.737275</td>\n",
       "      <td>NOT AVAILABLE</td>\n",
       "      <td>2018-07-03</td>\n",
       "      <td>Manual</td>\n",
       "      <td>None</td>\n",
       "      <td>{a74622e4-0bc2-4809-9479-e77c6d24abc4}</td>\n",
       "      <td>{'xmin': 174.09055533200012, 'ymin': 52.736969...</td>\n",
       "      <td>zc7u1892ghk2u76</td>\n",
       "    </tr>\n",
       "    <tr>\n",
       "      <th>539727</th>\n",
       "      <td>MULTIPOLYGON (((174.10244 52.73433, 174.10273 ...</td>\n",
       "      <td>8000036</td>\n",
       "      <td>Government</td>\n",
       "      <td>Non-Civilian Structures</td>\n",
       "      <td>None</td>\n",
       "      <td>None</td>\n",
       "      <td>None</td>\n",
       "      <td>Alaska</td>\n",
       "      <td>None</td>\n",
       "      <td>None</td>\n",
       "      <td>...</td>\n",
       "      <td>60U UD 04389 46663</td>\n",
       "      <td>174.102666</td>\n",
       "      <td>52.734406</td>\n",
       "      <td>NOT AVAILABLE</td>\n",
       "      <td>2018-07-03</td>\n",
       "      <td>Manual</td>\n",
       "      <td>None</td>\n",
       "      <td>{17e6eb27-63de-41f4-823b-fa4ff6f4851d}</td>\n",
       "      <td>{'xmin': 174.10243806300002, 'ymin': 52.734255...</td>\n",
       "      <td>zc7u1b18nn6e3h5</td>\n",
       "    </tr>\n",
       "  </tbody>\n",
       "</table>\n",
       "<p>3 rows × 29 columns</p>\n",
       "</div>"
      ],
      "text/plain": [
       "                                                 geometry  BUILD_ID  \\\n",
       "539725  MULTIPOLYGON (((174.09103 52.7369, 174.09113 5...   8000048   \n",
       "539726  MULTIPOLYGON (((174.09056 52.73711, 174.09132 ...   8000047   \n",
       "539727  MULTIPOLYGON (((174.10244 52.73433, 174.10273 ...   8000036   \n",
       "\n",
       "           OCC_CLS                 PRIM_OCC SEC_OCC PROP_ADDR PROP_CITY  \\\n",
       "539725  Government  Non-Civilian Structures    None      None      None   \n",
       "539726  Government  Non-Civilian Structures    None      None      None   \n",
       "539727  Government  Non-Civilian Structures    None      None      None   \n",
       "\n",
       "       PROP_ST PROP_ZIP OUTBLDG  ...                USNG   LONGITUDE  \\\n",
       "539725  Alaska     None    None  ...  60U UD 03622 46972  174.091134   \n",
       "539726  Alaska     None    None  ...  60U UD 03627 47013  174.091178   \n",
       "539727  Alaska     None    None  ...  60U UD 04389 46663  174.102666   \n",
       "\n",
       "         LATITUDE     IMAGE_NAME  IMAGE_DATE VAL_METHOD REMARKS  \\\n",
       "539725  52.736898  NOT AVAILABLE  2018-07-03     Manual    None   \n",
       "539726  52.737275  NOT AVAILABLE  2018-07-03     Manual    None   \n",
       "539727  52.734406  NOT AVAILABLE  2018-07-03     Manual    None   \n",
       "\n",
       "                                          UUID  \\\n",
       "539725  {17e345d8-b90d-439d-ad89-7984758ca934}   \n",
       "539726  {a74622e4-0bc2-4809-9479-e77c6d24abc4}   \n",
       "539727  {17e6eb27-63de-41f4-823b-fa4ff6f4851d}   \n",
       "\n",
       "                                                     bbox          geohash  \n",
       "539725  {'xmin': 174.09102922500006, 'ymin': 52.736834...  zc7u183q9w2fn6e  \n",
       "539726  {'xmin': 174.09055533200012, 'ymin': 52.736969...  zc7u1892ghk2u76  \n",
       "539727  {'xmin': 174.10243806300002, 'ymin': 52.734255...  zc7u1b18nn6e3h5  \n",
       "\n",
       "[3 rows x 29 columns]"
      ]
     },
     "execution_count": 8,
     "metadata": {},
     "output_type": "execute_result"
    }
   ],
   "source": [
    "structure_ddf.tail(3)"
   ]
  },
  {
   "cell_type": "markdown",
   "id": "b0df8b3c-087e-4439-996f-84832fbe916d",
   "metadata": {},
   "source": [
    "##### Notice some columns aren't showing, lets see what they are:"
   ]
  },
  {
   "cell_type": "code",
   "execution_count": 9,
   "id": "ab8f559f-9d56-4e40-a5dd-af93841b8486",
   "metadata": {},
   "outputs": [
    {
     "data": {
      "text/html": [
       "<div>\n",
       "<style scoped>\n",
       "    .dataframe tbody tr th:only-of-type {\n",
       "        vertical-align: middle;\n",
       "    }\n",
       "\n",
       "    .dataframe tbody tr th {\n",
       "        vertical-align: top;\n",
       "    }\n",
       "\n",
       "    .dataframe thead th {\n",
       "        text-align: right;\n",
       "    }\n",
       "</style>\n",
       "<table border=\"1\" class=\"dataframe\">\n",
       "  <thead>\n",
       "    <tr style=\"text-align: right;\">\n",
       "      <th></th>\n",
       "      <th>geometry</th>\n",
       "      <th>BUILD_ID</th>\n",
       "      <th>OCC_CLS</th>\n",
       "      <th>PRIM_OCC</th>\n",
       "      <th>SEC_OCC</th>\n",
       "      <th>PROP_ADDR</th>\n",
       "      <th>PROP_CITY</th>\n",
       "      <th>PROP_ST</th>\n",
       "      <th>PROP_ZIP</th>\n",
       "      <th>OUTBLDG</th>\n",
       "      <th>HEIGHT</th>\n",
       "      <th>SQMETERS</th>\n",
       "      <th>SQFEET</th>\n",
       "      <th>H_ADJ_ELEV</th>\n",
       "      <th>L_ADJ_ELEV</th>\n",
       "      <th>FIPS</th>\n",
       "      <th>CENSUSCODE</th>\n",
       "      <th>PROD_DATE</th>\n",
       "      <th>SOURCE</th>\n",
       "      <th>USNG</th>\n",
       "    </tr>\n",
       "  </thead>\n",
       "  <tbody>\n",
       "    <tr>\n",
       "      <th>0</th>\n",
       "      <td>MULTIPOLYGON (((-170.8292 -14.32645, -170.8292...</td>\n",
       "      <td>12059</td>\n",
       "      <td>Unclassified</td>\n",
       "      <td>Unclassified</td>\n",
       "      <td>None</td>\n",
       "      <td>None</td>\n",
       "      <td>None</td>\n",
       "      <td>American Samoa</td>\n",
       "      <td>None</td>\n",
       "      <td>None</td>\n",
       "      <td>0.0</td>\n",
       "      <td>59.507576</td>\n",
       "      <td>640.533569</td>\n",
       "      <td>NaN</td>\n",
       "      <td>NaN</td>\n",
       "      <td>60050</td>\n",
       "      <td>60050951600</td>\n",
       "      <td>2021-04-09</td>\n",
       "      <td>ORNL</td>\n",
       "      <td>02L NK 18412 16164</td>\n",
       "    </tr>\n",
       "    <tr>\n",
       "      <th>1</th>\n",
       "      <td>MULTIPOLYGON (((-170.82798 -14.32867, -170.827...</td>\n",
       "      <td>29894</td>\n",
       "      <td>Unclassified</td>\n",
       "      <td>Unclassified</td>\n",
       "      <td>None</td>\n",
       "      <td>None</td>\n",
       "      <td>None</td>\n",
       "      <td>American Samoa</td>\n",
       "      <td>None</td>\n",
       "      <td>None</td>\n",
       "      <td>0.0</td>\n",
       "      <td>286.000580</td>\n",
       "      <td>3078.481689</td>\n",
       "      <td>NaN</td>\n",
       "      <td>NaN</td>\n",
       "      <td>60050</td>\n",
       "      <td>60050951600</td>\n",
       "      <td>2013-01-01</td>\n",
       "      <td>NOAA</td>\n",
       "      <td>02L NK 18540 15909</td>\n",
       "    </tr>\n",
       "    <tr>\n",
       "      <th>2</th>\n",
       "      <td>MULTIPOLYGON (((-170.82786 -14.3283, -170.8278...</td>\n",
       "      <td>29886</td>\n",
       "      <td>Unclassified</td>\n",
       "      <td>Unclassified</td>\n",
       "      <td>None</td>\n",
       "      <td>None</td>\n",
       "      <td>None</td>\n",
       "      <td>American Samoa</td>\n",
       "      <td>None</td>\n",
       "      <td>None</td>\n",
       "      <td>0.0</td>\n",
       "      <td>204.001236</td>\n",
       "      <td>2195.848877</td>\n",
       "      <td>NaN</td>\n",
       "      <td>NaN</td>\n",
       "      <td>60050</td>\n",
       "      <td>60050951600</td>\n",
       "      <td>2013-01-01</td>\n",
       "      <td>NOAA</td>\n",
       "      <td>02L NK 18569 15948</td>\n",
       "    </tr>\n",
       "    <tr>\n",
       "      <th>3</th>\n",
       "      <td>MULTIPOLYGON (((-170.82747 -14.32844, -170.827...</td>\n",
       "      <td>29879</td>\n",
       "      <td>Unclassified</td>\n",
       "      <td>Unclassified</td>\n",
       "      <td>None</td>\n",
       "      <td>None</td>\n",
       "      <td>None</td>\n",
       "      <td>American Samoa</td>\n",
       "      <td>None</td>\n",
       "      <td>None</td>\n",
       "      <td>0.0</td>\n",
       "      <td>285.999725</td>\n",
       "      <td>3078.472412</td>\n",
       "      <td>NaN</td>\n",
       "      <td>NaN</td>\n",
       "      <td>60050</td>\n",
       "      <td>60050951600</td>\n",
       "      <td>2013-01-01</td>\n",
       "      <td>NOAA</td>\n",
       "      <td>02L NK 18594 15936</td>\n",
       "    </tr>\n",
       "    <tr>\n",
       "      <th>4</th>\n",
       "      <td>MULTIPOLYGON (((-170.82714 -14.32846, -170.827...</td>\n",
       "      <td>29885</td>\n",
       "      <td>Unclassified</td>\n",
       "      <td>Unclassified</td>\n",
       "      <td>None</td>\n",
       "      <td>None</td>\n",
       "      <td>None</td>\n",
       "      <td>American Samoa</td>\n",
       "      <td>None</td>\n",
       "      <td>None</td>\n",
       "      <td>0.0</td>\n",
       "      <td>83.999542</td>\n",
       "      <td>904.162659</td>\n",
       "      <td>NaN</td>\n",
       "      <td>NaN</td>\n",
       "      <td>60050</td>\n",
       "      <td>60050951600</td>\n",
       "      <td>2013-01-01</td>\n",
       "      <td>NOAA</td>\n",
       "      <td>02L NK 18636 15935</td>\n",
       "    </tr>\n",
       "  </tbody>\n",
       "</table>\n",
       "</div>"
      ],
      "text/plain": [
       "                                            geometry  BUILD_ID       OCC_CLS  \\\n",
       "0  MULTIPOLYGON (((-170.8292 -14.32645, -170.8292...     12059  Unclassified   \n",
       "1  MULTIPOLYGON (((-170.82798 -14.32867, -170.827...     29894  Unclassified   \n",
       "2  MULTIPOLYGON (((-170.82786 -14.3283, -170.8278...     29886  Unclassified   \n",
       "3  MULTIPOLYGON (((-170.82747 -14.32844, -170.827...     29879  Unclassified   \n",
       "4  MULTIPOLYGON (((-170.82714 -14.32846, -170.827...     29885  Unclassified   \n",
       "\n",
       "       PRIM_OCC SEC_OCC PROP_ADDR PROP_CITY         PROP_ST PROP_ZIP OUTBLDG  \\\n",
       "0  Unclassified    None      None      None  American Samoa     None    None   \n",
       "1  Unclassified    None      None      None  American Samoa     None    None   \n",
       "2  Unclassified    None      None      None  American Samoa     None    None   \n",
       "3  Unclassified    None      None      None  American Samoa     None    None   \n",
       "4  Unclassified    None      None      None  American Samoa     None    None   \n",
       "\n",
       "   HEIGHT    SQMETERS       SQFEET  H_ADJ_ELEV  L_ADJ_ELEV   FIPS  \\\n",
       "0     0.0   59.507576   640.533569         NaN         NaN  60050   \n",
       "1     0.0  286.000580  3078.481689         NaN         NaN  60050   \n",
       "2     0.0  204.001236  2195.848877         NaN         NaN  60050   \n",
       "3     0.0  285.999725  3078.472412         NaN         NaN  60050   \n",
       "4     0.0   83.999542   904.162659         NaN         NaN  60050   \n",
       "\n",
       "    CENSUSCODE  PROD_DATE SOURCE                USNG  \n",
       "0  60050951600 2021-04-09   ORNL  02L NK 18412 16164  \n",
       "1  60050951600 2013-01-01   NOAA  02L NK 18540 15909  \n",
       "2  60050951600 2013-01-01   NOAA  02L NK 18569 15948  \n",
       "3  60050951600 2013-01-01   NOAA  02L NK 18594 15936  \n",
       "4  60050951600 2013-01-01   NOAA  02L NK 18636 15935  "
      ]
     },
     "execution_count": 9,
     "metadata": {},
     "output_type": "execute_result"
    }
   ],
   "source": [
    "view_middle_columns = structure_ddf.columns[:20]\n",
    "structure_ddf[view_middle_columns].head(5)"
   ]
  },
  {
   "cell_type": "markdown",
   "id": "65bcb50c-1888-430e-ad88-4fc015310e85",
   "metadata": {},
   "source": [
    "##### We can also further investigate the impacts of blocksize:"
   ]
  },
  {
   "cell_type": "code",
   "execution_count": 10,
   "id": "886f611d-9d3f-4f7e-999f-0c6527fbc4fa",
   "metadata": {},
   "outputs": [
    {
     "data": {
      "text/html": [
       "<div>\n",
       "<style scoped>\n",
       "    .dataframe tbody tr th:only-of-type {\n",
       "        vertical-align: middle;\n",
       "    }\n",
       "\n",
       "    .dataframe tbody tr th {\n",
       "        vertical-align: top;\n",
       "    }\n",
       "\n",
       "    .dataframe thead th {\n",
       "        text-align: right;\n",
       "    }\n",
       "</style>\n",
       "<table border=\"1\" class=\"dataframe\">\n",
       "  <thead>\n",
       "    <tr style=\"text-align: right;\">\n",
       "      <th></th>\n",
       "      <th>geometry</th>\n",
       "      <th>BUILD_ID</th>\n",
       "      <th>OCC_CLS</th>\n",
       "      <th>PRIM_OCC</th>\n",
       "      <th>SEC_OCC</th>\n",
       "      <th>PROP_ADDR</th>\n",
       "      <th>PROP_CITY</th>\n",
       "      <th>PROP_ST</th>\n",
       "      <th>PROP_ZIP</th>\n",
       "      <th>OUTBLDG</th>\n",
       "      <th>...</th>\n",
       "      <th>USNG</th>\n",
       "      <th>LONGITUDE</th>\n",
       "      <th>LATITUDE</th>\n",
       "      <th>IMAGE_NAME</th>\n",
       "      <th>IMAGE_DATE</th>\n",
       "      <th>VAL_METHOD</th>\n",
       "      <th>REMARKS</th>\n",
       "      <th>UUID</th>\n",
       "      <th>bbox</th>\n",
       "      <th>geohash</th>\n",
       "    </tr>\n",
       "  </thead>\n",
       "  <tbody>\n",
       "    <tr>\n",
       "      <th>0</th>\n",
       "      <td>MULTIPOLYGON (((-111.71603 40.37411, -111.7161...</td>\n",
       "      <td>6356322</td>\n",
       "      <td>Residential</td>\n",
       "      <td>Single Family Dwelling</td>\n",
       "      <td>None</td>\n",
       "      <td>1000 NORTH 1050 EAST</td>\n",
       "      <td>PLEASANT GROVE</td>\n",
       "      <td>Utah</td>\n",
       "      <td>84062</td>\n",
       "      <td>None</td>\n",
       "      <td>...</td>\n",
       "      <td>12T VK 39208 69537</td>\n",
       "      <td>-111.716103</td>\n",
       "      <td>40.374204</td>\n",
       "      <td>105001001D0AA300</td>\n",
       "      <td>2020-05-04</td>\n",
       "      <td>Automated</td>\n",
       "      <td>None</td>\n",
       "      <td>{94234441-bcf3-4b26-b88b-54b488b7e794}</td>\n",
       "      <td>{'xmin': -111.71617885399996, 'ymin': 40.37411...</td>\n",
       "      <td>9x0t9vfuf15vqc3</td>\n",
       "    </tr>\n",
       "    <tr>\n",
       "      <th>1</th>\n",
       "      <td>MULTIPOLYGON (((-111.7162 40.37468, -111.71619...</td>\n",
       "      <td>6356424</td>\n",
       "      <td>Residential</td>\n",
       "      <td>Single Family Dwelling</td>\n",
       "      <td>None</td>\n",
       "      <td>1053 EAST 1010 NORTH</td>\n",
       "      <td>PLEASANT GROVE</td>\n",
       "      <td>Utah</td>\n",
       "      <td>84062</td>\n",
       "      <td>None</td>\n",
       "      <td>...</td>\n",
       "      <td>12T VK 39188 69584</td>\n",
       "      <td>-111.716341</td>\n",
       "      <td>40.374622</td>\n",
       "      <td>105001001D0AA300</td>\n",
       "      <td>2020-05-04</td>\n",
       "      <td>Automated</td>\n",
       "      <td>None</td>\n",
       "      <td>{ba007b62-1bbe-4538-9d94-ee5a347a3041}</td>\n",
       "      <td>{'xmin': -111.71650439999996, 'ymin': 40.37456...</td>\n",
       "      <td>9x0t9vfxhrj4g6r</td>\n",
       "    </tr>\n",
       "    <tr>\n",
       "      <th>2</th>\n",
       "      <td>MULTIPOLYGON (((-111.71587 40.37469, -111.7158...</td>\n",
       "      <td>6356420</td>\n",
       "      <td>Residential</td>\n",
       "      <td>Single Family Dwelling</td>\n",
       "      <td>None</td>\n",
       "      <td>1061 EAST 1010 NORTH</td>\n",
       "      <td>PLEASANT GROVE</td>\n",
       "      <td>Utah</td>\n",
       "      <td>84062</td>\n",
       "      <td>None</td>\n",
       "      <td>...</td>\n",
       "      <td>12T VK 39218 69584</td>\n",
       "      <td>-111.715985</td>\n",
       "      <td>40.374631</td>\n",
       "      <td>105001001D0AA300</td>\n",
       "      <td>2020-05-04</td>\n",
       "      <td>Automated</td>\n",
       "      <td>None</td>\n",
       "      <td>{4ccca22c-7705-4892-8da4-e00cb91d7f80}</td>\n",
       "      <td>{'xmin': -111.71610170499997, 'ymin': 40.37457...</td>\n",
       "      <td>9x0t9vfzkbsn56z</td>\n",
       "    </tr>\n",
       "    <tr>\n",
       "      <th>3</th>\n",
       "      <td>MULTIPOLYGON (((-111.71567 40.37345, -111.7156...</td>\n",
       "      <td>6356164</td>\n",
       "      <td>Residential</td>\n",
       "      <td>Single Family Dwelling</td>\n",
       "      <td>None</td>\n",
       "      <td>933 NORTH 1100 EAST</td>\n",
       "      <td>PLEASANT GROVE</td>\n",
       "      <td>Utah</td>\n",
       "      <td>84062</td>\n",
       "      <td>None</td>\n",
       "      <td>...</td>\n",
       "      <td>12T VK 39249 69468</td>\n",
       "      <td>-111.715610</td>\n",
       "      <td>40.373586</td>\n",
       "      <td>105001001D0AA300</td>\n",
       "      <td>2020-05-04</td>\n",
       "      <td>Automated</td>\n",
       "      <td>None</td>\n",
       "      <td>{76039646-81e2-4a9d-a77a-70512feb8bac}</td>\n",
       "      <td>{'xmin': -111.71566964299996, 'ymin': 40.37345...</td>\n",
       "      <td>9x0t9vg1jwgyz1x</td>\n",
       "    </tr>\n",
       "    <tr>\n",
       "      <th>4</th>\n",
       "      <td>MULTIPOLYGON (((-111.71552 40.37399, -111.7155...</td>\n",
       "      <td>6356225</td>\n",
       "      <td>Residential</td>\n",
       "      <td>Single Family Dwelling</td>\n",
       "      <td>None</td>\n",
       "      <td>967 NORTH 1100 EAST</td>\n",
       "      <td>PLEASANT GROVE</td>\n",
       "      <td>Utah</td>\n",
       "      <td>84062</td>\n",
       "      <td>None</td>\n",
       "      <td>...</td>\n",
       "      <td>12T VK 39251 69504</td>\n",
       "      <td>-111.715594</td>\n",
       "      <td>40.373907</td>\n",
       "      <td>105001001D0AA300</td>\n",
       "      <td>2020-05-04</td>\n",
       "      <td>Automated</td>\n",
       "      <td>None</td>\n",
       "      <td>{e06859b7-dd6e-42d3-8f92-dcae99305093}</td>\n",
       "      <td>{'xmin': -111.71568185699999, 'ymin': 40.37381...</td>\n",
       "      <td>9x0t9vg5jbccvg3</td>\n",
       "    </tr>\n",
       "  </tbody>\n",
       "</table>\n",
       "<p>5 rows × 29 columns</p>\n",
       "</div>"
      ],
      "text/plain": [
       "                                            geometry  BUILD_ID      OCC_CLS  \\\n",
       "0  MULTIPOLYGON (((-111.71603 40.37411, -111.7161...   6356322  Residential   \n",
       "1  MULTIPOLYGON (((-111.7162 40.37468, -111.71619...   6356424  Residential   \n",
       "2  MULTIPOLYGON (((-111.71587 40.37469, -111.7158...   6356420  Residential   \n",
       "3  MULTIPOLYGON (((-111.71567 40.37345, -111.7156...   6356164  Residential   \n",
       "4  MULTIPOLYGON (((-111.71552 40.37399, -111.7155...   6356225  Residential   \n",
       "\n",
       "                 PRIM_OCC SEC_OCC             PROP_ADDR       PROP_CITY  \\\n",
       "0  Single Family Dwelling    None  1000 NORTH 1050 EAST  PLEASANT GROVE   \n",
       "1  Single Family Dwelling    None  1053 EAST 1010 NORTH  PLEASANT GROVE   \n",
       "2  Single Family Dwelling    None  1061 EAST 1010 NORTH  PLEASANT GROVE   \n",
       "3  Single Family Dwelling    None   933 NORTH 1100 EAST  PLEASANT GROVE   \n",
       "4  Single Family Dwelling    None   967 NORTH 1100 EAST  PLEASANT GROVE   \n",
       "\n",
       "  PROP_ST PROP_ZIP OUTBLDG  ...                USNG   LONGITUDE   LATITUDE  \\\n",
       "0    Utah    84062    None  ...  12T VK 39208 69537 -111.716103  40.374204   \n",
       "1    Utah    84062    None  ...  12T VK 39188 69584 -111.716341  40.374622   \n",
       "2    Utah    84062    None  ...  12T VK 39218 69584 -111.715985  40.374631   \n",
       "3    Utah    84062    None  ...  12T VK 39249 69468 -111.715610  40.373586   \n",
       "4    Utah    84062    None  ...  12T VK 39251 69504 -111.715594  40.373907   \n",
       "\n",
       "         IMAGE_NAME  IMAGE_DATE VAL_METHOD REMARKS  \\\n",
       "0  105001001D0AA300  2020-05-04  Automated    None   \n",
       "1  105001001D0AA300  2020-05-04  Automated    None   \n",
       "2  105001001D0AA300  2020-05-04  Automated    None   \n",
       "3  105001001D0AA300  2020-05-04  Automated    None   \n",
       "4  105001001D0AA300  2020-05-04  Automated    None   \n",
       "\n",
       "                                     UUID  \\\n",
       "0  {94234441-bcf3-4b26-b88b-54b488b7e794}   \n",
       "1  {ba007b62-1bbe-4538-9d94-ee5a347a3041}   \n",
       "2  {4ccca22c-7705-4892-8da4-e00cb91d7f80}   \n",
       "3  {76039646-81e2-4a9d-a77a-70512feb8bac}   \n",
       "4  {e06859b7-dd6e-42d3-8f92-dcae99305093}   \n",
       "\n",
       "                                                bbox          geohash  \n",
       "0  {'xmin': -111.71617885399996, 'ymin': 40.37411...  9x0t9vfuf15vqc3  \n",
       "1  {'xmin': -111.71650439999996, 'ymin': 40.37456...  9x0t9vfxhrj4g6r  \n",
       "2  {'xmin': -111.71610170499997, 'ymin': 40.37457...  9x0t9vfzkbsn56z  \n",
       "3  {'xmin': -111.71566964299996, 'ymin': 40.37345...  9x0t9vg1jwgyz1x  \n",
       "4  {'xmin': -111.71568185699999, 'ymin': 40.37381...  9x0t9vg5jbccvg3  \n",
       "\n",
       "[5 rows x 29 columns]"
      ]
     },
     "execution_count": 10,
     "metadata": {},
     "output_type": "execute_result"
    }
   ],
   "source": [
    "partition40 = structure_ddf.partitions[40].compute()\n",
    "partition40.head(5)"
   ]
  },
  {
   "cell_type": "code",
   "execution_count": 11,
   "id": "b5844de0-a678-4c46-ba76-cad4ff3635fa",
   "metadata": {},
   "outputs": [
    {
     "data": {
      "text/plain": [
       "(873670, 29)"
      ]
     },
     "execution_count": 11,
     "metadata": {},
     "output_type": "execute_result"
    }
   ],
   "source": [
    "partition40.shape"
   ]
  },
  {
   "cell_type": "markdown",
   "id": "61eaf317-5fe0-4e8d-8c1d-03a0840d2e8e",
   "metadata": {},
   "source": [
    "Each partition has 16mb of data, roughly 873,670 rows. This will vary based on the blocksize chosen when calling the ut.get_US_structures_all() function."
   ]
  },
  {
   "cell_type": "markdown",
   "id": "2ea9c6a1-4f2e-40e4-87e9-2b4697fecdbe",
   "metadata": {},
   "source": [
    "## Census Data"
   ]
  },
  {
   "cell_type": "code",
   "execution_count": null,
   "id": "9adff1ae-c575-4b33-81bd-de20b0f9b992",
   "metadata": {},
   "outputs": [],
   "source": [
    "### Download"
   ]
  },
  {
   "cell_type": "code",
   "execution_count": null,
   "id": "51fafb9a-91af-4fd2-baa8-7c5547e1d8e8",
   "metadata": {},
   "outputs": [],
   "source": [
    "UPDATE, dataframe has a census block column. Review it! Use that! Save time!!!"
   ]
  },
  {
   "cell_type": "code",
   "execution_count": null,
   "id": "ee78f5ff-8424-4427-aa37-18f39c0ffaa6",
   "metadata": {},
   "outputs": [],
   "source": [
    "# THIS CAN BE NEXT-STEPS // FURTHER FUTURE ANALYSIS. It does not need to be completed 100%\n",
    "Review Census data within Worcester. Grab the shapefiles for two of the census blocks. spatial filter & intersection with the dataset again.\n",
    "\n",
    "Then review and draw relationships from the data"
   ]
  },
  {
   "cell_type": "markdown",
   "id": "11440c8c-8557-4bf7-b5c9-38c9f6c208e0",
   "metadata": {},
   "source": [
    "##### Also, create a function to download country wide census data (depending on the size. Maybe just do cities/Massachusetts and just provide a link)"
   ]
  },
  {
   "cell_type": "code",
   "execution_count": 1,
   "id": "1616a30b-a507-47e9-8970-7ef2e2a47941",
   "metadata": {},
   "outputs": [],
   "source": [
    "### Understanding it (comparing GeoId)"
   ]
  },
  {
   "cell_type": "code",
   "execution_count": null,
   "id": "04ce7de7-9304-4bb8-86e6-6411e3d44185",
   "metadata": {},
   "outputs": [],
   "source": [
    "This should download census data that focuses on census block statistics. Less focus on plotting abilities (which would then require another census data set to compare those to the actually details"
   ]
  },
  {
   "cell_type": "markdown",
   "id": "575b0668-1e7e-46d5-8611-7d5111e3f39d",
   "metadata": {},
   "source": [
    "## Data Checks (for spatial joins)"
   ]
  },
  {
   "cell_type": "markdown",
   "id": "d568f7f6-2073-4bfc-bff8-eaf853b04f6d",
   "metadata": {},
   "source": [
    "#### If you go on to review another state. You may need to re-project the CRS. The following is a good site for visually seeing what the EPSG covers\n",
    "https://spatialreference.org/ref/epsg/2249/"
   ]
  },
  {
   "cell_type": "markdown",
   "id": "af156ba8-997e-44be-8635-c20d3fef7ca1",
   "metadata": {},
   "source": [
    "##### Coordinate Reference System (CRS)\n",
    "When calculating areas, plotting, performing spatial joins, etc. you will want to set the CRS for your data. This dataframe already has a square footage column, so we do not need to do this, but I will give an example.\n",
    "\n",
    "The .head() of this dataframe is American Samoa structures. We will create a new filtered dataframe with only American Samoa structures. Re-project the CRS. Then calculate the areas based on the geometry of each structure. This will be compared to the datasets SQFEET column to understand how picking the right CRS matters.\n",
    "\n",
    "First, we will check to see if we need to project to a CRS for the first time, or re-project the current one. To check if the data has a CRS, the following code will suffice."
   ]
  },
  {
   "cell_type": "code",
   "execution_count": 12,
   "id": "ee760479-bf0d-406b-a475-30f54c24d581",
   "metadata": {},
   "outputs": [
    {
     "data": {
      "text/plain": [
       "<Geographic 2D CRS: EPSG:4326>\n",
       "Name: WGS 84\n",
       "Axis Info [ellipsoidal]:\n",
       "- Lat[north]: Geodetic latitude (degree)\n",
       "- Lon[east]: Geodetic longitude (degree)\n",
       "Area of Use:\n",
       "- name: World.\n",
       "- bounds: (-180.0, -90.0, 180.0, 90.0)\n",
       "Datum: World Geodetic System 1984 ensemble\n",
       "- Ellipsoid: WGS 84\n",
       "- Prime Meridian: Greenwich"
      ]
     },
     "execution_count": 12,
     "metadata": {},
     "output_type": "execute_result"
    }
   ],
   "source": [
    "structure_ddf.crs"
   ]
  },
  {
   "cell_type": "markdown",
   "id": "a26c3411-dd89-4308-b93d-2fe937917a75",
   "metadata": {},
   "source": [
    "We will have to re-project for an appropraite EPSG for our area of interest. The entire dataset is in: 4326. \n",
    "\n",
    "A possible EPSG for American Samoa is 3102\n",
    "https://epsg.io/3102"
   ]
  },
  {
   "cell_type": "code",
   "execution_count": 26,
   "id": "591c2882-f048-415d-baa5-e4f0ed690440",
   "metadata": {},
   "outputs": [],
   "source": [
    "american_samoa_ddf = structure_ddf.head(5)"
   ]
  },
  {
   "cell_type": "code",
   "execution_count": 27,
   "id": "a1e8f5b5-02b3-4fd2-bcdc-22527b2e6ce0",
   "metadata": {},
   "outputs": [],
   "source": [
    "american_samoa_ddf = american_samoa_ddf.to_crs(epsg=3102)"
   ]
  },
  {
   "cell_type": "code",
   "execution_count": 28,
   "id": "4641d73f-9496-4148-b0f9-bff1ae3aff3f",
   "metadata": {},
   "outputs": [],
   "source": [
    "american_samoa_ddf['structure_size'] = american_samoa_ddf.geometry.area"
   ]
  },
  {
   "cell_type": "markdown",
   "id": "3aa2a1db-63f5-4cb4-89f2-389c2e82ee1d",
   "metadata": {},
   "source": [
    "##### Compare with the data's 'SQFEET' column to see if these are similar values"
   ]
  },
  {
   "cell_type": "code",
   "execution_count": 29,
   "id": "5deb764c-d06c-4d8a-a315-50e79d2d2f22",
   "metadata": {},
   "outputs": [
    {
     "data": {
      "text/html": [
       "<div>\n",
       "<style scoped>\n",
       "    .dataframe tbody tr th:only-of-type {\n",
       "        vertical-align: middle;\n",
       "    }\n",
       "\n",
       "    .dataframe tbody tr th {\n",
       "        vertical-align: top;\n",
       "    }\n",
       "\n",
       "    .dataframe thead th {\n",
       "        text-align: right;\n",
       "    }\n",
       "</style>\n",
       "<table border=\"1\" class=\"dataframe\">\n",
       "  <thead>\n",
       "    <tr style=\"text-align: right;\">\n",
       "      <th></th>\n",
       "      <th>HEIGHT</th>\n",
       "      <th>SQMETERS</th>\n",
       "      <th>SQFEET</th>\n",
       "      <th>H_ADJ_ELEV</th>\n",
       "      <th>L_ADJ_ELEV</th>\n",
       "      <th>FIPS</th>\n",
       "      <th>CENSUSCODE</th>\n",
       "      <th>PROD_DATE</th>\n",
       "      <th>SOURCE</th>\n",
       "      <th>USNG</th>\n",
       "      <th>LONGITUDE</th>\n",
       "      <th>LATITUDE</th>\n",
       "      <th>IMAGE_NAME</th>\n",
       "      <th>IMAGE_DATE</th>\n",
       "      <th>VAL_METHOD</th>\n",
       "      <th>REMARKS</th>\n",
       "      <th>UUID</th>\n",
       "      <th>bbox</th>\n",
       "      <th>geohash</th>\n",
       "      <th>structure_size</th>\n",
       "    </tr>\n",
       "  </thead>\n",
       "  <tbody>\n",
       "    <tr>\n",
       "      <th>0</th>\n",
       "      <td>0.0</td>\n",
       "      <td>59.507576</td>\n",
       "      <td>640.533569</td>\n",
       "      <td>NaN</td>\n",
       "      <td>NaN</td>\n",
       "      <td>60050</td>\n",
       "      <td>60050951600</td>\n",
       "      <td>2021-04-09</td>\n",
       "      <td>ORNL</td>\n",
       "      <td>02L NK 18412 16164</td>\n",
       "      <td>-170.829258</td>\n",
       "      <td>-14.326434</td>\n",
       "      <td>104001005B4C3F00</td>\n",
       "      <td>2020-05-14</td>\n",
       "      <td>Automated</td>\n",
       "      <td>None</td>\n",
       "      <td>{245aca01-8d02-4340-810e-3872ee35e7ef}</td>\n",
       "      <td>{'xmin': -170.82931163799998, 'ymin': -14.3264...</td>\n",
       "      <td>2jqw2xvymz0vch1</td>\n",
       "      <td>791.786561</td>\n",
       "    </tr>\n",
       "    <tr>\n",
       "      <th>1</th>\n",
       "      <td>0.0</td>\n",
       "      <td>286.000580</td>\n",
       "      <td>3078.481689</td>\n",
       "      <td>NaN</td>\n",
       "      <td>NaN</td>\n",
       "      <td>60050</td>\n",
       "      <td>60050951600</td>\n",
       "      <td>2013-01-01</td>\n",
       "      <td>NOAA</td>\n",
       "      <td>02L NK 18540 15909</td>\n",
       "      <td>-170.828069</td>\n",
       "      <td>-14.328742</td>\n",
       "      <td>NOAA Topographic LiDAR</td>\n",
       "      <td>2013-01-01</td>\n",
       "      <td>Unverified</td>\n",
       "      <td>None</td>\n",
       "      <td>{a46fac03-1829-47a2-b63f-86d4e52700a8}</td>\n",
       "      <td>{'xmin': -170.82815531799997, 'ymin': -14.3288...</td>\n",
       "      <td>2jqw2xwc12zkvd0</td>\n",
       "      <td>3080.954507</td>\n",
       "    </tr>\n",
       "    <tr>\n",
       "      <th>2</th>\n",
       "      <td>0.0</td>\n",
       "      <td>204.001236</td>\n",
       "      <td>2195.848877</td>\n",
       "      <td>NaN</td>\n",
       "      <td>NaN</td>\n",
       "      <td>60050</td>\n",
       "      <td>60050951600</td>\n",
       "      <td>2013-01-01</td>\n",
       "      <td>NOAA</td>\n",
       "      <td>02L NK 18569 15948</td>\n",
       "      <td>-170.827797</td>\n",
       "      <td>-14.328382</td>\n",
       "      <td>NOAA Topographic LiDAR</td>\n",
       "      <td>2013-01-01</td>\n",
       "      <td>Unverified</td>\n",
       "      <td>None</td>\n",
       "      <td>{4c8bb4a4-86e1-4cb2-908c-a367e7dfa525}</td>\n",
       "      <td>{'xmin': -170.82790860099996, 'ymin': -14.3284...</td>\n",
       "      <td>2jqw2xwgpg8y3ej</td>\n",
       "      <td>2197.612614</td>\n",
       "    </tr>\n",
       "    <tr>\n",
       "      <th>3</th>\n",
       "      <td>0.0</td>\n",
       "      <td>285.999725</td>\n",
       "      <td>3078.472412</td>\n",
       "      <td>NaN</td>\n",
       "      <td>NaN</td>\n",
       "      <td>60050</td>\n",
       "      <td>60050951600</td>\n",
       "      <td>2013-01-01</td>\n",
       "      <td>NOAA</td>\n",
       "      <td>02L NK 18594 15936</td>\n",
       "      <td>-170.827566</td>\n",
       "      <td>-14.328497</td>\n",
       "      <td>NOAA Topographic LiDAR</td>\n",
       "      <td>2013-01-01</td>\n",
       "      <td>Unverified</td>\n",
       "      <td>None</td>\n",
       "      <td>{22106c1f-562e-4468-a496-32d407fd8b4f}</td>\n",
       "      <td>{'xmin': -170.82767668499997, 'ymin': -14.3286...</td>\n",
       "      <td>2jqw2xx4mn23x0c</td>\n",
       "      <td>3080.945218</td>\n",
       "    </tr>\n",
       "    <tr>\n",
       "      <th>4</th>\n",
       "      <td>0.0</td>\n",
       "      <td>83.999542</td>\n",
       "      <td>904.162659</td>\n",
       "      <td>NaN</td>\n",
       "      <td>NaN</td>\n",
       "      <td>60050</td>\n",
       "      <td>60050951600</td>\n",
       "      <td>2013-01-01</td>\n",
       "      <td>NOAA</td>\n",
       "      <td>02L NK 18636 15935</td>\n",
       "      <td>-170.827176</td>\n",
       "      <td>-14.328503</td>\n",
       "      <td>NOAA Topographic LiDAR</td>\n",
       "      <td>2013-01-01</td>\n",
       "      <td>Unverified</td>\n",
       "      <td>None</td>\n",
       "      <td>{bc01e591-8516-49bf-b66e-dd21667de2f7}</td>\n",
       "      <td>{'xmin': -170.82721784799998, 'ymin': -14.3285...</td>\n",
       "      <td>2jqw2xx6qm2znys</td>\n",
       "      <td>904.888883</td>\n",
       "    </tr>\n",
       "  </tbody>\n",
       "</table>\n",
       "</div>"
      ],
      "text/plain": [
       "   HEIGHT    SQMETERS       SQFEET  H_ADJ_ELEV  L_ADJ_ELEV   FIPS  \\\n",
       "0     0.0   59.507576   640.533569         NaN         NaN  60050   \n",
       "1     0.0  286.000580  3078.481689         NaN         NaN  60050   \n",
       "2     0.0  204.001236  2195.848877         NaN         NaN  60050   \n",
       "3     0.0  285.999725  3078.472412         NaN         NaN  60050   \n",
       "4     0.0   83.999542   904.162659         NaN         NaN  60050   \n",
       "\n",
       "    CENSUSCODE  PROD_DATE SOURCE                USNG   LONGITUDE   LATITUDE  \\\n",
       "0  60050951600 2021-04-09   ORNL  02L NK 18412 16164 -170.829258 -14.326434   \n",
       "1  60050951600 2013-01-01   NOAA  02L NK 18540 15909 -170.828069 -14.328742   \n",
       "2  60050951600 2013-01-01   NOAA  02L NK 18569 15948 -170.827797 -14.328382   \n",
       "3  60050951600 2013-01-01   NOAA  02L NK 18594 15936 -170.827566 -14.328497   \n",
       "4  60050951600 2013-01-01   NOAA  02L NK 18636 15935 -170.827176 -14.328503   \n",
       "\n",
       "               IMAGE_NAME IMAGE_DATE  VAL_METHOD REMARKS  \\\n",
       "0        104001005B4C3F00 2020-05-14   Automated    None   \n",
       "1  NOAA Topographic LiDAR 2013-01-01  Unverified    None   \n",
       "2  NOAA Topographic LiDAR 2013-01-01  Unverified    None   \n",
       "3  NOAA Topographic LiDAR 2013-01-01  Unverified    None   \n",
       "4  NOAA Topographic LiDAR 2013-01-01  Unverified    None   \n",
       "\n",
       "                                     UUID  \\\n",
       "0  {245aca01-8d02-4340-810e-3872ee35e7ef}   \n",
       "1  {a46fac03-1829-47a2-b63f-86d4e52700a8}   \n",
       "2  {4c8bb4a4-86e1-4cb2-908c-a367e7dfa525}   \n",
       "3  {22106c1f-562e-4468-a496-32d407fd8b4f}   \n",
       "4  {bc01e591-8516-49bf-b66e-dd21667de2f7}   \n",
       "\n",
       "                                                bbox          geohash  \\\n",
       "0  {'xmin': -170.82931163799998, 'ymin': -14.3264...  2jqw2xvymz0vch1   \n",
       "1  {'xmin': -170.82815531799997, 'ymin': -14.3288...  2jqw2xwc12zkvd0   \n",
       "2  {'xmin': -170.82790860099996, 'ymin': -14.3284...  2jqw2xwgpg8y3ej   \n",
       "3  {'xmin': -170.82767668499997, 'ymin': -14.3286...  2jqw2xx4mn23x0c   \n",
       "4  {'xmin': -170.82721784799998, 'ymin': -14.3285...  2jqw2xx6qm2znys   \n",
       "\n",
       "   structure_size  \n",
       "0      791.786561  \n",
       "1     3080.954507  \n",
       "2     2197.612614  \n",
       "3     3080.945218  \n",
       "4      904.888883  "
      ]
     },
     "execution_count": 29,
     "metadata": {},
     "output_type": "execute_result"
    }
   ],
   "source": [
    "desired_columns = american_samoa_ddf.columns[10:30]\n",
    "american_samoa_ddf[desired_columns].head(5)"
   ]
  },
  {
   "cell_type": "markdown",
   "id": "6081ec16-cf80-4450-bf62-1517d836591c",
   "metadata": {},
   "source": [
    "Scrolling on the above dataframe to compare the 3rd column with the last column, you will notice some values are closer than others. CRS is important, and if we did this same CRS for Utah, we would see completely wrong results.\n",
    "\n",
    "Moving forward we will utilize the dataframes SQFEET column!"
   ]
  },
  {
   "cell_type": "markdown",
   "id": "ed24a3d2-698b-47c0-8c1e-2b6981021a6d",
   "metadata": {},
   "source": [
    "### Geometry\n",
    "Another feature of spatial data that is important is the geometry. The geometry is crucial for any joins or plotting. We detail this in the next section"
   ]
  },
  {
   "cell_type": "markdown",
   "id": "25a0699e-10c4-487c-b37a-a1686e8fec64",
   "metadata": {},
   "source": [
    "## Dataset Integrity"
   ]
  },
  {
   "cell_type": "markdown",
   "id": "3b387d20-8a11-4994-88dc-3fb9de4978f3",
   "metadata": {},
   "source": [
    "This section shows an example of questions you need to be asking each time you load in a dataset. It is important to verify work so you know the best way to analyze the dataset. Our dataset has columns that specify the state and/or city that a structure is in. However, these columns have blanks as not every structure is identified. For this reason, I want to investigate how many buildings don't get identified.\n",
    "\n",
    "I will use the city of worcester shapefile from the city government's website. Whenever downloading a shapefile, make sure you get all the other files that come with it: .shp, .cpg, .dbf, .prj, .shx, and .xml\n",
    "\n",
    "I'll compare the shapefile to 2 different dataframes:\n",
    "\n",
    "1. The first dataframe will be the entire dataset, no filtering based on columns.\n",
    "\n",
    "2. The second dataframe will make a dataframe of buildings/rows that are identified as Massachusetts. Then from that dataframe, I will grab a new one for buildings/rows that are identified as Worcester.\n",
    "\n",
    "\n",
    "Next, I will compute the number of rows for each spatial join with the Worcester Shapefile. A user can decide if one is 'better' than the other. You also have to consider computational power. If you only lose 100 out of 100,000 buildings, is it worth it to save computational power? I think yes, but it all depends on your analysis and abilities. You will not see the outputs from most '.compute()' lines of code, that is due to a weak computational power on my personal machine. Any computation should be ran with caution, especially those on the entire dataset. I will try to include warnings before each compute to remind the user.\n",
    "\n",
    "The Worcester Shapefile can be found here: https://opendata.worcesterma.gov/datasets/worcesterma::city-boundary-1/about"
   ]
  },
  {
   "cell_type": "markdown",
   "id": "4d83a94b-4593-4808-a18d-b4df684d6e45",
   "metadata": {},
   "source": [
    "Since we are analyzing Massachusetts (City: Worcester, Town: Norwood), and the shapefile we retreived from the City of Worcester was in 2249, we will use 2249.\n",
    "\n",
    "EPSG:2249 covers both Massachusetts counties we analyze (Worcester and Norfolk), this is in US Survey feet which means we don't need to worry about converting from meters to feet. "
   ]
  },
  {
   "cell_type": "code",
   "execution_count": 31,
   "id": "0704e21a-9199-43d6-a3d3-e537b35e54ba",
   "metadata": {},
   "outputs": [],
   "source": [
    "massachusetts_ddf = structure_ddf[structure_ddf['PROP_ST'] == 'Massachusetts'] # Filter for Massachusetts buildings\n",
    "massachusetts_ddf = massachusetts_ddf.to_crs(epsg=2249) # use a CRS that works for Worcester and Norwood\n",
    "worcester_PROP_CITY_ddf = massachusetts_ddf[massachusetts_ddf['PROP_CITY'] == 'Worcester'] # Filter for Worcester buildings"
   ]
  },
  {
   "cell_type": "code",
   "execution_count": 33,
   "id": "f2386fab-5ef2-4090-bcb0-02f30304de8f",
   "metadata": {},
   "outputs": [],
   "source": [
    "worcester_boundary = dg.read_file(f\"./data/Worcester/City_Boundary.shp\", chunksize = 75000) # chunksize specifies number of rows per chunk "
   ]
  },
  {
   "cell_type": "markdown",
   "id": "352bff0b-73ea-4608-95f4-4d3557c18bf5",
   "metadata": {},
   "source": [
    "##### If the above line of code gave you an error similar to:\n",
    "'ERROR 1: PROJ: proj_create_from_database: Open of /opt/conda/envs/us_structures_analysis/share/proj failed'\n",
    "\n",
    "Try re-running it"
   ]
  },
  {
   "cell_type": "code",
   "execution_count": 34,
   "id": "d2db3359-2b56-48b9-baad-5b69056247b7",
   "metadata": {},
   "outputs": [
    {
     "data": {
      "text/plain": [
       "<Projected CRS: EPSG:2249>\n",
       "Name: NAD83 / Massachusetts Mainland (ftUS)\n",
       "Axis Info [cartesian]:\n",
       "- X[east]: Easting (US survey foot)\n",
       "- Y[north]: Northing (US survey foot)\n",
       "Area of Use:\n",
       "- name: United States (USA) - Massachusetts onshore - counties of Barnstable; Berkshire; Bristol; Essex; Franklin; Hampden; Hampshire; Middlesex; Norfolk; Plymouth; Suffolk; Worcester.\n",
       "- bounds: (-73.5, 41.46, -69.86, 42.89)\n",
       "Coordinate Operation:\n",
       "- name: SPCS83 Massachusetts Mainland zone (US survey foot)\n",
       "- method: Lambert Conic Conformal (2SP)\n",
       "Datum: North American Datum 1983\n",
       "- Ellipsoid: GRS 1980\n",
       "- Prime Meridian: Greenwich"
      ]
     },
     "execution_count": 34,
     "metadata": {},
     "output_type": "execute_result"
    }
   ],
   "source": [
    "# confirm crs\n",
    "worcester_boundary.crs"
   ]
  },
  {
   "cell_type": "code",
   "execution_count": 36,
   "id": "326a58ea-d91b-4aa5-9cba-de88a78226be",
   "metadata": {},
   "outputs": [
    {
     "data": {
      "text/html": [
       "<div>\n",
       "<style scoped>\n",
       "    .dataframe tbody tr th:only-of-type {\n",
       "        vertical-align: middle;\n",
       "    }\n",
       "\n",
       "    .dataframe tbody tr th {\n",
       "        vertical-align: top;\n",
       "    }\n",
       "\n",
       "    .dataframe thead th {\n",
       "        text-align: right;\n",
       "    }\n",
       "</style>\n",
       "<table border=\"1\" class=\"dataframe\">\n",
       "  <thead>\n",
       "    <tr style=\"text-align: right;\">\n",
       "      <th></th>\n",
       "      <th>TOWN</th>\n",
       "      <th>TOWN_ID</th>\n",
       "      <th>TOWNS_ID</th>\n",
       "      <th>POP1980</th>\n",
       "      <th>POP1990</th>\n",
       "      <th>POP2000</th>\n",
       "      <th>POPCH80_90</th>\n",
       "      <th>POPCH90_00</th>\n",
       "      <th>TYPE</th>\n",
       "      <th>ISLAND</th>\n",
       "      <th>...</th>\n",
       "      <th>FIPS_PLACE</th>\n",
       "      <th>FIPS_MCD</th>\n",
       "      <th>FIPS_COUNT</th>\n",
       "      <th>ACRES</th>\n",
       "      <th>SQUARE_MIL</th>\n",
       "      <th>GlobalID</th>\n",
       "      <th>OBJECTID</th>\n",
       "      <th>Shape__Are</th>\n",
       "      <th>Shape__Len</th>\n",
       "      <th>geometry</th>\n",
       "    </tr>\n",
       "  </thead>\n",
       "  <tbody>\n",
       "    <tr>\n",
       "      <th>0</th>\n",
       "      <td>WORCESTER</td>\n",
       "      <td>348</td>\n",
       "      <td>261</td>\n",
       "      <td>159843</td>\n",
       "      <td>169759</td>\n",
       "      <td>172648</td>\n",
       "      <td>9916</td>\n",
       "      <td>2889</td>\n",
       "      <td>C</td>\n",
       "      <td>0</td>\n",
       "      <td>...</td>\n",
       "      <td>82000</td>\n",
       "      <td>25027030</td>\n",
       "      <td>27</td>\n",
       "      <td>24602.486</td>\n",
       "      <td>384.411</td>\n",
       "      <td>642fd55c-8273-4e35-993c-d5d0e1eaf706</td>\n",
       "      <td>1</td>\n",
       "      <td>1.071680e+09</td>\n",
       "      <td>139826.751833</td>\n",
       "      <td>POLYGON ((583605.513 2938565.252, 586219.333 2...</td>\n",
       "    </tr>\n",
       "  </tbody>\n",
       "</table>\n",
       "<p>1 rows × 24 columns</p>\n",
       "</div>"
      ],
      "text/plain": [
       "        TOWN  TOWN_ID  TOWNS_ID  POP1980  POP1990  POP2000  POPCH80_90  \\\n",
       "0  WORCESTER      348       261   159843   169759   172648        9916   \n",
       "\n",
       "   POPCH90_00 TYPE  ISLAND  ... FIPS_PLACE  FIPS_MCD  FIPS_COUNT      ACRES  \\\n",
       "0        2889    C       0  ...      82000  25027030          27  24602.486   \n",
       "\n",
       "  SQUARE_MIL                              GlobalID  OBJECTID    Shape__Are  \\\n",
       "0    384.411  642fd55c-8273-4e35-993c-d5d0e1eaf706         1  1.071680e+09   \n",
       "\n",
       "      Shape__Len                                           geometry  \n",
       "0  139826.751833  POLYGON ((583605.513 2938565.252, 586219.333 2...  \n",
       "\n",
       "[1 rows x 24 columns]"
      ]
     },
     "execution_count": 36,
     "metadata": {},
     "output_type": "execute_result"
    }
   ],
   "source": [
    "worcester_boundary.compute() # insight to the shapefile layout."
   ]
  },
  {
   "cell_type": "markdown",
   "id": "6e5d2d23-6e65-4eb2-8441-7e303c72cb45",
   "metadata": {},
   "source": [
    "As noted in the Data Checks section, we must check the geometry files are proper for the join.\n",
    "The structure_ddf.head(5) line and the above worcester_boundary.compute() will show how the geometry columns are named. The prints confirm they are\n",
    "the same."
   ]
  },
  {
   "cell_type": "code",
   "execution_count": 37,
   "id": "c1968d08-82a2-47d8-a1d0-7cb44121196f",
   "metadata": {},
   "outputs": [
    {
     "name": "stdout",
     "output_type": "stream",
     "text": [
      "geometry\n",
      "geometry\n"
     ]
    }
   ],
   "source": [
    "massachusetts_ddf = massachusetts_ddf.set_geometry('geometry')\n",
    "worcester_boundary = worcester_boundary.set_geometry('geometry')\n",
    "print(structure_ddf.geometry.name)\n",
    "print(worcester_boundary.geometry.name)"
   ]
  },
  {
   "cell_type": "markdown",
   "id": "e4e5f14a-6798-4e1c-872b-4e04be075f76",
   "metadata": {},
   "source": [
    "##### Computing Disclaimer\n",
    "Here we will count the number of rows that each spatial join gives. The .compute() statements will provide the answers. Run at your own risk (if dask workers 'die' you will likely have to shutdown the docker container and open a new one)"
   ]
  },
  {
   "cell_type": "markdown",
   "id": "2b13dbbc-44f9-4c80-9c48-0bd0f2acebeb",
   "metadata": {},
   "source": [
    "##### NOTE: To perform a spatial join, both dataframes must be in the same CRS. We will have to project the entire dataframe to EPSG:2249. If you wish to analyze other areas, you will have to change the CRS again. Keep this in mind!"
   ]
  },
  {
   "cell_type": "code",
   "execution_count": 39,
   "id": "eba6dbf6-593c-4e0d-9a50-cbdabbb0a670",
   "metadata": {},
   "outputs": [],
   "source": [
    "structure_ddf = structure_ddf.to_crs(epsg=2249)"
   ]
  },
  {
   "cell_type": "code",
   "execution_count": 40,
   "id": "51706f65-2d52-4aef-a3e6-37fe2b33d1b3",
   "metadata": {},
   "outputs": [],
   "source": [
    "worcester_entire_ddf = dg.sjoin(structure_ddf, worcester_boundary, how='inner', predicate='within') \n",
    "# within makes sure the whole structure_ddf row is inside the worcester_boundary\n",
    "# Understand this approach may mean some of the structure_ddf rows near the boundary won't be included if the shapefile is different by just a little.\n",
    "\n",
    "worcester_PROP_ddf = dg.sjoin(worcester_PROP_CITY_ddf, worcester_boundary, how='inner', predicate='within')"
   ]
  },
  {
   "cell_type": "code",
   "execution_count": null,
   "id": "b4a252c9-e270-4076-b0c0-09a958edc37f",
   "metadata": {},
   "outputs": [],
   "source": [
    "entire_df_worcester_rows = worcester_entire_ddf.count().compute()\n",
    "entire_df_worcester_rows"
   ]
  },
  {
   "cell_type": "code",
   "execution_count": null,
   "id": "03c1fd49-86c6-4e3c-b901-5f04f888b835",
   "metadata": {},
   "outputs": [],
   "source": [
    "filtered_by_columns_worcester_rows = worcester_PROP_ddf.count().compute()\n",
    "filtered_by_columns_worcester_rows"
   ]
  },
  {
   "cell_type": "markdown",
   "id": "b6bc0bac-3767-426d-8040-d30b3dc1aaff",
   "metadata": {},
   "source": [
    "## Town Example"
   ]
  },
  {
   "cell_type": "markdown",
   "id": "52907f3d-f9e6-4340-891b-43eda15274cf",
   "metadata": {},
   "source": [
    "The goal of adding a town example is that it will have less computation requirements than a city. I also show some potential plots that can be done. Note: my computer still could not handle this! Also, this is relying on filtering dataset by column names, but the zip codes seemed more filled in (PROP_ZIP) than state or city.\n",
    "\n",
    "User could also grab a shapefile for Norwood and use the original structure_ddf to spatial join with it. Remember: the structure_ddf has already been updated for the CRS, so you will not have to update again (unless picking a region that uses a new CRS)"
   ]
  },
  {
   "cell_type": "code",
   "execution_count": 41,
   "id": "e2d68592-c544-42f8-8597-f8183f424503",
   "metadata": {},
   "outputs": [],
   "source": [
    "norwood_ddf = massachusetts_ddf[massachusetts_ddf['PROP_ZIP'] == '02062']"
   ]
  },
  {
   "cell_type": "markdown",
   "id": "3b35c58b-620c-4c19-ba02-44653ee4969a",
   "metadata": {},
   "source": [
    "##### Find number of structures in Norwood that are part of dataset (Computing Disclaimer)"
   ]
  },
  {
   "cell_type": "code",
   "execution_count": null,
   "id": "173fe63b-0d46-4e7e-b690-ac291930dc37",
   "metadata": {},
   "outputs": [],
   "source": [
    "norwood_ddf.shape[0].compute()"
   ]
  },
  {
   "cell_type": "markdown",
   "id": "c7e010e2-6119-43df-8b15-9a98ced23d7a",
   "metadata": {},
   "source": [
    "##### Find the average structure size (Computing Disclaimer)"
   ]
  },
  {
   "cell_type": "code",
   "execution_count": null,
   "id": "3c275d9a-52a1-48f1-b133-2daa44f0afb1",
   "metadata": {},
   "outputs": [],
   "source": [
    "norwood_ddf['structure_size'].mean().compute()"
   ]
  },
  {
   "cell_type": "markdown",
   "id": "e1b9fc0e-7b49-45de-b089-eacc9e45e30e",
   "metadata": {},
   "source": [
    "##### Make a histogram of structure sizes (Computing Disclaimer)"
   ]
  },
  {
   "cell_type": "code",
   "execution_count": null,
   "id": "0d12e797-7a0f-491b-a9f3-e22dae5816fb",
   "metadata": {},
   "outputs": [],
   "source": [
    "norwood_structure_sorted = norwood_ddf.sort_values(by='structure_size', ascending=False).compute()\n",
    "\n",
    "# binLength = len(bldg_norwood_sorted) // 25\n",
    "plt.hist(norwood_structure_sorted['structure_size'], bins = 300, edgecolor='black')\n",
    "plt.xlabel('Area (in ft^2)')\n",
    "plt.ylabel('Frequency')\n",
    "plt.title('area_in_square_feet for Norwood Buildings')\n",
    "plt.show()"
   ]
  },
  {
   "cell_type": "markdown",
   "id": "43b024ea-6201-4272-a700-559a56fae1fd",
   "metadata": {},
   "source": [
    "## Future Implementation\n",
    "\n",
    "- Utilize selenium python package and create a function that can go onto Worcester website and download the shapefile\n",
    "- Provide plotting examples (was hesitant to attempt since I can't compute anything)"
   ]
  },
  {
   "cell_type": "code",
   "execution_count": null,
   "id": "cb9f2698-6a60-4a2e-9d66-ce229b3935dc",
   "metadata": {},
   "outputs": [],
   "source": []
  }
 ],
 "metadata": {
  "kernelspec": {
   "display_name": "Python 3 (ipykernel)",
   "language": "python",
   "name": "python3"
  },
  "language_info": {
   "codemirror_mode": {
    "name": "ipython",
    "version": 3
   },
   "file_extension": ".py",
   "mimetype": "text/x-python",
   "name": "python",
   "nbconvert_exporter": "python",
   "pygments_lexer": "ipython3",
   "version": "3.12.8"
  }
 },
 "nbformat": 4,
 "nbformat_minor": 5
}
