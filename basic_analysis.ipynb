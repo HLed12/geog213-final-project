{
 "cells": [
  {
   "cell_type": "code",
   "execution_count": 2,
   "id": "6ebd826e-ee04-4d69-9d53-944590bfd4c9",
   "metadata": {},
   "outputs": [],
   "source": [
    "import matplotlib.pyplot as plt\n",
    "import numpy as np\n",
    "import dask_geopandas as dg"
   ]
  },
  {
   "cell_type": "markdown",
   "id": "6d94024a-bada-483c-a102-1c89b327d699",
   "metadata": {},
   "source": [
    "# ATTENTION:\n",
    "User must follow below instructions and replace the AWS access key and secret access key. This is crucial for the analysis to work."
   ]
  },
  {
   "cell_type": "markdown",
   "id": "7332e0fe-0dc2-4495-90f3-1bc172006b40",
   "metadata": {},
   "source": [
    "##### Utilizing data from: https://source.coop/repositories/vida/google-microsoft-open-buildings/description"
   ]
  },
  {
   "cell_type": "markdown",
   "id": "a7b0bb02-eecc-47c2-9759-583f67c57341",
   "metadata": {},
   "source": [
    "All data on Source Cooperative, are hosted on AWS S3 bucket. In order to access them, you need credentials that you can generate on Source Cooperative website. Atfer logging in, click on your name at the top right corner, and then click on your username. Then navigate to \"Manage\" page on the left side. At the bottom of this page you will find a section called \"API Keys\". If no key has been generated before, generate a new one and then copy the values for each of the following keys, and paste them in the following cell.\n",
    "\n",
    "source.coop website: https://source.coop/\n",
    "\n",
    "###### Source: https://github.com/github.com/HamedAlemo/vector-data-tutorial/scalable_vector_analysis.ipynb"
   ]
  },
  {
   "cell_type": "code",
   "execution_count": 2,
   "id": "3c8836e8-2b18-4e9e-b27b-de29fde29f67",
   "metadata": {},
   "outputs": [],
   "source": [
    "AWS_ACCESS_KEY_ID = \"<YOUR ACCESS KEY>\"\n",
    "AWS_SECRET_ACCESS_KEY = \"<YOUR SECRET ACCESS KEY>\""
   ]
  },
  {
   "cell_type": "code",
   "execution_count": 3,
   "id": "a4ff4cad-0828-4441-ae6c-a97e642e141a",
   "metadata": {},
   "outputs": [],
   "source": [
    "import boto3\n",
    "s3_client = boto3.client('s3',\n",
    "                         aws_access_key_id = AWS_ACCESS_KEY_ID, \n",
    "                         aws_secret_access_key = AWS_SECRET_ACCESS_KEY,\n",
    "                         endpoint_url='https://data.source.coop'\n",
    "                        )"
   ]
  },
  {
   "cell_type": "code",
   "execution_count": 4,
   "id": "299f6bda-b00f-4ef0-8e4c-4477a3ccad88",
   "metadata": {},
   "outputs": [
    {
     "name": "stdout",
     "output_type": "stream",
     "text": [
      "http://127.0.0.1:8787/status\n"
     ]
    }
   ],
   "source": [
    "from dask.distributed import Client, LocalCluster\n",
    "cluster = LocalCluster()\n",
    "client = Client(cluster)\n",
    "print(client.dashboard_link)"
   ]
  },
  {
   "cell_type": "markdown",
   "id": "561e1f82-dd29-4a21-acff-a5033ba562af",
   "metadata": {},
   "source": [
    "Local path for downloading the data"
   ]
  },
  {
   "cell_type": "code",
   "execution_count": 5,
   "id": "892320b2-8e2c-499a-8a46-8d480727f016",
   "metadata": {},
   "outputs": [],
   "source": [
    "# If running from analysis file within the 'saved'//mounted folder and do NOT wish to save the raw data - delete the\n",
    "# first local_path and uncomment (remove #) on the second one\n",
    "local_path = \"./data/\"\n",
    "\n",
    "# local_path =\"/data/\""
   ]
  },
  {
   "cell_type": "code",
   "execution_count": 6,
   "id": "28b562dd-00c4-4859-af95-0134c7f68268",
   "metadata": {},
   "outputs": [],
   "source": [
    "country_code = \"HTI\" \n",
    "country_epsg = 32618\n",
    "\n",
    "# other countries and their epsg:  Ruwanda - RWA - 32736, Jamaica - JAM - 32618"
   ]
  },
  {
   "cell_type": "code",
   "execution_count": 7,
   "id": "202556a2-ad5c-4c69-b9e0-d025708a8b92",
   "metadata": {},
   "outputs": [],
   "source": [
    "import utils as ut"
   ]
  },
  {
   "cell_type": "code",
   "execution_count": 8,
   "id": "dd1ec936-ca68-4a2b-9beb-6ca04d76ad6d",
   "metadata": {},
   "outputs": [
    {
     "name": "stdout",
     "output_type": "stream",
     "text": [
      "File already exists locally. No download needed.\n"
     ]
    }
   ],
   "source": [
    "bldg_ddf = ut.get_google_microsoft_bldgs(country_code, s3_client, local_path, blocksize = \"16M\") #256M is regular"
   ]
  },
  {
   "cell_type": "code",
   "execution_count": 9,
   "id": "531b9a92-ff19-454b-9f67-109878c77d2e",
   "metadata": {},
   "outputs": [
    {
     "data": {
      "text/html": [
       "<div>\n",
       "<style scoped>\n",
       "    .dataframe tbody tr th:only-of-type {\n",
       "        vertical-align: middle;\n",
       "    }\n",
       "\n",
       "    .dataframe tbody tr th {\n",
       "        vertical-align: top;\n",
       "    }\n",
       "\n",
       "    .dataframe thead th {\n",
       "        text-align: right;\n",
       "    }\n",
       "</style>\n",
       "<table border=\"1\" class=\"dataframe\">\n",
       "  <thead>\n",
       "    <tr style=\"text-align: right;\">\n",
       "      <th></th>\n",
       "      <th>boundary_id</th>\n",
       "      <th>bf_source</th>\n",
       "      <th>confidence</th>\n",
       "      <th>area_in_meters</th>\n",
       "      <th>s2_id</th>\n",
       "      <th>country_iso</th>\n",
       "      <th>geohash</th>\n",
       "      <th>geometry</th>\n",
       "      <th>bbox</th>\n",
       "    </tr>\n",
       "  </thead>\n",
       "  <tbody>\n",
       "    <tr>\n",
       "      <th>0</th>\n",
       "      <td>46</td>\n",
       "      <td>google</td>\n",
       "      <td>0.8859</td>\n",
       "      <td>72.1027</td>\n",
       "      <td>-8358680908399640576</td>\n",
       "      <td>HTI</td>\n",
       "      <td>d7hyzef7</td>\n",
       "      <td>POLYGON ((-71.73728 18.08274, -71.7373 18.0828...</td>\n",
       "      <td>{'xmin': -71.737376442709, 'ymin': 18.08271951...</td>\n",
       "    </tr>\n",
       "    <tr>\n",
       "      <th>1</th>\n",
       "      <td>46</td>\n",
       "      <td>google</td>\n",
       "      <td>0.7450</td>\n",
       "      <td>15.3979</td>\n",
       "      <td>-8358680908399640576</td>\n",
       "      <td>HTI</td>\n",
       "      <td>d7hyzs16</td>\n",
       "      <td>POLYGON ((-71.73892 18.08389, -71.73891 18.083...</td>\n",
       "      <td>{'xmin': -71.7389615903488, 'ymin': 18.0838892...</td>\n",
       "    </tr>\n",
       "    <tr>\n",
       "      <th>2</th>\n",
       "      <td>46</td>\n",
       "      <td>google</td>\n",
       "      <td>0.6963</td>\n",
       "      <td>19.8751</td>\n",
       "      <td>-8358680908399640576</td>\n",
       "      <td>HTI</td>\n",
       "      <td>d7hyzs16</td>\n",
       "      <td>POLYGON ((-71.73891 18.08392, -71.73891 18.083...</td>\n",
       "      <td>{'xmin': -71.7389593761971, 'ymin': 18.0839181...</td>\n",
       "    </tr>\n",
       "    <tr>\n",
       "      <th>3</th>\n",
       "      <td>46</td>\n",
       "      <td>google</td>\n",
       "      <td>0.7250</td>\n",
       "      <td>34.8499</td>\n",
       "      <td>-8358680908399640576</td>\n",
       "      <td>HTI</td>\n",
       "      <td>d7hyzs4r</td>\n",
       "      <td>POLYGON ((-71.73744 18.08483, -71.73745 18.084...</td>\n",
       "      <td>{'xmin': -71.7375028683806, 'ymin': 18.0848225...</td>\n",
       "    </tr>\n",
       "    <tr>\n",
       "      <th>4</th>\n",
       "      <td>46</td>\n",
       "      <td>google</td>\n",
       "      <td>0.6822</td>\n",
       "      <td>20.9196</td>\n",
       "      <td>-8358680908399640576</td>\n",
       "      <td>HTI</td>\n",
       "      <td>d7hyzs98</td>\n",
       "      <td>POLYGON ((-71.73847 18.08624, -71.73847 18.086...</td>\n",
       "      <td>{'xmin': -71.7385125967971, 'ymin': 18.0862357...</td>\n",
       "    </tr>\n",
       "  </tbody>\n",
       "</table>\n",
       "</div>"
      ],
      "text/plain": [
       "   boundary_id bf_source  confidence  area_in_meters                s2_id  \\\n",
       "0           46    google      0.8859         72.1027 -8358680908399640576   \n",
       "1           46    google      0.7450         15.3979 -8358680908399640576   \n",
       "2           46    google      0.6963         19.8751 -8358680908399640576   \n",
       "3           46    google      0.7250         34.8499 -8358680908399640576   \n",
       "4           46    google      0.6822         20.9196 -8358680908399640576   \n",
       "\n",
       "  country_iso   geohash                                           geometry  \\\n",
       "0         HTI  d7hyzef7  POLYGON ((-71.73728 18.08274, -71.7373 18.0828...   \n",
       "1         HTI  d7hyzs16  POLYGON ((-71.73892 18.08389, -71.73891 18.083...   \n",
       "2         HTI  d7hyzs16  POLYGON ((-71.73891 18.08392, -71.73891 18.083...   \n",
       "3         HTI  d7hyzs4r  POLYGON ((-71.73744 18.08483, -71.73745 18.084...   \n",
       "4         HTI  d7hyzs98  POLYGON ((-71.73847 18.08624, -71.73847 18.086...   \n",
       "\n",
       "                                                bbox  \n",
       "0  {'xmin': -71.737376442709, 'ymin': 18.08271951...  \n",
       "1  {'xmin': -71.7389615903488, 'ymin': 18.0838892...  \n",
       "2  {'xmin': -71.7389593761971, 'ymin': 18.0839181...  \n",
       "3  {'xmin': -71.7375028683806, 'ymin': 18.0848225...  \n",
       "4  {'xmin': -71.7385125967971, 'ymin': 18.0862357...  "
      ]
     },
     "execution_count": 9,
     "metadata": {},
     "output_type": "execute_result"
    }
   ],
   "source": [
    "bldg_ddf.head(5)"
   ]
  },
  {
   "cell_type": "code",
   "execution_count": 62,
   "id": "977e4821-f5c6-4786-9f23-3383d0b3c0db",
   "metadata": {},
   "outputs": [
    {
     "data": {
      "text/plain": [
       "boundary_id       4274765\n",
       "bf_source         4274765\n",
       "confidence        3971240\n",
       "area_in_meters    4274765\n",
       "s2_id             4274765\n",
       "country_iso       4274765\n",
       "geohash           4274765\n",
       "geometry          4274765\n",
       "bbox              4274765\n",
       "dtype: int64"
      ]
     },
     "execution_count": 62,
     "metadata": {},
     "output_type": "execute_result"
    }
   ],
   "source": [
    "bldg_ddf.count().compute()"
   ]
  },
  {
   "cell_type": "markdown",
   "id": "f64b23e4-3d0a-4509-bde9-aabf33dcabdd",
   "metadata": {},
   "source": [
    "### Task 1. Plot the histogram of the area of all buildings provided by Microsoft as the source."
   ]
  },
  {
   "cell_type": "code",
   "execution_count": 10,
   "id": "97569201-d7c7-4653-acc7-88e57898613e",
   "metadata": {},
   "outputs": [],
   "source": [
    "bldg_ddf_microsoft = bldg_ddf[bldg_ddf['bf_source'] == 'microsoft']"
   ]
  },
  {
   "cell_type": "code",
   "execution_count": 11,
   "id": "103d1247-d03a-4b96-9c22-b1c00eca8134",
   "metadata": {},
   "outputs": [
    {
     "data": {
      "text/plain": [
       "303525"
      ]
     },
     "execution_count": 11,
     "metadata": {},
     "output_type": "execute_result"
    }
   ],
   "source": [
    "bldg_ddf_microsoft.shape[0].compute()"
   ]
  },
  {
   "cell_type": "code",
   "execution_count": 12,
   "id": "5e93c9e0-3e5f-4311-bab9-90033f67eee5",
   "metadata": {},
   "outputs": [],
   "source": [
    "binLength = len(bldg_ddf_microsoft) // 3000"
   ]
  },
  {
   "cell_type": "markdown",
   "id": "425cf777-c2e6-4a80-bc46-6f491d5390fc",
   "metadata": {},
   "source": [
    "#### Regular output (minus the outlier, so data is easier to see)"
   ]
  },
  {
   "cell_type": "code",
   "execution_count": 21,
   "id": "0ea4e899-516a-4362-8d62-82e975f58ccf",
   "metadata": {},
   "outputs": [
    {
     "data": {
      "image/png": "[encoded data removed]",
      "text/plain": [
       "<Figure size 640x480 with 1 Axes>"
      ]
     },
     "metadata": {},
     "output_type": "display_data"
    }
   ],
   "source": [
    "bldg_ddf_microsoft_sorted = bldg_ddf_microsoft.sort_values(by='area_in_meters', ascending=False).compute()\n",
    "bldg_ddf_microsoft_filtered = bldg_ddf_microsoft_sorted.drop(bldg_ddf_microsoft_sorted.index[0])\n",
    "\n",
    "plt.hist(bldg_ddf_microsoft_filtered['area_in_meters'], bins = 5000, edgecolor='black')\n",
    "plt.xlim([0, 400])\n",
    "plt.xlabel('Area (in meters)')\n",
    "plt.ylabel('Frequency')\n",
    "plt.title('area_in_meters for Microsoft Buildings (Minus Outlier)')\n",
    "plt.show()"
   ]
  },
  {
   "cell_type": "markdown",
   "id": "6b81c8d7-bd81-46e1-9ee7-9141b2e4174d",
   "metadata": {},
   "source": [
    "#### To handle the skew (including the outlier)"
   ]
  },
  {
   "cell_type": "code",
   "execution_count": 22,
   "id": "1d0d6a0a-8b65-499a-84cb-9ae6a2de31c6",
   "metadata": {},
   "outputs": [
    {
     "data": {
      "image/png": "[encoded data removed]",
      "text/plain": [
       "<Figure size 640x480 with 1 Axes>"
      ]
     },
     "metadata": {},
     "output_type": "display_data"
    }
   ],
   "source": [
    "bldg_ddf_microsoft['new_AreaInMeters'] = np.log1p(bldg_ddf_microsoft['area_in_meters'])\n",
    "\n",
    "plt.hist(bldg_ddf_microsoft['new_AreaInMeters'], bins = binLength, edgecolor='black')\n",
    "plt.xlabel('Log Area (in meters)')\n",
    "plt.ylabel('Frequency')\n",
    "plt.title('log area_in_meters for Microsoft Buildings')\n",
    "plt.show()"
   ]
  },
  {
   "cell_type": "markdown",
   "id": "212e7de9-0349-4890-a84a-aee81c30d177",
   "metadata": {},
   "source": [
    "### Task 2. Count the number of building footprints that intersect with each other.\n"
   ]
  },
  {
   "cell_type": "code",
   "execution_count": 11,
   "id": "10508cb3-003e-47f3-96af-595777d51d9a",
   "metadata": {},
   "outputs": [
    {
     "name": "stdout",
     "output_type": "stream",
     "text": [
      "The entire dataframe has: 4274765 rows\n"
     ]
    }
   ],
   "source": [
    "rows = bldg_ddf.shape[0].compute()\n",
    "print(f\"The entire dataframe has: {rows} rows\")"
   ]
  },
  {
   "cell_type": "code",
   "execution_count": 12,
   "id": "a7330c23-32d8-46f7-b8da-136a03c81ba6",
   "metadata": {},
   "outputs": [
    {
     "name": "stdout",
     "output_type": "stream",
     "text": [
      "Total number of building footprints that intersect with each other: 1988984\n"
     ]
    }
   ],
   "source": [
    "bldg_ddf_intersections = dg.sjoin(bldg_ddf, bldg_ddf, how='inner', predicate='intersects')\n",
    "count = (bldg_ddf_intersections.shape[0].compute()) - rows   #minus rows will subtract all self-counts\n",
    "print(f\"Total number of building footprints that intersect with each other: {count}\")"
   ]
  },
  {
   "cell_type": "markdown",
   "id": "8ee2dd91-0881-45c0-8b3e-12b9fd3c0ff4",
   "metadata": {},
   "source": [
    "### Task 3. From the intersecting building footprints, calculate how many:\n",
    "\n",
    "- Google building footprints intersect another Google building footprint\n",
    "\n",
    "- Microsoft building footprints intersect another Microsoft building footprint\n",
    "\n",
    "- Google building footprints intersect a Microsoft building footprint"
   ]
  },
  {
   "cell_type": "markdown",
   "id": "377f29b7-f2a5-4fd0-8727-e6b88b2ea186",
   "metadata": {},
   "source": [
    "#### Remove the repeated self-count intersections (USED ONLY FOR DATA VERIFICATION)"
   ]
  },
  {
   "cell_type": "code",
   "execution_count": 13,
   "id": "08cff55b-1824-44e4-b52f-5977e4be8a9a",
   "metadata": {},
   "outputs": [],
   "source": [
    "bldg_ddf_intersections = bldg_ddf_intersections.loc[bldg_ddf_intersections['index_right'] != bldg_ddf_intersections.index]"
   ]
  },
  {
   "cell_type": "code",
   "execution_count": 16,
   "id": "017c3e4e-804d-48fe-9424-4adc0b1e67c6",
   "metadata": {},
   "outputs": [
    {
     "name": "stderr",
     "output_type": "stream",
     "text": [
      "2024-11-25 21:02:25,680 - distributed.worker.memory - WARNING - Unmanaged memory use is high. This may indicate a memory leak or the memory may not be released to the OS; see https://distributed.dask.org/en/latest/worker-memory.html#memory-not-released-back-to-the-os for more information. -- Unmanaged memory: 3.86 GiB -- Worker memory limit: 5.84 GiB\n"
     ]
    },
    {
     "data": {
      "text/plain": [
       "1988984"
      ]
     },
     "execution_count": 16,
     "metadata": {},
     "output_type": "execute_result"
    }
   ],
   "source": [
    "bldg_ddf_intersections.shape[0].compute()"
   ]
  },
  {
   "cell_type": "markdown",
   "id": "c5bdcfe4-e5bf-4a4c-9156-bca6e351f4ae",
   "metadata": {},
   "source": [
    "#### Grab the google rows:"
   ]
  },
  {
   "cell_type": "code",
   "execution_count": 11,
   "id": "22309383-92fa-4ad8-b24f-176b62fb7c51",
   "metadata": {},
   "outputs": [],
   "source": [
    "bldg_ddf_google = bldg_ddf[bldg_ddf['bf_source'] == 'google']"
   ]
  },
  {
   "cell_type": "markdown",
   "id": "459dfe2e-f68c-4679-a8b9-dedc877ca5ee",
   "metadata": {},
   "source": [
    "#### Already got the microsoft rows:"
   ]
  },
  {
   "cell_type": "code",
   "execution_count": null,
   "id": "abf4f4e7-2b29-4484-ac5b-3195de80e51a",
   "metadata": {},
   "outputs": [],
   "source": [
    "bldg_ddf_microsoft"
   ]
  },
  {
   "cell_type": "markdown",
   "id": "64bbb9e1-635b-418c-a5c4-e9c31547127c",
   "metadata": {},
   "source": [
    "### Calculate the number of Google building footprints intersecting another Google building footprint"
   ]
  },
  {
   "cell_type": "code",
   "execution_count": 14,
   "id": "3faca2f3-61a9-413f-9f1c-660c982fadee",
   "metadata": {},
   "outputs": [
    {
     "name": "stdout",
     "output_type": "stream",
     "text": [
      "Total number of Google building footprints that intersect with another Google building footprint: 1987914\n"
     ]
    }
   ],
   "source": [
    "# do a join for google on google,\n",
    "# remove repeats\n",
    "\n",
    "# if had enough RAM can try (my set-up only has 12):\n",
    "# bldg_ddf_google_intersections = dg.sjoin(bldg_ddf_google, bldg_ddf_google, how='inner', predicate='intersects')\n",
    "# bldg_ddf_intersections = bldg_ddf_intersections.loc[bldg_ddf_intersections['index_right'] != bldg_ddf_intersections.index]\n",
    "# count = bldg_ddf_intersections.shape[0].compute()\n",
    "\n",
    "# If low on ram:\n",
    "bldg_ddf_google_intersections = dg.sjoin(bldg_ddf_google, bldg_ddf_google, how='inner', predicate='intersects')\n",
    "rows = bldg_ddf_google.shape[0].compute()\n",
    "count = (bldg_ddf_google_intersections.shape[0].compute()) - rows   #minus rows will subtract all self-counts\n",
    "\n",
    "     \n",
    "print(f\"Total number of Google building footprints that intersect with another Google building footprint: {count}\")"
   ]
  },
  {
   "cell_type": "markdown",
   "id": "ac05c9c8-0fc4-4db5-a84f-dede568eab1f",
   "metadata": {},
   "source": [
    "### Calculate the number of Microsoft building footprints intersecting another Microsoft building footprint"
   ]
  },
  {
   "cell_type": "code",
   "execution_count": 12,
   "id": "ad0797f0-7aba-4da9-a28d-b6d305829502",
   "metadata": {},
   "outputs": [
    {
     "name": "stdout",
     "output_type": "stream",
     "text": [
      "Total number of Microsoft building footprints that intersect with another Microsoft building footprint: 1070\n"
     ]
    }
   ],
   "source": [
    "# do a join for microsoft on microsoft\n",
    "# remove repeats\n",
    "\n",
    "# If low on ram:\n",
    "bldg_ddf_microsoft_intersections = dg.sjoin(bldg_ddf_microsoft, bldg_ddf_microsoft, how='inner', predicate='intersects')\n",
    "rows = bldg_ddf_microsoft.shape[0].compute()\n",
    "count = (bldg_ddf_microsoft_intersections.shape[0].compute()) - rows   #minus rows will subtract all self-counts\n",
    "\n",
    "     \n",
    "print(f\"Total number of Microsoft building footprints that intersect with another Microsoft building footprint: {count}\")"
   ]
  },
  {
   "cell_type": "markdown",
   "id": "6e8b4f86-fdb7-4e8f-b94e-a32c5209ac07",
   "metadata": {},
   "source": [
    "### Calculate the number of Google building footprints intersection a Microsoft building footprint"
   ]
  },
  {
   "cell_type": "code",
   "execution_count": 13,
   "id": "9a365a43-ff59-41b2-a07e-d3de7ebdcb2a",
   "metadata": {},
   "outputs": [
    {
     "name": "stdout",
     "output_type": "stream",
     "text": [
      "Total number of Google building footprints that intersect with a Microsoft building footprint: 0\n"
     ]
    }
   ],
   "source": [
    "# do a join for google on microsoft\n",
    "\n",
    "# If low on ram:\n",
    "bldg_ddf_google_microsoft_intersections = dg.sjoin(bldg_ddf_google, bldg_ddf_microsoft, how='inner', predicate='intersects')\n",
    "count = (bldg_ddf_google_microsoft_intersections.shape[0].compute())\n",
    "\n",
    "     \n",
    "print(f\"Total number of Google building footprints that intersect with a Microsoft building footprint: {count}\")"
   ]
  }
 ],
 "metadata": {
  "kernelspec": {
   "display_name": "Python 3 (ipykernel)",
   "language": "python",
   "name": "python3"
  },
  "language_info": {
   "codemirror_mode": {
    "name": "ipython",
    "version": 3
   },
   "file_extension": ".py",
   "mimetype": "text/x-python",
   "name": "python",
   "nbconvert_exporter": "python",
   "pygments_lexer": "ipython3",
   "version": "3.12.7"
  }
 },
 "nbformat": 4,
 "nbformat_minor": 5
}
